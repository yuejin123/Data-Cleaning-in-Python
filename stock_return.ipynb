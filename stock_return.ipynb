{
 "cells": [
  {
   "cell_type": "markdown",
   "metadata": {},
   "source": [
    "# Set up"
   ]
  },
  {
   "cell_type": "code",
   "execution_count": 1,
   "metadata": {},
   "outputs": [],
   "source": [
    "import pandas as pd\n",
    "import hmmlearn as hmm\n",
    "import numpy as np\n",
    "from scipy import stats\n",
    "import matplotlib.pyplot as plt\n",
    "import statsmodels.api as sm\n",
    "import seaborn as sns"
   ]
  },
  {
   "cell_type": "code",
   "execution_count": 2,
   "metadata": {},
   "outputs": [],
   "source": [
    "raw_data = pd.read_csv('returns_20181228.csv',index_col='Date')"
   ]
  },
  {
   "cell_type": "markdown",
   "metadata": {},
   "source": [
    "The dataset includes in total 1140 stocks and 998 trading days"
   ]
  },
  {
   "cell_type": "code",
   "execution_count": 3,
   "metadata": {},
   "outputs": [],
   "source": [
    "raw_data.index = pd.to_datetime(raw_data.index)"
   ]
  },
  {
   "cell_type": "code",
   "execution_count": 4,
   "metadata": {},
   "outputs": [
    {
     "name": "stdout",
     "output_type": "stream",
     "text": [
      "(998, 1140)\n"
     ]
    },
    {
     "data": {
      "text/html": [
       "<div>\n",
       "<style scoped>\n",
       "    .dataframe tbody tr th:only-of-type {\n",
       "        vertical-align: middle;\n",
       "    }\n",
       "\n",
       "    .dataframe tbody tr th {\n",
       "        vertical-align: top;\n",
       "    }\n",
       "\n",
       "    .dataframe thead th {\n",
       "        text-align: right;\n",
       "    }\n",
       "</style>\n",
       "<table border=\"1\" class=\"dataframe\">\n",
       "  <thead>\n",
       "    <tr style=\"text-align: right;\">\n",
       "      <th></th>\n",
       "      <th>stock_0</th>\n",
       "      <th>stock_1</th>\n",
       "      <th>stock_2</th>\n",
       "      <th>stock_3</th>\n",
       "      <th>stock_4</th>\n",
       "      <th>stock_5</th>\n",
       "      <th>stock_6</th>\n",
       "      <th>stock_7</th>\n",
       "      <th>stock_8</th>\n",
       "      <th>stock_9</th>\n",
       "      <th>...</th>\n",
       "      <th>stock_1131</th>\n",
       "      <th>stock_1132</th>\n",
       "      <th>stock_1133</th>\n",
       "      <th>stock_1134</th>\n",
       "      <th>stock_1135</th>\n",
       "      <th>stock_1136</th>\n",
       "      <th>stock_1137</th>\n",
       "      <th>stock_1138</th>\n",
       "      <th>stock_1139</th>\n",
       "      <th>stock_1140</th>\n",
       "    </tr>\n",
       "    <tr>\n",
       "      <th>Date</th>\n",
       "      <th></th>\n",
       "      <th></th>\n",
       "      <th></th>\n",
       "      <th></th>\n",
       "      <th></th>\n",
       "      <th></th>\n",
       "      <th></th>\n",
       "      <th></th>\n",
       "      <th></th>\n",
       "      <th></th>\n",
       "      <th></th>\n",
       "      <th></th>\n",
       "      <th></th>\n",
       "      <th></th>\n",
       "      <th></th>\n",
       "      <th></th>\n",
       "      <th></th>\n",
       "      <th></th>\n",
       "      <th></th>\n",
       "      <th></th>\n",
       "      <th></th>\n",
       "    </tr>\n",
       "  </thead>\n",
       "  <tbody>\n",
       "    <tr>\n",
       "      <th>1990-01-03</th>\n",
       "      <td>-0.561639</td>\n",
       "      <td>0.113423</td>\n",
       "      <td>-1.580584</td>\n",
       "      <td>-0.017527</td>\n",
       "      <td>1.055723</td>\n",
       "      <td>1.306785</td>\n",
       "      <td>-0.692687</td>\n",
       "      <td>1.303057</td>\n",
       "      <td>-0.243042</td>\n",
       "      <td>0.081520</td>\n",
       "      <td>...</td>\n",
       "      <td>1.410213</td>\n",
       "      <td>-0.307705</td>\n",
       "      <td>0.829215</td>\n",
       "      <td>-0.505364</td>\n",
       "      <td>0.232976</td>\n",
       "      <td>-0.393465</td>\n",
       "      <td>-0.471561</td>\n",
       "      <td>-0.308961</td>\n",
       "      <td>-0.202832</td>\n",
       "      <td>-0.205398</td>\n",
       "    </tr>\n",
       "    <tr>\n",
       "      <th>1990-01-04</th>\n",
       "      <td>-1.841947</td>\n",
       "      <td>0.463435</td>\n",
       "      <td>-1.172764</td>\n",
       "      <td>0.513875</td>\n",
       "      <td>2.470817</td>\n",
       "      <td>0.463057</td>\n",
       "      <td>0.427191</td>\n",
       "      <td>-0.737959</td>\n",
       "      <td>1.455408</td>\n",
       "      <td>0.971196</td>\n",
       "      <td>...</td>\n",
       "      <td>-0.656517</td>\n",
       "      <td>-1.327001</td>\n",
       "      <td>0.770307</td>\n",
       "      <td>0.485192</td>\n",
       "      <td>-0.199085</td>\n",
       "      <td>-0.590958</td>\n",
       "      <td>-0.513262</td>\n",
       "      <td>0.369685</td>\n",
       "      <td>-0.549467</td>\n",
       "      <td>0.279644</td>\n",
       "    </tr>\n",
       "    <tr>\n",
       "      <th>1990-01-05</th>\n",
       "      <td>-0.277859</td>\n",
       "      <td>0.216396</td>\n",
       "      <td>-0.429848</td>\n",
       "      <td>0.802112</td>\n",
       "      <td>2.686740</td>\n",
       "      <td>0.059472</td>\n",
       "      <td>-0.895917</td>\n",
       "      <td>-0.785620</td>\n",
       "      <td>0.022776</td>\n",
       "      <td>-1.336882</td>\n",
       "      <td>...</td>\n",
       "      <td>0.098997</td>\n",
       "      <td>0.197211</td>\n",
       "      <td>-2.003799</td>\n",
       "      <td>2.101860</td>\n",
       "      <td>0.442342</td>\n",
       "      <td>-0.677487</td>\n",
       "      <td>-0.955708</td>\n",
       "      <td>0.926602</td>\n",
       "      <td>-0.762952</td>\n",
       "      <td>2.046626</td>\n",
       "    </tr>\n",
       "    <tr>\n",
       "      <th>1990-01-08</th>\n",
       "      <td>-0.881483</td>\n",
       "      <td>1.867996</td>\n",
       "      <td>-1.659936</td>\n",
       "      <td>0.313561</td>\n",
       "      <td>0.868181</td>\n",
       "      <td>-1.923021</td>\n",
       "      <td>-1.788387</td>\n",
       "      <td>2.902709</td>\n",
       "      <td>0.600026</td>\n",
       "      <td>-0.943956</td>\n",
       "      <td>...</td>\n",
       "      <td>-0.366244</td>\n",
       "      <td>0.480905</td>\n",
       "      <td>-0.780784</td>\n",
       "      <td>-0.131875</td>\n",
       "      <td>-0.657870</td>\n",
       "      <td>-1.526045</td>\n",
       "      <td>-0.140225</td>\n",
       "      <td>1.410707</td>\n",
       "      <td>0.168989</td>\n",
       "      <td>0.787590</td>\n",
       "    </tr>\n",
       "    <tr>\n",
       "      <th>1990-01-09</th>\n",
       "      <td>-0.534578</td>\n",
       "      <td>0.413210</td>\n",
       "      <td>0.004407</td>\n",
       "      <td>1.223128</td>\n",
       "      <td>0.972728</td>\n",
       "      <td>1.420754</td>\n",
       "      <td>1.864039</td>\n",
       "      <td>1.564482</td>\n",
       "      <td>0.243046</td>\n",
       "      <td>1.345295</td>\n",
       "      <td>...</td>\n",
       "      <td>1.469816</td>\n",
       "      <td>0.017081</td>\n",
       "      <td>-1.603788</td>\n",
       "      <td>-2.895389</td>\n",
       "      <td>0.540079</td>\n",
       "      <td>-1.126372</td>\n",
       "      <td>-1.737689</td>\n",
       "      <td>1.036790</td>\n",
       "      <td>1.243899</td>\n",
       "      <td>0.069950</td>\n",
       "    </tr>\n",
       "  </tbody>\n",
       "</table>\n",
       "<p>5 rows × 1140 columns</p>\n",
       "</div>"
      ],
      "text/plain": [
       "             stock_0   stock_1   stock_2   stock_3   stock_4   stock_5  \\\n",
       "Date                                                                     \n",
       "1990-01-03 -0.561639  0.113423 -1.580584 -0.017527  1.055723  1.306785   \n",
       "1990-01-04 -1.841947  0.463435 -1.172764  0.513875  2.470817  0.463057   \n",
       "1990-01-05 -0.277859  0.216396 -0.429848  0.802112  2.686740  0.059472   \n",
       "1990-01-08 -0.881483  1.867996 -1.659936  0.313561  0.868181 -1.923021   \n",
       "1990-01-09 -0.534578  0.413210  0.004407  1.223128  0.972728  1.420754   \n",
       "\n",
       "             stock_6   stock_7   stock_8   stock_9     ...      stock_1131  \\\n",
       "Date                                                   ...                   \n",
       "1990-01-03 -0.692687  1.303057 -0.243042  0.081520     ...        1.410213   \n",
       "1990-01-04  0.427191 -0.737959  1.455408  0.971196     ...       -0.656517   \n",
       "1990-01-05 -0.895917 -0.785620  0.022776 -1.336882     ...        0.098997   \n",
       "1990-01-08 -1.788387  2.902709  0.600026 -0.943956     ...       -0.366244   \n",
       "1990-01-09  1.864039  1.564482  0.243046  1.345295     ...        1.469816   \n",
       "\n",
       "            stock_1132  stock_1133  stock_1134  stock_1135  stock_1136  \\\n",
       "Date                                                                     \n",
       "1990-01-03   -0.307705    0.829215   -0.505364    0.232976   -0.393465   \n",
       "1990-01-04   -1.327001    0.770307    0.485192   -0.199085   -0.590958   \n",
       "1990-01-05    0.197211   -2.003799    2.101860    0.442342   -0.677487   \n",
       "1990-01-08    0.480905   -0.780784   -0.131875   -0.657870   -1.526045   \n",
       "1990-01-09    0.017081   -1.603788   -2.895389    0.540079   -1.126372   \n",
       "\n",
       "            stock_1137  stock_1138  stock_1139  stock_1140  \n",
       "Date                                                        \n",
       "1990-01-03   -0.471561   -0.308961   -0.202832   -0.205398  \n",
       "1990-01-04   -0.513262    0.369685   -0.549467    0.279644  \n",
       "1990-01-05   -0.955708    0.926602   -0.762952    2.046626  \n",
       "1990-01-08   -0.140225    1.410707    0.168989    0.787590  \n",
       "1990-01-09   -1.737689    1.036790    1.243899    0.069950  \n",
       "\n",
       "[5 rows x 1140 columns]"
      ]
     },
     "execution_count": 4,
     "metadata": {},
     "output_type": "execute_result"
    }
   ],
   "source": [
    "print(raw_data.shape)\n",
    "\n",
    "raw_data.head()"
   ]
  },
  {
   "cell_type": "markdown",
   "metadata": {},
   "source": [
    "# Data Preprocessing"
   ]
  },
  {
   "cell_type": "markdown",
   "metadata": {},
   "source": [
    "## Missing data "
   ]
  },
  {
   "cell_type": "markdown",
   "metadata": {},
   "source": [
    "There can be multiple forms of missing data:\n",
    "\n",
    "\n",
    "1. Missing dates: 1992-04-21\n",
    "\n",
    "2. Constant values(0) for an extended period, probably due to stock delisting or company bankruptcy. These stocks should be removed\n",
    "\n",
    "3. NA values"
   ]
  },
  {
   "cell_type": "markdown",
   "metadata": {},
   "source": [
    "### Missing dates"
   ]
  },
  {
   "cell_type": "markdown",
   "metadata": {},
   "source": [
    "1. **1992-04-21 data is missing in this dataset**\n",
    "\n",
    "2. The dates in this dataset do not follow NYSE trading calendar and instead follows business calendar"
   ]
  },
  {
   "cell_type": "code",
   "execution_count": 5,
   "metadata": {},
   "outputs": [
    {
     "name": "stdout",
     "output_type": "stream",
     "text": [
      "There are  999 business days between start date and ending date of the dataset\n"
     ]
    }
   ],
   "source": [
    "business_calendar=pd.date_range(raw_data.index[0],raw_data.index[-1],freq='B')\n",
    "print('There are ',len(business_calendar),'business days between start date and ending date of the dataset')\n",
    "\n"
   ]
  },
  {
   "cell_type": "code",
   "execution_count": 6,
   "metadata": {},
   "outputs": [
    {
     "data": {
      "text/plain": [
       "DatetimeIndex(['1992-04-21'], dtype='datetime64[ns]', freq=None)"
      ]
     },
     "execution_count": 6,
     "metadata": {},
     "output_type": "execute_result"
    }
   ],
   "source": [
    "business_calendar.difference(raw_data.index)"
   ]
  },
  {
   "cell_type": "markdown",
   "metadata": {},
   "source": [
    "### Constant values"
   ]
  },
  {
   "cell_type": "markdown",
   "metadata": {},
   "source": [
    "Identify consecutive duplicates in a list"
   ]
  },
  {
   "cell_type": "code",
   "execution_count": 6,
   "metadata": {},
   "outputs": [
    {
     "data": {
      "text/plain": [
       "[(1, 3), (2, 2), (3, 1)]"
      ]
     },
     "execution_count": 6,
     "metadata": {},
     "output_type": "execute_result"
    }
   ],
   "source": [
    "[(k,sum(1 for i in g)) for k,g in groupby([1,1,1,2,2,3])]"
   ]
  },
  {
   "cell_type": "code",
   "execution_count": 1,
   "metadata": {},
   "outputs": [],
   "source": [
    "from itertools import groupby\n",
    "def num_constants(L):\n",
    "    # number of consecutive duplicates in a list\n",
    "    res = [(k,sum(1 for i in g)) for k,g in groupby(L)]\n",
    "    # return max number of duplicates\n",
    "    return sorted(res,key=lambda x: x[1],reverse=True)[0][1]\n"
   ]
  },
  {
   "cell_type": "markdown",
   "metadata": {},
   "source": [
    "**110** stocks are delisted during the time period of the dataset and should be removed"
   ]
  },
  {
   "cell_type": "code",
   "execution_count": 8,
   "metadata": {},
   "outputs": [
    {
     "name": "stdout",
     "output_type": "stream",
     "text": [
      "(998, 110)\n"
     ]
    },
    {
     "data": {
      "text/html": [
       "<div>\n",
       "<style scoped>\n",
       "    .dataframe tbody tr th:only-of-type {\n",
       "        vertical-align: middle;\n",
       "    }\n",
       "\n",
       "    .dataframe tbody tr th {\n",
       "        vertical-align: top;\n",
       "    }\n",
       "\n",
       "    .dataframe thead th {\n",
       "        text-align: right;\n",
       "    }\n",
       "</style>\n",
       "<table border=\"1\" class=\"dataframe\">\n",
       "  <thead>\n",
       "    <tr style=\"text-align: right;\">\n",
       "      <th></th>\n",
       "      <th>stock_5</th>\n",
       "      <th>stock_40</th>\n",
       "      <th>stock_54</th>\n",
       "      <th>stock_71</th>\n",
       "      <th>stock_74</th>\n",
       "      <th>stock_78</th>\n",
       "      <th>stock_82</th>\n",
       "      <th>stock_86</th>\n",
       "      <th>stock_90</th>\n",
       "      <th>stock_95</th>\n",
       "      <th>...</th>\n",
       "      <th>stock_900</th>\n",
       "      <th>stock_917</th>\n",
       "      <th>stock_931</th>\n",
       "      <th>stock_934</th>\n",
       "      <th>stock_936</th>\n",
       "      <th>stock_942</th>\n",
       "      <th>stock_973</th>\n",
       "      <th>stock_988</th>\n",
       "      <th>stock_992</th>\n",
       "      <th>stock_993</th>\n",
       "    </tr>\n",
       "    <tr>\n",
       "      <th>Date</th>\n",
       "      <th></th>\n",
       "      <th></th>\n",
       "      <th></th>\n",
       "      <th></th>\n",
       "      <th></th>\n",
       "      <th></th>\n",
       "      <th></th>\n",
       "      <th></th>\n",
       "      <th></th>\n",
       "      <th></th>\n",
       "      <th></th>\n",
       "      <th></th>\n",
       "      <th></th>\n",
       "      <th></th>\n",
       "      <th></th>\n",
       "      <th></th>\n",
       "      <th></th>\n",
       "      <th></th>\n",
       "      <th></th>\n",
       "      <th></th>\n",
       "      <th></th>\n",
       "    </tr>\n",
       "  </thead>\n",
       "  <tbody>\n",
       "    <tr>\n",
       "      <th>1993-10-19</th>\n",
       "      <td>0.0</td>\n",
       "      <td>0.0</td>\n",
       "      <td>0.0</td>\n",
       "      <td>0.0</td>\n",
       "      <td>0.0</td>\n",
       "      <td>0.0</td>\n",
       "      <td>0.909097</td>\n",
       "      <td>0.0</td>\n",
       "      <td>0.0</td>\n",
       "      <td>0.0</td>\n",
       "      <td>...</td>\n",
       "      <td>0.0</td>\n",
       "      <td>0.0</td>\n",
       "      <td>0.0</td>\n",
       "      <td>0.0</td>\n",
       "      <td>0.0</td>\n",
       "      <td>0.0</td>\n",
       "      <td>0.0</td>\n",
       "      <td>0.0</td>\n",
       "      <td>0.0</td>\n",
       "      <td>0.0</td>\n",
       "    </tr>\n",
       "    <tr>\n",
       "      <th>1993-10-20</th>\n",
       "      <td>0.0</td>\n",
       "      <td>0.0</td>\n",
       "      <td>0.0</td>\n",
       "      <td>0.0</td>\n",
       "      <td>0.0</td>\n",
       "      <td>0.0</td>\n",
       "      <td>0.264709</td>\n",
       "      <td>0.0</td>\n",
       "      <td>0.0</td>\n",
       "      <td>0.0</td>\n",
       "      <td>...</td>\n",
       "      <td>0.0</td>\n",
       "      <td>0.0</td>\n",
       "      <td>0.0</td>\n",
       "      <td>0.0</td>\n",
       "      <td>0.0</td>\n",
       "      <td>0.0</td>\n",
       "      <td>0.0</td>\n",
       "      <td>0.0</td>\n",
       "      <td>0.0</td>\n",
       "      <td>0.0</td>\n",
       "    </tr>\n",
       "    <tr>\n",
       "      <th>1993-10-21</th>\n",
       "      <td>0.0</td>\n",
       "      <td>0.0</td>\n",
       "      <td>0.0</td>\n",
       "      <td>0.0</td>\n",
       "      <td>0.0</td>\n",
       "      <td>0.0</td>\n",
       "      <td>-1.813616</td>\n",
       "      <td>0.0</td>\n",
       "      <td>0.0</td>\n",
       "      <td>0.0</td>\n",
       "      <td>...</td>\n",
       "      <td>0.0</td>\n",
       "      <td>0.0</td>\n",
       "      <td>0.0</td>\n",
       "      <td>0.0</td>\n",
       "      <td>0.0</td>\n",
       "      <td>0.0</td>\n",
       "      <td>0.0</td>\n",
       "      <td>0.0</td>\n",
       "      <td>0.0</td>\n",
       "      <td>0.0</td>\n",
       "    </tr>\n",
       "    <tr>\n",
       "      <th>1993-10-22</th>\n",
       "      <td>0.0</td>\n",
       "      <td>0.0</td>\n",
       "      <td>0.0</td>\n",
       "      <td>0.0</td>\n",
       "      <td>0.0</td>\n",
       "      <td>0.0</td>\n",
       "      <td>0.000000</td>\n",
       "      <td>0.0</td>\n",
       "      <td>0.0</td>\n",
       "      <td>0.0</td>\n",
       "      <td>...</td>\n",
       "      <td>0.0</td>\n",
       "      <td>0.0</td>\n",
       "      <td>0.0</td>\n",
       "      <td>0.0</td>\n",
       "      <td>0.0</td>\n",
       "      <td>0.0</td>\n",
       "      <td>0.0</td>\n",
       "      <td>0.0</td>\n",
       "      <td>0.0</td>\n",
       "      <td>0.0</td>\n",
       "    </tr>\n",
       "    <tr>\n",
       "      <th>1993-10-25</th>\n",
       "      <td>0.0</td>\n",
       "      <td>0.0</td>\n",
       "      <td>0.0</td>\n",
       "      <td>0.0</td>\n",
       "      <td>0.0</td>\n",
       "      <td>0.0</td>\n",
       "      <td>0.000000</td>\n",
       "      <td>0.0</td>\n",
       "      <td>0.0</td>\n",
       "      <td>0.0</td>\n",
       "      <td>...</td>\n",
       "      <td>0.0</td>\n",
       "      <td>0.0</td>\n",
       "      <td>0.0</td>\n",
       "      <td>0.0</td>\n",
       "      <td>0.0</td>\n",
       "      <td>0.0</td>\n",
       "      <td>0.0</td>\n",
       "      <td>0.0</td>\n",
       "      <td>0.0</td>\n",
       "      <td>0.0</td>\n",
       "    </tr>\n",
       "    <tr>\n",
       "      <th>1993-10-26</th>\n",
       "      <td>0.0</td>\n",
       "      <td>0.0</td>\n",
       "      <td>0.0</td>\n",
       "      <td>0.0</td>\n",
       "      <td>0.0</td>\n",
       "      <td>0.0</td>\n",
       "      <td>0.000000</td>\n",
       "      <td>0.0</td>\n",
       "      <td>0.0</td>\n",
       "      <td>0.0</td>\n",
       "      <td>...</td>\n",
       "      <td>0.0</td>\n",
       "      <td>0.0</td>\n",
       "      <td>0.0</td>\n",
       "      <td>0.0</td>\n",
       "      <td>0.0</td>\n",
       "      <td>0.0</td>\n",
       "      <td>0.0</td>\n",
       "      <td>0.0</td>\n",
       "      <td>0.0</td>\n",
       "      <td>0.0</td>\n",
       "    </tr>\n",
       "    <tr>\n",
       "      <th>1993-10-27</th>\n",
       "      <td>0.0</td>\n",
       "      <td>0.0</td>\n",
       "      <td>0.0</td>\n",
       "      <td>0.0</td>\n",
       "      <td>0.0</td>\n",
       "      <td>0.0</td>\n",
       "      <td>0.000000</td>\n",
       "      <td>0.0</td>\n",
       "      <td>0.0</td>\n",
       "      <td>0.0</td>\n",
       "      <td>...</td>\n",
       "      <td>0.0</td>\n",
       "      <td>0.0</td>\n",
       "      <td>0.0</td>\n",
       "      <td>0.0</td>\n",
       "      <td>0.0</td>\n",
       "      <td>0.0</td>\n",
       "      <td>0.0</td>\n",
       "      <td>0.0</td>\n",
       "      <td>0.0</td>\n",
       "      <td>0.0</td>\n",
       "    </tr>\n",
       "    <tr>\n",
       "      <th>1993-10-28</th>\n",
       "      <td>0.0</td>\n",
       "      <td>0.0</td>\n",
       "      <td>0.0</td>\n",
       "      <td>0.0</td>\n",
       "      <td>0.0</td>\n",
       "      <td>0.0</td>\n",
       "      <td>0.000000</td>\n",
       "      <td>0.0</td>\n",
       "      <td>0.0</td>\n",
       "      <td>0.0</td>\n",
       "      <td>...</td>\n",
       "      <td>0.0</td>\n",
       "      <td>0.0</td>\n",
       "      <td>0.0</td>\n",
       "      <td>0.0</td>\n",
       "      <td>0.0</td>\n",
       "      <td>0.0</td>\n",
       "      <td>0.0</td>\n",
       "      <td>0.0</td>\n",
       "      <td>0.0</td>\n",
       "      <td>0.0</td>\n",
       "    </tr>\n",
       "    <tr>\n",
       "      <th>1993-10-29</th>\n",
       "      <td>0.0</td>\n",
       "      <td>0.0</td>\n",
       "      <td>0.0</td>\n",
       "      <td>0.0</td>\n",
       "      <td>0.0</td>\n",
       "      <td>0.0</td>\n",
       "      <td>0.000000</td>\n",
       "      <td>0.0</td>\n",
       "      <td>0.0</td>\n",
       "      <td>0.0</td>\n",
       "      <td>...</td>\n",
       "      <td>0.0</td>\n",
       "      <td>0.0</td>\n",
       "      <td>0.0</td>\n",
       "      <td>0.0</td>\n",
       "      <td>0.0</td>\n",
       "      <td>0.0</td>\n",
       "      <td>0.0</td>\n",
       "      <td>0.0</td>\n",
       "      <td>0.0</td>\n",
       "      <td>0.0</td>\n",
       "    </tr>\n",
       "    <tr>\n",
       "      <th>1993-11-01</th>\n",
       "      <td>0.0</td>\n",
       "      <td>0.0</td>\n",
       "      <td>0.0</td>\n",
       "      <td>0.0</td>\n",
       "      <td>0.0</td>\n",
       "      <td>0.0</td>\n",
       "      <td>0.000000</td>\n",
       "      <td>0.0</td>\n",
       "      <td>0.0</td>\n",
       "      <td>0.0</td>\n",
       "      <td>...</td>\n",
       "      <td>0.0</td>\n",
       "      <td>0.0</td>\n",
       "      <td>0.0</td>\n",
       "      <td>0.0</td>\n",
       "      <td>0.0</td>\n",
       "      <td>0.0</td>\n",
       "      <td>0.0</td>\n",
       "      <td>0.0</td>\n",
       "      <td>0.0</td>\n",
       "      <td>0.0</td>\n",
       "    </tr>\n",
       "  </tbody>\n",
       "</table>\n",
       "<p>10 rows × 110 columns</p>\n",
       "</div>"
      ],
      "text/plain": [
       "            stock_5  stock_40  stock_54  stock_71  stock_74  stock_78  \\\n",
       "Date                                                                    \n",
       "1993-10-19      0.0       0.0       0.0       0.0       0.0       0.0   \n",
       "1993-10-20      0.0       0.0       0.0       0.0       0.0       0.0   \n",
       "1993-10-21      0.0       0.0       0.0       0.0       0.0       0.0   \n",
       "1993-10-22      0.0       0.0       0.0       0.0       0.0       0.0   \n",
       "1993-10-25      0.0       0.0       0.0       0.0       0.0       0.0   \n",
       "1993-10-26      0.0       0.0       0.0       0.0       0.0       0.0   \n",
       "1993-10-27      0.0       0.0       0.0       0.0       0.0       0.0   \n",
       "1993-10-28      0.0       0.0       0.0       0.0       0.0       0.0   \n",
       "1993-10-29      0.0       0.0       0.0       0.0       0.0       0.0   \n",
       "1993-11-01      0.0       0.0       0.0       0.0       0.0       0.0   \n",
       "\n",
       "            stock_82  stock_86  stock_90  stock_95    ...      stock_900  \\\n",
       "Date                                                  ...                  \n",
       "1993-10-19  0.909097       0.0       0.0       0.0    ...            0.0   \n",
       "1993-10-20  0.264709       0.0       0.0       0.0    ...            0.0   \n",
       "1993-10-21 -1.813616       0.0       0.0       0.0    ...            0.0   \n",
       "1993-10-22  0.000000       0.0       0.0       0.0    ...            0.0   \n",
       "1993-10-25  0.000000       0.0       0.0       0.0    ...            0.0   \n",
       "1993-10-26  0.000000       0.0       0.0       0.0    ...            0.0   \n",
       "1993-10-27  0.000000       0.0       0.0       0.0    ...            0.0   \n",
       "1993-10-28  0.000000       0.0       0.0       0.0    ...            0.0   \n",
       "1993-10-29  0.000000       0.0       0.0       0.0    ...            0.0   \n",
       "1993-11-01  0.000000       0.0       0.0       0.0    ...            0.0   \n",
       "\n",
       "            stock_917  stock_931  stock_934  stock_936  stock_942  stock_973  \\\n",
       "Date                                                                           \n",
       "1993-10-19        0.0        0.0        0.0        0.0        0.0        0.0   \n",
       "1993-10-20        0.0        0.0        0.0        0.0        0.0        0.0   \n",
       "1993-10-21        0.0        0.0        0.0        0.0        0.0        0.0   \n",
       "1993-10-22        0.0        0.0        0.0        0.0        0.0        0.0   \n",
       "1993-10-25        0.0        0.0        0.0        0.0        0.0        0.0   \n",
       "1993-10-26        0.0        0.0        0.0        0.0        0.0        0.0   \n",
       "1993-10-27        0.0        0.0        0.0        0.0        0.0        0.0   \n",
       "1993-10-28        0.0        0.0        0.0        0.0        0.0        0.0   \n",
       "1993-10-29        0.0        0.0        0.0        0.0        0.0        0.0   \n",
       "1993-11-01        0.0        0.0        0.0        0.0        0.0        0.0   \n",
       "\n",
       "            stock_988  stock_992  stock_993  \n",
       "Date                                         \n",
       "1993-10-19        0.0        0.0        0.0  \n",
       "1993-10-20        0.0        0.0        0.0  \n",
       "1993-10-21        0.0        0.0        0.0  \n",
       "1993-10-22        0.0        0.0        0.0  \n",
       "1993-10-25        0.0        0.0        0.0  \n",
       "1993-10-26        0.0        0.0        0.0  \n",
       "1993-10-27        0.0        0.0        0.0  \n",
       "1993-10-28        0.0        0.0        0.0  \n",
       "1993-10-29        0.0        0.0        0.0  \n",
       "1993-11-01        0.0        0.0        0.0  \n",
       "\n",
       "[10 rows x 110 columns]"
      ]
     },
     "execution_count": 8,
     "metadata": {},
     "output_type": "execute_result"
    }
   ],
   "source": [
    "duplicates = raw_data.loc[:,raw_data.apply(num_constants,axis=0)>2]\n",
    "print(duplicates.shape)\n",
    "duplicates.tail(10)"
   ]
  },
  {
   "cell_type": "code",
   "execution_count": 8,
   "metadata": {},
   "outputs": [
    {
     "data": {
      "text/plain": [
       "(998, 1030)"
      ]
     },
     "execution_count": 8,
     "metadata": {},
     "output_type": "execute_result"
    }
   ],
   "source": [
    "data1 = raw_data.loc[:,raw_data.apply(num_constants,axis=0)<=1]\n",
    "data1.shape"
   ]
  },
  {
   "cell_type": "markdown",
   "metadata": {},
   "source": [
    "### NA values"
   ]
  },
  {
   "cell_type": "markdown",
   "metadata": {},
   "source": [
    "- Less than 10% of the data(stocks/days) have missing values\n",
    "\n",
    "- No clear pattern in the missing data\n",
    "\n",
    "- Due to time limitation, we can just use linear interpolation to fill in the missing values, i.e. replace NA with average of the neighboring points"
   ]
  },
  {
   "cell_type": "code",
   "execution_count": 10,
   "metadata": {},
   "outputs": [
    {
     "name": "stdout",
     "output_type": "stream",
     "text": [
      "Number of stocks with missing return values 84\n",
      "Number of days with missing return values 84\n"
     ]
    }
   ],
   "source": [
    "print('Number of stocks with missing return values {}'.format(sum(data1.isna().sum(axis=0))))\n",
    "print('Number of days with missing return values {}'.format(sum(data1.isna().sum(axis=1))))"
   ]
  },
  {
   "cell_type": "markdown",
   "metadata": {},
   "source": [
    "Missing values in each stock"
   ]
  },
  {
   "cell_type": "code",
   "execution_count": 11,
   "metadata": {},
   "outputs": [
    {
     "name": "stdout",
     "output_type": "stream",
     "text": [
      "Index(['stock_8', 'stock_18', 'stock_21', 'stock_79', 'stock_81', 'stock_85',\n",
      "       'stock_108', 'stock_123', 'stock_130', 'stock_133', 'stock_136',\n",
      "       'stock_144', 'stock_157', 'stock_172', 'stock_181', 'stock_208',\n",
      "       'stock_210', 'stock_213', 'stock_214', 'stock_234', 'stock_241',\n",
      "       'stock_247', 'stock_259', 'stock_264', 'stock_299', 'stock_310',\n",
      "       'stock_312', 'stock_318', 'stock_337', 'stock_353', 'stock_367',\n",
      "       'stock_376', 'stock_380', 'stock_381', 'stock_405', 'stock_410',\n",
      "       'stock_421', 'stock_431', 'stock_433', 'stock_437', 'stock_442',\n",
      "       'stock_448', 'stock_470', 'stock_472', 'stock_474', 'stock_476',\n",
      "       'stock_487', 'stock_491', 'stock_495', 'stock_500', 'stock_503',\n",
      "       'stock_512', 'stock_541', 'stock_549', 'stock_571', 'stock_573',\n",
      "       'stock_580', 'stock_600', 'stock_615', 'stock_676', 'stock_689',\n",
      "       'stock_720', 'stock_756', 'stock_762', 'stock_780', 'stock_782',\n",
      "       'stock_795', 'stock_800', 'stock_801', 'stock_851', 'stock_881',\n",
      "       'stock_890', 'stock_903', 'stock_905', 'stock_913', 'stock_927',\n",
      "       'stock_944', 'stock_946', 'stock_952', 'stock_962', 'stock_971',\n",
      "       'stock_979'],\n",
      "      dtype='object')\n"
     ]
    }
   ],
   "source": [
    "print(data1.columns[data1.isna().sum(axis=0)!=0])"
   ]
  },
  {
   "cell_type": "markdown",
   "metadata": {},
   "source": [
    "Missing values in each day of week"
   ]
  },
  {
   "cell_type": "code",
   "execution_count": 12,
   "metadata": {},
   "outputs": [
    {
     "name": "stdout",
     "output_type": "stream",
     "text": [
      "0    22\n",
      "2    16\n",
      "1    16\n",
      "4    14\n",
      "3    14\n",
      "Name: Date, dtype: int64\n",
      "1992Q3    9\n",
      "1993Q3    8\n",
      "1993Q1    7\n",
      "1990Q2    7\n",
      "1992Q1    6\n",
      "1993Q2    5\n",
      "1992Q4    5\n",
      "1991Q4    5\n",
      "1991Q2    5\n",
      "1990Q4    5\n",
      "1992Q2    4\n",
      "1991Q1    4\n",
      "1990Q1    4\n",
      "1991Q3    3\n",
      "1990Q3    3\n",
      "1993Q4    2\n",
      "Freq: Q-DEC, Name: Date, dtype: int64\n"
     ]
    }
   ],
   "source": [
    "print(data1.index.dayofweek[data1.isna().sum(axis=1)!=0].value_counts())\n",
    "print(data1.index.to_period('Q')[data1.isna().sum(axis=1)!=0].value_counts())"
   ]
  },
  {
   "cell_type": "code",
   "execution_count": 9,
   "metadata": {},
   "outputs": [],
   "source": [
    "data2 = data1.interpolate(method='linear')"
   ]
  },
  {
   "cell_type": "markdown",
   "metadata": {},
   "source": [
    "## Data anomaly"
   ]
  },
  {
   "cell_type": "markdown",
   "metadata": {},
   "source": [
    "1. The max/min values seems to be reasonable \n",
    "\n",
    "2. The mean returns of some stocks seem anomalous\n",
    "\n",
    "3. The mean returns of different days look normal\n",
    "\n",
    "4. Point anomalies are difficult to pinpoint considering the fact that stock returns are very volatile"
   ]
  },
  {
   "cell_type": "code",
   "execution_count": 14,
   "metadata": {
    "scrolled": true
   },
   "outputs": [
    {
     "name": "stdout",
     "output_type": "stream",
     "text": [
      "max:  18.8587342496\n",
      "min:  -7.69175034152\n"
     ]
    }
   ],
   "source": [
    "print('max: ',max(data2.max(axis=1)))\n",
    "print('min: ',min(data2.min(axis=1)))"
   ]
  },
  {
   "cell_type": "markdown",
   "metadata": {},
   "source": [
    "**The histogram of mean returns suggests that there're some outlying stocks** - we can use 2-cluster K-Means to identify the outliers"
   ]
  },
  {
   "cell_type": "code",
   "execution_count": 15,
   "metadata": {},
   "outputs": [
    {
     "data": {
      "text/plain": [
       "<matplotlib.axes._subplots.AxesSubplot at 0x1a16b89908>"
      ]
     },
     "execution_count": 15,
     "metadata": {},
     "output_type": "execute_result"
    },
    {
     "data": {
      "image/png": "[encoded data removed]",
      "text/plain": [
       "<Figure size 432x288 with 1 Axes>"
      ]
     },
     "metadata": {
      "needs_background": "light"
     },
     "output_type": "display_data"
    },
    {
     "data": {
      "image/png": "[encoded data removed]",
      "text/plain": [
       "<Figure size 432x288 with 1 Axes>"
      ]
     },
     "metadata": {
      "needs_background": "light"
     },
     "output_type": "display_data"
    }
   ],
   "source": [
    "plt.title('Mean returns of each stock')\n",
    "data2.mean(axis=0).hist()\n",
    "plt.figure()\n",
    "plt.title('Mean returns of each day')\n",
    "data2.mean(axis=1).hist()"
   ]
  },
  {
   "cell_type": "markdown",
   "metadata": {},
   "source": [
    "Two clusters of stocks have distinctly distributions"
   ]
  },
  {
   "cell_type": "code",
   "execution_count": 11,
   "metadata": {},
   "outputs": [
    {
     "data": {
      "text/plain": [
       "<matplotlib.axes._subplots.AxesSubplot at 0x1c14c12470>"
      ]
     },
     "execution_count": 11,
     "metadata": {},
     "output_type": "execute_result"
    },
    {
     "data": {
      "image/png": "[encoded data removed]",
      "text/plain": [
       "<Figure size 432x288 with 1 Axes>"
      ]
     },
     "metadata": {
      "needs_background": "light"
     },
     "output_type": "display_data"
    }
   ],
   "source": [
    "from sklearn.cluster import KMeans\n",
    "res = KMeans(n_clusters=2,random_state=1234).fit_predict(data2.T)\n",
    "plt.figure()\n",
    "plt.title('outliers')\n",
    "data2.loc[:,res.astype(bool)].mean(axis=0).hist()\n",
    "data2.loc[:,~res.astype(bool)].mean(axis=0).hist()"
   ]
  },
  {
   "cell_type": "code",
   "execution_count": 12,
   "metadata": {},
   "outputs": [
    {
     "data": {
      "text/plain": [
       "(998, 941)"
      ]
     },
     "execution_count": 12,
     "metadata": {},
     "output_type": "execute_result"
    }
   ],
   "source": [
    "data3 = data2.loc[:,~res.astype(bool)]\n",
    "data3.shape"
   ]
  },
  {
   "cell_type": "markdown",
   "metadata": {},
   "source": [
    "**The stock returns fit fat-tailed normal distribution pretty well, suggesting low likelihood of having point anomaliies**"
   ]
  },
  {
   "cell_type": "code",
   "execution_count": 18,
   "metadata": {},
   "outputs": [],
   "source": [
    "# construct normal distribution using mean and standard deviation of the data\n",
    "from scipy.stats import norm\n",
    "a = data3.values.flatten().mean()\n",
    "b = data3.values.flatten().std()\n",
    "\n",
    "x = np.linspace(-10,10,1000)\n",
    "y = norm.pdf(x, loc=a, scale=b)"
   ]
  },
  {
   "cell_type": "code",
   "execution_count": 19,
   "metadata": {},
   "outputs": [
    {
     "data": {
      "text/plain": [
       "<matplotlib.axes._subplots.AxesSubplot at 0x1c1a2eaf98>"
      ]
     },
     "execution_count": 19,
     "metadata": {},
     "output_type": "execute_result"
    },
    {
     "data": {
      "image/png": "[encoded data removed]",
      "text/plain": [
       "<Figure size 1152x360 with 1 Axes>"
      ]
     },
     "metadata": {
      "needs_background": "light"
     },
     "output_type": "display_data"
    }
   ],
   "source": [
    "plt.figure(figsize=(16, 5))\n",
    "plt.title('Distribution of stock returns vs normal distribution')\n",
    "sns.distplot(data3.values.flatten(), hist=True, kde=True, \n",
    "             bins=40, \n",
    "             hist_kws={'edgecolor':'black'},\n",
    "             kde_kws={'linewidth': 4})\n",
    "sns.lineplot(x,y, color=\"coral\",label='Normal Distribution')"
   ]
  },
  {
   "cell_type": "markdown",
   "metadata": {},
   "source": [
    "# Regime shift detection\n"
   ]
  },
  {
   "cell_type": "markdown",
   "metadata": {},
   "source": [
    "## Stationarity diagnostics"
   ]
  },
  {
   "cell_type": "markdown",
   "metadata": {},
   "source": [
    "Using augmented dicky fuller test to confirm that the stock return series are stationary"
   ]
  },
  {
   "cell_type": "code",
   "execution_count": 20,
   "metadata": {},
   "outputs": [
    {
     "data": {
      "text/plain": [
       "True"
      ]
     },
     "execution_count": 20,
     "metadata": {},
     "output_type": "execute_result"
    }
   ],
   "source": [
    "from statsmodels.tsa.stattools import adfuller\n",
    "\n",
    "def adfuller_w_crit_val(x,crit_val=0.01):\n",
    "    # determine if the time series is stationary or not with given critical value\n",
    "    result = adfuller(x)\n",
    "    return result[1]<crit_val\n",
    "\n",
    "\n",
    "stationarity = data3.apply(adfuller_w_crit_val,axis=0)\n",
    "sum(stationarity)==data3.shape[1]"
   ]
  },
  {
   "cell_type": "markdown",
   "metadata": {},
   "source": [
    "## Detect autocorrelation break point"
   ]
  },
  {
   "cell_type": "markdown",
   "metadata": {},
   "source": [
    "**1992-4-23 is the breakpoint**"
   ]
  },
  {
   "cell_type": "markdown",
   "metadata": {},
   "source": [
    "ruptures: a Python library for off-line change point detection\n",
    "\n",
    "http://ctruong.perso.math.cnrs.fr/ruptures-docs/build/html/costs/costautoregressive.html\n",
    "\n",
    "https://arxiv.org/abs/1801.00718\n"
   ]
  },
  {
   "cell_type": "markdown",
   "metadata": {},
   "source": [
    "Let 0<$t_1$<$t_2$<⋯<n be unknown change points indexes. Consider the following piecewise autoregressive model\n",
    "\n",
    "$y_t=z_t \\delta j+\\epsilon_t$,$\\forall t=t_j,…,t_{j+1}$\n",
    "where j>1 is the segment number, $z_t=[y_{t−1},y_{t−2},…,y_{t−p}]$ is the lag vector,and p>0 is the order of the process.\n",
    "\n",
    "The least-squares estimates of the break dates is obtained by minimiming the sum of squared residuals . Formally, the associated cost function on an interval $\\mathbb{I}$ is\n",
    "\n",
    "$c(y_I)=min_{\\delta\\in\\mathcal{R}}\\sum_{t\\in I}||y_t−\\delta z_t||_2^2$"
   ]
  },
  {
   "cell_type": "code",
   "execution_count": 13,
   "metadata": {},
   "outputs": [],
   "source": [
    "import ruptures as rpt\n",
    "def change_point_detection(x):\n",
    "    algo = rpt.Dynp(model=\"ar\", params={\"order\": 1})\n",
    "    tmp = algo.fit_predict(x,n_bkps=1)\n",
    "    return tmp[0]"
   ]
  },
  {
   "cell_type": "code",
   "execution_count": 14,
   "metadata": {},
   "outputs": [
    {
     "name": "stderr",
     "output_type": "stream",
     "text": [
      "/Users/yuejin/miniconda3/lib/python3.5/site-packages/ruptures/costs/costautoregressive.py:134: FutureWarning: reshape is deprecated and will raise in a subsequent release. Please use .values.reshape(...) instead\n",
      "  self.signal = signal.reshape(-1, 1)\n",
      "/Users/yuejin/miniconda3/lib/python3.5/site-packages/ruptures/costs/costautoregressive.py:169: FutureWarning: `rcond` parameter will change to the default of machine precision times ``max(M, N)`` where M and N are the input matrix dimensions.\n",
      "To use the future default and silence this warning we advise to pass `rcond=None`, to keep using the old, explicitly pass `rcond=-1`.\n",
      "  _, residual, _, _ = lstsq(X, y)\n"
     ]
    }
   ],
   "source": [
    "result = data3.apply(change_point_detection,0)"
   ]
  },
  {
   "cell_type": "code",
   "execution_count": 17,
   "metadata": {},
   "outputs": [
    {
     "data": {
      "text/plain": [
       "(998, 941)"
      ]
     },
     "execution_count": 17,
     "metadata": {},
     "output_type": "execute_result"
    }
   ],
   "source": [
    "data3.shape"
   ]
  },
  {
   "cell_type": "code",
   "execution_count": 23,
   "metadata": {},
   "outputs": [
    {
     "data": {
      "text/plain": [
       "600    408\n",
       "595    120\n",
       "605     87\n",
       "610     45\n",
       "590     40\n",
       "dtype: int64"
      ]
     },
     "execution_count": 23,
     "metadata": {},
     "output_type": "execute_result"
    }
   ],
   "source": [
    "result.value_counts().head(5)"
   ]
  },
  {
   "cell_type": "code",
   "execution_count": 24,
   "metadata": {},
   "outputs": [
    {
     "data": {
      "text/plain": [
       "DatetimeIndex(['1992-04-23', '1992-04-15', '1992-04-30', '1992-05-07',\n",
       "               '1992-04-08'],\n",
       "              dtype='datetime64[ns]', name='Date', freq=None)"
      ]
     },
     "execution_count": 24,
     "metadata": {},
     "output_type": "execute_result"
    }
   ],
   "source": [
    "data3.index[[result.value_counts().head(5).index]]"
   ]
  },
  {
   "cell_type": "code",
   "execution_count": 27,
   "metadata": {},
   "outputs": [
    {
     "name": "stdout",
     "output_type": "stream",
     "text": [
      "Using majority vote we can see that 1992-04-23 00:00:00 is the breakpoint\n"
     ]
    }
   ],
   "source": [
    "brk_pt = result.value_counts().index[0]\n",
    "print(\"Using majority vote we can see that {} is the breakpoint\".format(data3.index[result.value_counts().index[0]]))"
   ]
  },
  {
   "cell_type": "markdown",
   "metadata": {},
   "source": [
    "**The lag plot confirms the claim**: \n",
    "\n",
    "If we choose 1992-04-23 as the breakpoint, the autocorrelation prior and post break point are distinctively separate\n",
    "\n",
    "If we choose a random date as breakpoint, points of different collors are mixed - some orange points fall along the direction of blue points"
   ]
  },
  {
   "cell_type": "code",
   "execution_count": 28,
   "metadata": {},
   "outputs": [
    {
     "data": {
      "text/plain": [
       "<matplotlib.axes._subplots.AxesSubplot at 0x111e06080>"
      ]
     },
     "execution_count": 28,
     "metadata": {},
     "output_type": "execute_result"
    },
    {
     "data": {
      "image/png": "[encoded data removed]",
      "text/plain": [
       "<Figure size 432x288 with 1 Axes>"
      ]
     },
     "metadata": {
      "needs_background": "light"
     },
     "output_type": "display_data"
    },
    {
     "data": {
      "image/png": "[encoded data removed]",
      "text/plain": [
       "<Figure size 432x288 with 1 Axes>"
      ]
     },
     "metadata": {
      "needs_background": "light"
     },
     "output_type": "display_data"
    }
   ],
   "source": [
    "plt.title('A random breakpoint')\n",
    "pd.plotting.lag_plot(data3.iloc[:550,],alpha=0.04)\n",
    "pd.plotting.lag_plot(data3.iloc[550:,],c='coral',alpha=0.04)\n",
    "plt.figure()\n",
    "plt.title('Using 1992-04-23 as breakpoint')\n",
    "pd.plotting.lag_plot(data3.iloc[:brk_pt,],alpha=0.02)\n",
    "pd.plotting.lag_plot(data3.iloc[brk_pt:,],c='coral',alpha=0.02)"
   ]
  },
  {
   "cell_type": "markdown",
   "metadata": {},
   "source": [
    "Test stationarity in different regimes"
   ]
  },
  {
   "cell_type": "code",
   "execution_count": 29,
   "metadata": {},
   "outputs": [
    {
     "data": {
      "text/plain": [
       "True"
      ]
     },
     "execution_count": 29,
     "metadata": {},
     "output_type": "execute_result"
    }
   ],
   "source": [
    "stationarity_1 = data3.iloc[:brk_pt,:].apply(adfuller_w_crit_val,axis=0)\n",
    "stationarity_2 = data3.iloc[brk_pt:,:].apply(adfuller_w_crit_val,axis=0)\n",
    "sum(stationarity_2)==sum(stationarity_1)==data3.shape[1]"
   ]
  },
  {
   "cell_type": "markdown",
   "metadata": {},
   "source": [
    "## Calculate autocorrelation coefficient for two regimes"
   ]
  },
  {
   "cell_type": "markdown",
   "metadata": {},
   "source": [
    "AR(1) coefficient in regime 1: **0.2851**\n",
    "\n",
    "AR(1) coefficient in regime 2: **-0.4584**"
   ]
  },
  {
   "cell_type": "code",
   "execution_count": 30,
   "metadata": {},
   "outputs": [],
   "source": [
    "from statsmodels.tsa.stattools import acf\n",
    "\n",
    "def acf_coef(x):\n",
    "    return acf(x,nlags=1)[1]\n",
    "    \n",
    "regime1 = data3.iloc[:brk_pt,:].apply(acf_coef,axis=0)\n",
    "regime2 = data3.iloc[brk_pt:,:].apply(acf_coef,axis=0)"
   ]
  },
  {
   "cell_type": "markdown",
   "metadata": {},
   "source": [
    "The distribution of autocorrelation coefficients under different regimes are distinctive"
   ]
  },
  {
   "cell_type": "code",
   "execution_count": 31,
   "metadata": {},
   "outputs": [
    {
     "data": {
      "text/plain": [
       "Text(0.5, 1.0, 'Autocorrelation coefficients in two regimes')"
      ]
     },
     "execution_count": 31,
     "metadata": {},
     "output_type": "execute_result"
    },
    {
     "data": {
      "image/png": "[encoded data removed]",
      "text/plain": [
       "<Figure size 432x288 with 1 Axes>"
      ]
     },
     "metadata": {
      "needs_background": "light"
     },
     "output_type": "display_data"
    }
   ],
   "source": [
    "regime1.hist(alpha=0.7)\n",
    "regime2.hist(alpha=0.7)\n",
    "plt.title('Autocorrelation coefficients in two regimes')"
   ]
  },
  {
   "cell_type": "code",
   "execution_count": 32,
   "metadata": {},
   "outputs": [
    {
     "name": "stdout",
     "output_type": "stream",
     "text": [
      "AR(1) coefficient in regime 1: 0.2851\n",
      "AR(1) coefficient in regime 2: -0.4584\n"
     ]
    }
   ],
   "source": [
    "print('AR(1) coefficient in regime 1: %.4f'%(np.mean(regime1)))\n",
    "print('AR(1) coefficient in regime 2: %.4f'%(np.mean(regime2)))"
   ]
  }
 ],
 "metadata": {
  "kernelspec": {
   "display_name": "Python 3",
   "language": "python",
   "name": "python3"
  },
  "language_info": {
   "codemirror_mode": {
    "name": "ipython",
    "version": 3
   },
   "file_extension": ".py",
   "mimetype": "text/x-python",
   "name": "python",
   "nbconvert_exporter": "python",
   "pygments_lexer": "ipython3",
   "version": "3.5.6"
  },
  "toc": {
   "base_numbering": 1,
   "nav_menu": {},
   "number_sections": true,
   "sideBar": true,
   "skip_h1_title": false,
   "title_cell": "Table of Contents",
   "title_sidebar": "Contents",
   "toc_cell": false,
   "toc_position": {},
   "toc_section_display": true,
   "toc_window_display": true
  }
 },
 "nbformat": 4,
 "nbformat_minor": 2
}
