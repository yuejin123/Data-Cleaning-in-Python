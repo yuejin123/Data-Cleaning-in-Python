{
 "cells": [
  {
   "cell_type": "markdown",
   "metadata": {
    "colab_type": "text",
    "id": "yRaIFkhXezxV"
   },
   "source": [
    "## resources\t"
   ]
  },
  {
   "cell_type": "markdown",
   "metadata": {
    "colab_type": "text",
    "id": "2huR4WDZezxX"
   },
   "source": [
    "List of useful resources for learning Python\n",
    "\n",
    "https://github.com/adrianmoisey/learn-python\n",
    "\n",
    "https://github.com/vineetpandey/HackerRank---Python-Tutorials-Challenges"
   ]
  },
  {
   "cell_type": "markdown",
   "metadata": {
    "colab_type": "text",
    "id": "S7ajybofezxZ"
   },
   "source": [
    "## Intro\n",
    "\n",
    "Python is a general-purpose programming language that prioritizes efficiency, ease of use, and readability. Python thinks there's a best way to approach a problem.\n",
    "\n",
    "## Python vs R\n",
    "\n",
    "- Python has relatively fewer libraries, with each having all the functions a data scientist would need\n",
    "- Python does not only support model development, but also model deployment\n",
    "- Full spectrum support for deep learning/machine learning model development\n",
    "- Primitive objects and immutable objects are **stored in place**, mutable objects are stored as **pointer** and when you use =, basically lfs and rhs would be pointing to the same memory location. Changing lfs/rhs would change the other at the same time.\n",
    "\n",
    "## Useful packages in Python\n",
    "To do statistical computation and analysis, you mostly have to rely on different packages available in python\n",
    "\n",
    "- Numpy\n",
    "\t\n",
    "Used for doing mathematical computing(linear algebra, statistics etc). It is largely used to create **arrays**. In R, think of an array as a list. It consists of **one class (numeric or string or boolean) or multiple classes**. It can be unidimensional or multidimensional. NumPy is part of SciPy, and basically just defines arrays along with some basic numerical functions. The main reason for the separation is to ensure that the array library (NumPy) is lean and mean, as the bulk of SciPy is not always needed\n",
    "\n",
    "- Scipy\n",
    "\n",
    "NumPy is meant to be a library for numerical arrays, to be used by anybody needing such an object in Python. SciPy is meant to be a library for scientists/engineers, so it aims for more rigourous theorethical mathematics (numerical integration, interpolation and optimization and machine learning using NumPy's functionality.)\n",
    "\n",
    "- Pandas(panel data)\n",
    "\n",
    "Used for importing and manipulating DataFrame and time series. Equivalent to dplyr, readr, data.table, tidyr. \n",
    "\n",
    "We can provide a custom index to both DataFrame and Series objects and then reference items through by using it.\n",
    "\n",
    "Because Pandas was developed largely in a finance context, it includes some very specific tools for financial data. For example, the accompanying pandas-datareader package (installable via conda install pandas-datareader), knows how to import financial data from a number of available sources, including Yahoo finance, Google Finance, and others.\n",
    "\n",
    "- Scikit Learn\n",
    "\n",
    "Used for machine learning algorithm. Contains an inbuilt repo of data sets. "
   ]
  },
  {
   "cell_type": "markdown",
   "metadata": {
    "colab_type": "text",
    "id": "MhFGiqLpezxa"
   },
   "source": [
    "## Environment\n",
    "\n",
    "### Create environment\n",
    "We have created a [file](https://raw.githubusercontent.com/wendazhou/advanced-ml-fall-17/master/python/AdvML.yml), available on the [course webpage](https://wendazhou.com/teaching/AdvancedMLFall17/), which captures the state of the environment we expect you to be working in. To use this file to setup your own environment use the command line interface to execute\n",
    "\n",
    "```\n",
    "conda-env create --file AdvML.yml\n",
    "```\n",
    "\n",
    "To activate the environment, choose the appropriate line based on your OS\n",
    "\n",
    "```\n",
    "source activate AdvML           # On Mac or Linux\n",
    "activate AdvML                  # On Windows\n",
    "```\n",
    "\n",
    "Similarly, to deactivate your enviroment run\n",
    "\n",
    "```\n",
    "source deactivate               # On Mac or Linux\n",
    "deactivate                      # On Windows\n",
    "```\n",
    "### Maintain/remove environment\n",
    "\n",
    "```\n",
    "conda-env update --file AdvML.yml\n",
    "\n",
    "conda-env remvoe --name AdvML --all\n",
    "```\n"
   ]
  },
  {
   "cell_type": "markdown",
   "metadata": {
    "colab_type": "text",
    "id": "m_htuKLiezxb"
   },
   "source": [
    "## Basic Jupyter Notebook"
   ]
  },
  {
   "cell_type": "markdown",
   "metadata": {
    "colab_type": "text",
    "id": "3tnS-VqQezxb"
   },
   "source": [
    "## Data Types and Structures in Python vs. R\n",
    "\n",
    "Python is a dynamically typed language(data type changed as its value changes and you don't have to initiate the data type to use it) and mathematical operations work exactly as you would expect.\n",
    "\n",
    "\n",
    "### Mutable vs immutable\n",
    "\n",
    "Immutable: string, numeric, tuple\n",
    "\n",
    "Mutable: list, dict\n",
    "\n",
    "is：比较的是两个对象的id值是否相等，也就是比较俩对象是否为同一个实例对象。是否指向同一个内存地址\n",
    "\n",
    "==: compares value, will call eq() method\n",
    "\n",
    "\n",
    "### Numeric\n",
    "\t- integer\n",
    "\t- long: represented in octa and hexadecimal\n",
    "\t- float\n",
    "\t- complex"
   ]
  },
  {
   "cell_type": "code",
   "execution_count": 0,
   "metadata": {
    "colab": {},
    "colab_type": "code",
    "id": "RZAduRDrezxc",
    "outputId": "e1e5b0f3-0016-49a6-dea5-e051468c1da5"
   },
   "outputs": [
    {
     "name": "stdout",
     "output_type": "stream",
     "text": [
      "6.25\n",
      "<class 'float'>\n",
      "3.5\n"
     ]
    }
   ],
   "source": [
    "y = 2.5\n",
    "print(y ** 2)\n",
    "print(type(y))\n",
    "y+=1\n",
    "print(y)"
   ]
  },
  {
   "cell_type": "code",
   "execution_count": 85,
   "metadata": {},
   "outputs": [],
   "source": [
    "def revint(a):\n",
    "    b=str(a)[::-1]\n",
    "    if b[-1]=='-':\n",
    "        return -int(b[:-1])\n",
    "    else: return int(b)"
   ]
  },
  {
   "cell_type": "code",
   "execution_count": 90,
   "metadata": {},
   "outputs": [],
   "source": [
    "revint(-10) #-1\n",
    "def revint(a):\n",
    "    if -10<a<10: return a\n",
    "    b=str(a)[::-1]\n",
    "    if b[-1]=='-':\n",
    "        return -int(b[:-1])\n",
    "    else: return int(b)"
   ]
  },
  {
   "cell_type": "markdown",
   "metadata": {
    "colab_type": "text",
    "id": "fedO-ecdezxg"
   },
   "source": [
    "    \n",
    "### Boolean\n",
    "\n",
    "In R, it can be stored as a factor type or a character type. There exists a tiny difference between Boolean values in R and python. In R, Boolean are stored as TRUE and FALSE. In python, they are stored as True and False"
   ]
  },
  {
   "cell_type": "code",
   "execution_count": 1,
   "metadata": {
    "colab": {},
    "colab_type": "code",
    "id": "PazA9dKqezxh",
    "outputId": "89cb5ac9-784a-49bd-9b97-a16663bfe2e1"
   },
   "outputs": [
    {
     "name": "stdout",
     "output_type": "stream",
     "text": [
      "True\n",
      "False\n"
     ]
    }
   ],
   "source": [
    "a=True\n",
    "b=a\n",
    "b=False\n",
    "print(a)\n",
    "print(b)"
   ]
  },
  {
   "cell_type": "code",
   "execution_count": 2,
   "metadata": {},
   "outputs": [
    {
     "data": {
      "text/plain": [
       "0"
      ]
     },
     "execution_count": 2,
     "metadata": {},
     "output_type": "execute_result"
    }
   ],
   "source": [
    "int(False)"
   ]
  },
  {
   "cell_type": "code",
   "execution_count": 2,
   "metadata": {},
   "outputs": [
    {
     "name": "stdout",
     "output_type": "stream",
     "text": [
      "True\n",
      "False\n",
      "True\n",
      "False\n"
     ]
    }
   ],
   "source": [
    "print(a==1)\n",
    "print(a is 1)\n",
    "print(b ==0 )\n",
    "print(True ==4)"
   ]
  },
  {
   "cell_type": "markdown",
   "metadata": {
    "colab_type": "text",
    "id": "VpaWH3b-ezxk"
   },
   "source": [
    "### String: \n",
    "\n",
    "same as \"character\" in R`\n",
    "\n",
    "Single quote and double quote are essentially interchangeable in Python."
   ]
  },
  {
   "cell_type": "markdown",
   "metadata": {},
   "source": [
    "* In python, string is basically a 1d array of characters\n",
    "* case sensitive\n",
    "* Regex"
   ]
  },
  {
   "cell_type": "code",
   "execution_count": 126,
   "metadata": {},
   "outputs": [],
   "source": [
    "def atoi(s):\n",
    "    num = 0\n",
    "    for v in s:\n",
    "        for j in range(10):\n",
    "            if v == str(j):\n",
    "                num = num * 10 + j\n",
    "    return num"
   ]
  },
  {
   "cell_type": "code",
   "execution_count": 8,
   "metadata": {},
   "outputs": [
    {
     "data": {
      "text/plain": [
       "123"
      ]
     },
     "execution_count": 8,
     "metadata": {},
     "output_type": "execute_result"
    }
   ],
   "source": [
    "def atoi(s):\n",
    "    num = 0\n",
    "    for v in s:\n",
    "        num = num*10 + ord(v)-ord('0')\n",
    "    return num\n",
    "atoi('123')"
   ]
  },
  {
   "cell_type": "raw",
   "metadata": {},
   "source": [
    "https://www.rexegg.com/regex-quickstart.html"
   ]
  },
  {
   "cell_type": "code",
   "execution_count": 125,
   "metadata": {},
   "outputs": [
    {
     "name": "stdout",
     "output_type": "stream",
     "text": [
      "def\n",
      "True\n"
     ]
    }
   ],
   "source": [
    "s= 'hello world'\n",
    "t='hell'\n",
    "s[0:4]==t\n",
    "\n",
    "import re\n",
    "prog = re.compile(pattern=\"Hello\")\n",
    "result = prog.match(string = \"Hello world, bye world\")\n",
    "\n",
    "m = re.search('(?<=abc)def', 'abcdef') \n",
    "\n",
    "\n",
    "# return a corresponding match object\n",
    "if m: print(m.group(0)) #return one or more subgroups of the match\n",
    "\n",
    "print(str(bool(re.match(\"[0-9]{3}\", \"900\"))))\n"
   ]
  },
  {
   "cell_type": "code",
   "execution_count": 0,
   "metadata": {
    "colab": {},
    "colab_type": "code",
    "id": "WzRkUb_bezxk",
    "outputId": "202d50eb-dfca-4e1d-de95-c4917d52e5ac"
   },
   "outputs": [
    {
     "name": "stdout",
     "output_type": "stream",
     "text": [
      "FooFoo Foo\n"
     ]
    }
   ],
   "source": [
    "a = \"Foo\" \n",
    "b = a \n",
    "a = a + a  # + is concatenate\n",
    "print(a, b) # but b still points to the old \"Foo\""
   ]
  },
  {
   "cell_type": "code",
   "execution_count": 10,
   "metadata": {
    "colab": {},
    "colab_type": "code",
    "id": "4U9FIJmOezxn",
    "outputId": "29f1ad66-9045-4b47-a314-bc56e3ee2cb5"
   },
   "outputs": [
    {
     "name": "stdout",
     "output_type": "stream",
     "text": [
      "['hell', ' w', 'rld']\n",
      "hell- w-rld\n"
     ]
    },
    {
     "data": {
      "text/plain": [
       "'-'"
      ]
     },
     "execution_count": 10,
     "metadata": {},
     "output_type": "execute_result"
    }
   ],
   "source": [
    "s=\"hello world\"\n",
    "w=s.split('o',2) #split(sep,maxsplit=-1)\n",
    "print(w)\n",
    "z = \"-\"\n",
    "print(z.join(w))\n",
    "z.rstrip()"
   ]
  },
  {
   "cell_type": "code",
   "execution_count": 0,
   "metadata": {
    "colab": {},
    "colab_type": "code",
    "id": "6OPLhD9yezxq",
    "outputId": "bc777b25-f956-4715-f05f-d47fa02f4147"
   },
   "outputs": [
    {
     "name": "stdout",
     "output_type": "stream",
     "text": [
      "he(ell)(ell)o wor(ell)d\n"
     ]
    }
   ],
   "source": [
    "print(s.replace('l', '(ell)'))  # Replace all instances of one \n",
    "                                # substring with another;"
   ]
  },
  {
   "cell_type": "markdown",
   "metadata": {
    "colab_type": "text",
    "id": "mABDMTDfezxt"
   },
   "source": [
    "String formatting using {}. A very smart way of doing printf, %s/d/ud as in c."
   ]
  },
  {
   "cell_type": "code",
   "execution_count": 0,
   "metadata": {
    "colab": {},
    "colab_type": "code",
    "id": "gAx3pBURezxt",
    "outputId": "2f4b4f8b-cf32-4907-e2cd-d44603d209a5"
   },
   "outputs": [
    {
     "name": "stdout",
     "output_type": "stream",
     "text": [
      "The string variable 'a' contains 6 characters.\n"
     ]
    }
   ],
   "source": [
    "print(\"The string variable 'a' contains {} characters.\".format(len(a)))"
   ]
  },
  {
   "cell_type": "markdown",
   "metadata": {},
   "source": [
    "reverse string [start:end:step]"
   ]
  },
  {
   "cell_type": "code",
   "execution_count": 27,
   "metadata": {},
   "outputs": [
    {
     "data": {
      "text/plain": [
       "'elp'"
      ]
     },
     "execution_count": 27,
     "metadata": {},
     "output_type": "execute_result"
    }
   ],
   "source": [
    "\"apple\"[4:1:-1]"
   ]
  },
  {
   "cell_type": "markdown",
   "metadata": {},
   "source": [
    "Get missing letters"
   ]
  },
  {
   "cell_type": "code",
   "execution_count": 11,
   "metadata": {},
   "outputs": [
    {
     "data": {
      "text/plain": [
       "'hufgptjkvdexqbw'"
      ]
     },
     "execution_count": 11,
     "metadata": {},
     "output_type": "execute_result"
    }
   ],
   "source": [
    "import re\n",
    "a= \"Lions is a crazy animal\"\n",
    "tmp = set(a.lower().replace(\" \",\"\"))\n",
    "s1 = set(\"abcdefghijklmnopqrstuvwxyz\")\n",
    "\"\".join(s1.difference(set(tmp)))"
   ]
  },
  {
   "cell_type": "markdown",
   "metadata": {
    "colab_type": "text",
    "id": "Nhk50vjKezxv"
   },
   "source": [
    "Processing input"
   ]
  },
  {
   "cell_type": "markdown",
   "metadata": {},
   "source": [
    "### Date Time\n",
    "\n",
    "Process date and time object: import datetime as dt"
   ]
  },
  {
   "cell_type": "code",
   "execution_count": 1,
   "metadata": {},
   "outputs": [],
   "source": [
    "import datetime\n",
    "def dayofyear():\n",
    "    year = input(\"year: \")\n",
    "    month = input(\"month: \")\n",
    "    day = input(\"day: \")\n",
    "    date1 = datetime.date(year=int(year),month=int(month),day=int(day))\n",
    "    date2 = datetime.date(year=int(year),month=1,day=1)\n",
    "    return (date1-date2).days+1\n"
   ]
  },
  {
   "cell_type": "code",
   "execution_count": 3,
   "metadata": {},
   "outputs": [
    {
     "name": "stdout",
     "output_type": "stream",
     "text": [
      "year: 1993\n",
      "month: 11\n",
      "day: 22\n"
     ]
    },
    {
     "data": {
      "text/plain": [
       "326"
      ]
     },
     "execution_count": 3,
     "metadata": {},
     "output_type": "execute_result"
    }
   ],
   "source": [
    "dayofyear()"
   ]
  },
  {
   "cell_type": "markdown",
   "metadata": {
    "colab_type": "text",
    "id": "xEOKKbySezxy"
   },
   "source": [
    "## Containers\n",
    "\n",
    "Python includes several built-in container types including lists, dictionaries, sets, and tuples. Other packages provide some additional container types. "
   ]
  },
  {
   "cell_type": "markdown",
   "metadata": {
    "colab_type": "text",
    "id": "tmjh11HAezxz"
   },
   "source": [
    "### Lists:\n",
    "\n",
    "same as R's list data type. Capable of storing values of different data types\n",
    "\n",
    "Created using square brackets"
   ]
  },
  {
   "cell_type": "code",
   "execution_count": 7,
   "metadata": {
    "colab": {},
    "colab_type": "code",
    "id": "s5NbqCFIezx1",
    "outputId": "511be5e1-1b51-44d6-f434-b857653b3eaf"
   },
   "outputs": [
    {
     "name": "stdout",
     "output_type": "stream",
     "text": [
      "b\n",
      "d\n"
     ]
    }
   ],
   "source": [
    "mylist=['monday',24,True]\n",
    "\n",
    "# indexing\n",
    "mylist[1]\n",
    "n = ['a','b','c','d']\n",
    "s = [8,2,3,2]\n",
    "low = sorted(set(s))[0]\n",
    "indexes = [i for i,x in enumerate(s) if x == low]\n",
    "print(*[n[i] for i in indexes],sep=\"\\n\")"
   ]
  },
  {
   "cell_type": "code",
   "execution_count": 2,
   "metadata": {
    "colab": {},
    "colab_type": "code",
    "id": "BOMwpXc1ezx5",
    "outputId": "b10576f8-d8b5-42bf-d43e-cc0a4b1345a9"
   },
   "outputs": [
    {
     "data": {
      "text/plain": [
       "3"
      ]
     },
     "execution_count": 2,
     "metadata": {},
     "output_type": "execute_result"
    }
   ],
   "source": [
    "# length()\n",
    "len(mylist)"
   ]
  },
  {
   "cell_type": "code",
   "execution_count": 6,
   "metadata": {},
   "outputs": [
    {
     "name": "stdout",
     "output_type": "stream",
     "text": [
      "[0, 1, 2]\n",
      "[1, 2, 3]\n"
     ]
    }
   ],
   "source": [
    "print([i  for i in range(3)])\n",
    "print([i  for i in range(1,4)])"
   ]
  },
  {
   "cell_type": "code",
   "execution_count": 16,
   "metadata": {
    "colab": {},
    "colab_type": "code",
    "id": "oNGqjZf_ezx8"
   },
   "outputs": [],
   "source": [
    "# list extension\n",
    "mylist.insert(2,7) #insert(position,value)\n",
    "mylist.extend(range(25))#append to the end\n",
    "mylist.append(2) # append as a single element"
   ]
  },
  {
   "cell_type": "code",
   "execution_count": 9,
   "metadata": {
    "colab": {},
    "colab_type": "code",
    "id": "P0SPjsKLezx-"
   },
   "outputs": [],
   "source": [
    "# remove elements\n",
    "mylist.remove('monday')"
   ]
  },
  {
   "cell_type": "markdown",
   "metadata": {},
   "source": [
    "Remove the first occurence if there're multiple duplicates"
   ]
  },
  {
   "cell_type": "code",
   "execution_count": 10,
   "metadata": {},
   "outputs": [],
   "source": [
    "mylist.remove(1)"
   ]
  },
  {
   "cell_type": "code",
   "execution_count": 11,
   "metadata": {
    "colab": {},
    "colab_type": "code",
    "id": "WWv2oNUGezyA",
    "outputId": "24606159-c643-43c5-8f09-8ff8057536b4"
   },
   "outputs": [
    {
     "data": {
      "text/plain": [
       "2"
      ]
     },
     "execution_count": 11,
     "metadata": {},
     "output_type": "execute_result"
    }
   ],
   "source": [
    "# number of occurrence\n",
    "mylist.count(24)"
   ]
  },
  {
   "cell_type": "markdown",
   "metadata": {
    "colab_type": "text",
    "id": "2jxl58ghezyC"
   },
   "source": [
    "**Printing list**\n",
    "\n",
    "\\* symbol is use to print the list elements in a single line with space. \n",
    "To print all elements in new lines or separated by space use sep=”\\n” or sep=”, ” respectively.\n"
   ]
  },
  {
   "cell_type": "code",
   "execution_count": 18,
   "metadata": {
    "colab": {},
    "colab_type": "code",
    "id": "R52FGe3vezyD",
    "outputId": "f99189a4-9518-4b53-a7cd-bb85d7b1d00b"
   },
   "outputs": [
    {
     "name": "stdout",
     "output_type": "stream",
     "text": [
      "1\n",
      "2\n",
      "9\n",
      "0\n",
      "hello+world\n",
      "1\n",
      "2\n",
      "9\n",
      "0\n"
     ]
    }
   ],
   "source": [
    "mylist=[1,2,9,0]\n",
    "print(*mylist,sep=\"\\n\")\n",
    "# if list is string, we can simply join it\n",
    "list2=['hello','world']\n",
    "print('+'.join(list2))\n",
    "print('\\n'.join(map(str, mylist)))"
   ]
  },
  {
   "cell_type": "code",
   "execution_count": 21,
   "metadata": {},
   "outputs": [
    {
     "name": "stdout",
     "output_type": "stream",
     "text": [
      "[1, 2, 9, 0]\n",
      "1 2 9 0\n"
     ]
    }
   ],
   "source": [
    "print(mylist)\n",
    "print(*mylist)"
   ]
  },
  {
   "cell_type": "markdown",
   "metadata": {
    "colab_type": "text",
    "id": "Sg0ga1AQezyF"
   },
   "source": [
    "In pandas, lists are 'Series'"
   ]
  },
  {
   "cell_type": "code",
   "execution_count": 0,
   "metadata": {
    "colab": {},
    "colab_type": "code",
    "id": "MZzrUGdLezyG",
    "outputId": "564ccb7e-5c62-4789-992b-7afae85c8258"
   },
   "outputs": [
    {
     "data": {
      "text/plain": [
       "Roll_number    (0, 1, 2, 3, 4, 5, 6, 7, 8, 9)\n",
       "dtype: object"
      ]
     },
     "execution_count": 12,
     "metadata": {
      "tags": []
     },
     "output_type": "execute_result"
    }
   ],
   "source": [
    "import pandas as pd\n",
    "pd_list=pd.Series(mylist)\n",
    "new_list=pd.Series({\n",
    "'Roll_number': range(10)\n",
    "})\n",
    "\n",
    "# extract the object, similar to new_list[1] in R\n",
    "new_list[['Roll_number']]\n",
    "new_list[[0]]"
   ]
  },
  {
   "cell_type": "code",
   "execution_count": 0,
   "metadata": {
    "colab": {},
    "colab_type": "code",
    "id": "4wsNf9pEezyH",
    "outputId": "aadb192e-6030-4e69-eb2c-0e948e9bd111"
   },
   "outputs": [
    {
     "data": {
      "text/plain": [
       "range(0, 10)"
      ]
     },
     "execution_count": 13,
     "metadata": {
      "tags": []
     },
     "output_type": "execute_result"
    }
   ],
   "source": [
    "# extract the elements of a object, similar to new_list[[1]]\n",
    "new_list['Roll_number']\n",
    "new_list.Roll_number"
   ]
  },
  {
   "cell_type": "code",
   "execution_count": 107,
   "metadata": {},
   "outputs": [
    {
     "name": "stdout",
     "output_type": "stream",
     "text": [
      "4534038728\n",
      "4534038728\n",
      "-----------\n",
      "[6, 7, 8]\n"
     ]
    }
   ],
   "source": [
    "a=[1,2,3,4,5,6,7,8]\n",
    "print(id(a))\n",
    "for i in range(len(a)-1,-1,-1):\n",
    "    if a[i]>5:\n",
    "        pass\n",
    "    else:\n",
    "        a.remove(a[i])\n",
    "print(id(a))\n",
    "print('-----------')\n",
    "print(a)\n"
   ]
  },
  {
   "cell_type": "markdown",
   "metadata": {
    "colab_type": "text",
    "id": "taFoU7brezyK"
   },
   "source": [
    "#### List comprehension\n",
    "creating a list based on iterables\n",
    "\n",
    "[ expression for item in list if conditional ]\n"
   ]
  },
  {
   "cell_type": "code",
   "execution_count": 26,
   "metadata": {
    "colab": {},
    "colab_type": "code",
    "id": "JWh3uTJZezyL",
    "outputId": "7f9e0f9b-764f-4af6-a1d0-b6c2ae049a77"
   },
   "outputs": [
    {
     "name": "stdout",
     "output_type": "stream",
     "text": [
      "[0, 4, 16]\n"
     ]
    }
   ],
   "source": [
    "nums = [0, 1, 2, 3, 4]\n",
    "squares = [x ** 2 for x in nums]\n",
    "even_squares = [x ** 2 for x in nums if x % 2 == 0]\n",
    "print(even_squares)"
   ]
  },
  {
   "cell_type": "code",
   "execution_count": 30,
   "metadata": {},
   "outputs": [
    {
     "name": "stdout",
     "output_type": "stream",
     "text": [
      "0\n",
      "1\n",
      "2\n",
      "0\n",
      "1\n",
      "2\n",
      "3\n"
     ]
    }
   ],
   "source": [
    "for x in nums:\n",
    "    if x > 2:\n",
    "        for y in range(x):\n",
    "            print(y)"
   ]
  },
  {
   "cell_type": "code",
   "execution_count": 29,
   "metadata": {},
   "outputs": [
    {
     "data": {
      "text/plain": [
       "[0, 1, 2, 0, 1, 2, 3]"
      ]
     },
     "execution_count": 29,
     "metadata": {},
     "output_type": "execute_result"
    }
   ],
   "source": [
    "[ y for x in nums if x > 2 for y in range(x) ]"
   ]
  },
  {
   "cell_type": "code",
   "execution_count": 22,
   "metadata": {
    "colab": {},
    "colab_type": "code",
    "id": "kUDDBW7HezyM",
    "outputId": "0b508b5e-c049-4569-efe4-18820107bf8e"
   },
   "outputs": [
    {
     "name": "stdout",
     "output_type": "stream",
     "text": [
      "[[0, 0, 0], [0, 0, 1], [0, 1, 0], [0, 1, 2], [0, 2, 1], [0, 2, 2], [1, 0, 0], [1, 0, 2], [1, 1, 1], [1, 1, 2], [1, 2, 0], [1, 2, 1], [1, 2, 2], [2, 0, 1], [2, 0, 2], [2, 1, 0], [2, 1, 1], [2, 1, 2], [2, 2, 0], [2, 2, 1], [2, 2, 2]]\n"
     ]
    }
   ],
   "source": [
    "x,y,z,n=2,2,2,2\n",
    "print([[i,j,k] for i in range(x+1) for j in range(y+1) for k in range(z+1) if i+j+k!=n ])"
   ]
  },
  {
   "cell_type": "code",
   "execution_count": 23,
   "metadata": {
    "colab": {},
    "colab_type": "code",
    "id": "SVnAo-fBezyQ"
   },
   "outputs": [
    {
     "data": {
      "text/plain": [
       "[0, 1, 2, 1, 2, 3, 2, 3, 4]"
      ]
     },
     "execution_count": 23,
     "metadata": {},
     "output_type": "execute_result"
    }
   ],
   "source": [
    "[(i+j) for i in range(x+1) for j in range(y+1)]"
   ]
  },
  {
   "cell_type": "code",
   "execution_count": 17,
   "metadata": {
    "colab": {},
    "colab_type": "code",
    "id": "okgEKDPTezyR",
    "outputId": "91821bf5-9e0c-484b-9ac1-928452855c77"
   },
   "outputs": [
    {
     "ename": "NameError",
     "evalue": "name 'y' is not defined",
     "output_type": "error",
     "traceback": [
      "\u001b[0;31m---------------------------------------------------------------------------\u001b[0m",
      "\u001b[0;31mNameError\u001b[0m                                 Traceback (most recent call last)",
      "\u001b[0;32m<ipython-input-17-2a368330dd64>\u001b[0m in \u001b[0;36m<module>\u001b[0;34m()\u001b[0m\n\u001b[1;32m      1\u001b[0m \u001b[0;31m# create multidimensional array\u001b[0m\u001b[0;34m\u001b[0m\u001b[0;34m\u001b[0m\u001b[0m\n\u001b[0;32m----> 2\u001b[0;31m \u001b[0;34m[\u001b[0m\u001b[0;34m[\u001b[0m\u001b[0mi\u001b[0m \u001b[0;32mfor\u001b[0m \u001b[0mi\u001b[0m \u001b[0;32min\u001b[0m \u001b[0mrange\u001b[0m\u001b[0;34m(\u001b[0m\u001b[0mx\u001b[0m\u001b[0;34m+\u001b[0m\u001b[0;36m1\u001b[0m\u001b[0;34m)\u001b[0m\u001b[0;34m]\u001b[0m\u001b[0;32mfor\u001b[0m \u001b[0mj\u001b[0m \u001b[0;32min\u001b[0m \u001b[0mrange\u001b[0m\u001b[0;34m(\u001b[0m\u001b[0my\u001b[0m\u001b[0;34m)\u001b[0m\u001b[0;34m]\u001b[0m\u001b[0;34m\u001b[0m\u001b[0m\n\u001b[0m",
      "\u001b[0;31mNameError\u001b[0m: name 'y' is not defined"
     ]
    }
   ],
   "source": [
    "# create multidimensional array\n",
    "[[i for i in range(x+1)]for j in range(y)]"
   ]
  },
  {
   "cell_type": "code",
   "execution_count": 4,
   "metadata": {
    "colab": {
     "base_uri": "https://localhost:8080/",
     "height": 395
    },
    "colab_type": "code",
    "executionInfo": {
     "elapsed": 343,
     "status": "error",
     "timestamp": 1535829789080,
     "user": {
      "displayName": "Olivia Jin",
      "photoUrl": "//lh3.googleusercontent.com/-Lzx8iLCphXA/AAAAAAAAAAI/AAAAAAAAACs/6-6Ym45Rq5E/s50-c-k-no/photo.jpg",
      "userId": "113802629998149102361"
     },
     "user_tz": 240
    },
    "id": "DvfmTjlUezyT",
    "outputId": "9bf2123f-2c72-4ef0-917e-8ac3bb7b8a16"
   },
   "outputs": [
    {
     "name": "stdout",
     "output_type": "stream",
     "text": [
      "0 1 4 9 16\n"
     ]
    }
   ],
   "source": [
    "n= 5\n",
    "#result = [(lambda x: x if x <= 1 else fibonacci(x-1) + fibonacci(x-2))(x) for x in range(n)]\n",
    "print(*[(lambda x: x*x)(x) for x in range(n)])"
   ]
  },
  {
   "cell_type": "markdown",
   "metadata": {
    "colab_type": "text",
    "id": "eLKbgeE-ezyW"
   },
   "source": [
    "### Tuples\n",
    "There is nothing like tuples in R. Think of tuples as an R vector whose values can't be changed; i.e., it is immutable. Tuples are created using comma.\n",
    "\n",
    "A tuple is in many ways similar to a list; one of the most important differences is that tuples can be used as keys in dictionaries and as elements of sets, while lists cannot; probably because the keys of the dictionaries have to be immutable to ensure lookup"
   ]
  },
  {
   "cell_type": "code",
   "execution_count": 24,
   "metadata": {
    "colab": {},
    "colab_type": "code",
    "id": "YCEviv_8ezyW",
    "outputId": "b8ff155f-89da-43ff-d409-9e83addab117"
   },
   "outputs": [
    {
     "data": {
      "text/plain": [
       "(1, 2, 3, 4, 5)"
      ]
     },
     "execution_count": 24,
     "metadata": {},
     "output_type": "execute_result"
    }
   ],
   "source": [
    "my_tuple = 1,2,3,4,5\n",
    "my_tuple"
   ]
  },
  {
   "cell_type": "code",
   "execution_count": 26,
   "metadata": {
    "colab": {},
    "colab_type": "code",
    "id": "cZkQLuClezyY",
    "outputId": "9c7ba47f-a878-4f55-b329-db6ecb4fb6dc"
   },
   "outputs": [
    {
     "name": "stdout",
     "output_type": "stream",
     "text": [
      "{(1, 2, 3, 4, 5): range(0, 4)}\n"
     ]
    }
   ],
   "source": [
    "d = {\n",
    "    my_tuple: range(my_tuple[3])\n",
    "}\n",
    "print(d)"
   ]
  },
  {
   "cell_type": "markdown",
   "metadata": {
    "colab_type": "text",
    "id": "D27nyQwOezyb"
   },
   "source": [
    "### Dictionary \n",
    "It provides a two dimensional structure which supports key : value pair. Created with {}."
   ]
  },
  {
   "cell_type": "code",
   "execution_count": 27,
   "metadata": {
    "colab": {},
    "colab_type": "code",
    "id": "5VhGKTDIezyb",
    "outputId": "5190e84a-aee8-46ad-a43b-534449e99c8c"
   },
   "outputs": [
    {
     "data": {
      "text/plain": [
       "dict_keys(['data', 'DESCR', 'target', 'feature_names', 'filename'])"
      ]
     },
     "execution_count": 27,
     "metadata": {},
     "output_type": "execute_result"
    }
   ],
   "source": [
    "import numpy as np\n",
    "import pandas as pd\n",
    "from sklearn.datasets import load_boston\n",
    "\n",
    "# load data\n",
    "boston = load_boston()\n",
    "# the data is a dictionary\n",
    "# here you can think of it as a excel file with different sheets\n",
    "\n",
    "boston.keys()"
   ]
  },
  {
   "cell_type": "code",
   "execution_count": 28,
   "metadata": {
    "colab": {},
    "colab_type": "code",
    "id": "dL1XXIrPezyf",
    "outputId": "ed259bfc-cb07-4afd-d519-2a025ba09fdf"
   },
   "outputs": [
    {
     "data": {
      "text/plain": [
       "array(['CRIM', 'ZN', 'INDUS', 'CHAS', 'NOX', 'RM', 'AGE', 'DIS', 'RAD',\n",
       "       'TAX', 'PTRATIO', 'B', 'LSTAT'], dtype='<U7')"
      ]
     },
     "execution_count": 28,
     "metadata": {},
     "output_type": "execute_result"
    }
   ],
   "source": [
    "# gets the values corresponds to the key\n",
    "boston['feature_names']"
   ]
  },
  {
   "cell_type": "code",
   "execution_count": 35,
   "metadata": {
    "colab": {},
    "colab_type": "code",
    "id": "p8xx6YMkezyh",
    "outputId": "fa414757-4560-41a0-b81a-5caa1634a4d8"
   },
   "outputs": [
    {
     "name": "stdout",
     "output_type": "stream",
     "text": [
      "one 1\n",
      "two 2\n",
      "tee 3\n",
      "1\n",
      "2\n",
      "3\n"
     ]
    }
   ],
   "source": [
    "d= {\"one\":1,\"two\":2,\"three\":3}\n",
    "d = dict(one =1, two =2,tee=3)\n",
    "\n",
    "\n",
    "for i in d:\n",
    "    print(i,d[i])\n",
    "\n",
    "for i,c in d.items():\n",
    "    print(c)"
   ]
  },
  {
   "cell_type": "code",
   "execution_count": 36,
   "metadata": {},
   "outputs": [
    {
     "data": {
      "text/plain": [
       "True"
      ]
     },
     "execution_count": 36,
     "metadata": {},
     "output_type": "execute_result"
    }
   ],
   "source": [
    "d.get('four') is None"
   ]
  },
  {
   "cell_type": "code",
   "execution_count": 29,
   "metadata": {
    "colab": {},
    "colab_type": "code",
    "id": "ZkkFZj9mezyk",
    "outputId": "607cdbbb-83a8-4280-e11c-1410e0bbb8fa"
   },
   "outputs": [
    {
     "name": "stdout",
     "output_type": "stream",
     "text": [
      "other\n"
     ]
    }
   ],
   "source": [
    "del d['one']\n",
    "d.pop('two') \n",
    "\n",
    "print(d.get('four',\"other\"))\n",
    "# get it looks for V in the dictionary, and if it doesn't find it, it gives you back this value.\n"
   ]
  },
  {
   "cell_type": "code",
   "execution_count": 19,
   "metadata": {},
   "outputs": [
    {
     "data": {
      "text/plain": [
       "[('i', 12), ('a', 24), ('g', 42)]"
      ]
     },
     "execution_count": 19,
     "metadata": {},
     "output_type": "execute_result"
    }
   ],
   "source": [
    "d = {'a':24,'g':42,'i':12}\n",
    "# sort d by values\n",
    "sorted(d.items(),key=lambda x: x[1])"
   ]
  },
  {
   "cell_type": "markdown",
   "metadata": {},
   "source": [
    "Transform \"k:1 |k1:2|k2:3|k3:4\" to {k:1,k1:2,..."
   ]
  },
  {
   "cell_type": "markdown",
   "metadata": {},
   "source": [
    "Use bracket to enclose tuple"
   ]
  },
  {
   "cell_type": "code",
   "execution_count": 43,
   "metadata": {},
   "outputs": [
    {
     "data": {
      "text/plain": [
       "{'k': 1, 'k1': 2, 'k2': 3, 'k3': 4}"
      ]
     },
     "execution_count": 43,
     "metadata": {},
     "output_type": "execute_result"
    }
   ],
   "source": [
    "a=\"k:1|k1:2|k2:3|k3:4\"\n",
    "{key:int(val) for (key,val) in (i.split(\":\") for i in a.split(\"|\"))}"
   ]
  },
  {
   "cell_type": "markdown",
   "metadata": {
    "colab_type": "text",
    "id": "nZ27HZp7ezyn"
   },
   "source": [
    "#### Dictionary comprehension\n",
    "construct ditionary from a list"
   ]
  },
  {
   "cell_type": "code",
   "execution_count": 21,
   "metadata": {},
   "outputs": [
    {
     "data": {
      "text/plain": [
       "{1: 'a', 2: 'b', 3: 'c'}"
      ]
     },
     "execution_count": 21,
     "metadata": {},
     "output_type": "execute_result"
    }
   ],
   "source": [
    "{x:y for x,y in zip([1,2,3],['a','b','c'])}"
   ]
  },
  {
   "cell_type": "code",
   "execution_count": 0,
   "metadata": {
    "colab": {},
    "colab_type": "code",
    "id": "z4xuiSDSezyo",
    "outputId": "ac4c3eec-40eb-45e1-d70b-99b5f97453ef"
   },
   "outputs": [
    {
     "name": "stdout",
     "output_type": "stream",
     "text": [
      "{0: 0, 2: 4, 4: 16, 6: 36}\n"
     ]
    }
   ],
   "source": [
    "fun = {x: x ** 2 for x in range(7) if x % 2 == 0}\n",
    "print(fun)"
   ]
  },
  {
   "cell_type": "markdown",
   "metadata": {
    "colab_type": "text",
    "id": "FWyECK-1ezyq"
   },
   "source": [
    "### Arrays\n",
    "\n",
    "similar to R's list. Numpy standard arrays are homogeneous, typed (have attribute *dtype*) and **of fixed size** yet **mutable**\n",
    "\n",
    "While basic Python tuple can have data of different types\n",
    "\n",
    "Demonstrates vectorized operation"
   ]
  },
  {
   "cell_type": "markdown",
   "metadata": {},
   "source": [
    "A data type object describes interpretation of contiguous memory corresponding to an array, depending on the following aspects −\n",
    "\n",
    "    Type of data (integer, float or Python object)\n",
    "\n",
    "    Size of data\n",
    "\n",
    "    Byte order (little-endian or big-endian)\n",
    "\n",
    "    In case of structured type, the names of fields, data type of each field and part of the memory block taken by each field.\n",
    "\n",
    "    If data type is a subarray, its shape and data type"
   ]
  },
  {
   "cell_type": "markdown",
   "metadata": {},
   "source": [
    "You can have mixed data types in the array by using 'structured array' - specify the data types of the array in different segments"
   ]
  },
  {
   "cell_type": "code",
   "execution_count": 51,
   "metadata": {},
   "outputs": [
    {
     "data": {
      "text/plain": [
       "tuple"
      ]
     },
     "execution_count": 51,
     "metadata": {},
     "output_type": "execute_result"
    }
   ],
   "source": [
    "a = 'str',1,False\n",
    "type(a)"
   ]
  },
  {
   "cell_type": "code",
   "execution_count": 47,
   "metadata": {},
   "outputs": [
    {
     "name": "stdout",
     "output_type": "stream",
     "text": [
      "<class 'str'>\n",
      "<class 'int'>\n"
     ]
    }
   ],
   "source": [
    "print(type(a[0]))\n",
    "print(type(a[1]))"
   ]
  },
  {
   "cell_type": "code",
   "execution_count": 48,
   "metadata": {},
   "outputs": [
    {
     "data": {
      "text/plain": [
       "array(['c', '1', 'False'], dtype='<U5')"
      ]
     },
     "execution_count": 48,
     "metadata": {},
     "output_type": "execute_result"
    }
   ],
   "source": [
    "np.array(['c',1,False])"
   ]
  },
  {
   "cell_type": "markdown",
   "metadata": {},
   "source": [
    "You can construct a numpy array from list or from tuple"
   ]
  },
  {
   "cell_type": "code",
   "execution_count": 50,
   "metadata": {
    "colab": {},
    "colab_type": "code",
    "id": "1XPo4YmXezyq",
    "outputId": "e365f598-70dc-4754-d8fe-518377da5e8a"
   },
   "outputs": [
    {
     "name": "stdout",
     "output_type": "stream",
     "text": [
      "(3,)\n",
      "(3, 3)\n"
     ]
    }
   ],
   "source": [
    "import numpy as np\n",
    "z = np.array([1,2,3])\n",
    "z = np.array((1,2,3))\n",
    "\n",
    "z[0]=5\n",
    "print(z.shape)\n",
    "\n",
    "y = np.array([(1,2,3),[4,5,6],[7,8,9]])\n",
    "print(y.shape)"
   ]
  },
  {
   "cell_type": "code",
   "execution_count": 0,
   "metadata": {
    "colab": {},
    "colab_type": "code",
    "id": "VPdifpD2ezyu",
    "outputId": "4abd38f9-13fd-439c-bb02-535760e026ef"
   },
   "outputs": [
    {
     "name": "stdout",
     "output_type": "stream",
     "text": [
      "[1 5 7]\n",
      "[1 5 7]\n"
     ]
    }
   ],
   "source": [
    "print(y[(0,1,2),(0,1,0)])\n",
    "print(np.array([y[0,0],y[1,1],y[2,0]]))"
   ]
  },
  {
   "cell_type": "code",
   "execution_count": 0,
   "metadata": {
    "colab": {},
    "colab_type": "code",
    "id": "kD0RZL8pezyw",
    "outputId": "efa64ace-c945-4c04-e02a-4aa34c98b29e"
   },
   "outputs": [
    {
     "data": {
      "text/plain": [
       "array([[0.90496928, 0.4518933 , 0.10936104, 0.33939558, 0.85423471,\n",
       "        0.90335545, 0.70767711, 0.93100593, 0.40116916, 0.177899  ]])"
      ]
     },
     "execution_count": 24,
     "metadata": {
      "tags": []
     },
     "output_type": "execute_result"
    }
   ],
   "source": [
    "# random_sample(size=None), size is sequence of int\n",
    "a = np.random.random_sample((2,10))\n",
    "b = np.random.random_sample(10)\n",
    "c = np.vstack((a,a)) # return an array\n",
    "# subsetting\n",
    "a[1:10:2] #a[low:high:stride]\n"
   ]
  },
  {
   "cell_type": "code",
   "execution_count": 0,
   "metadata": {
    "colab": {},
    "colab_type": "code",
    "id": "K1YeJ3h4ezyz"
   },
   "outputs": [],
   "source": [
    "a = np.zeros((2,2))\n",
    "b = np.ones((1,2))\n",
    "c = np.full((2,2), 7) # Create a constant array\n",
    "d = np.eye(2)        # Create a 2x2 identity matrix"
   ]
  },
  {
   "cell_type": "code",
   "execution_count": 0,
   "metadata": {
    "colab": {},
    "colab_type": "code",
    "id": "ieLUKEBjezy0",
    "outputId": "43aca726-caae-441f-f597-28156181626e"
   },
   "outputs": [
    {
     "data": {
      "text/plain": [
       "array([1, 3, 5, 7, 9])"
      ]
     },
     "execution_count": 26,
     "metadata": {
      "tags": []
     },
     "output_type": "execute_result"
    }
   ],
   "source": [
    "r = np.arange(1,10,2)\n",
    "r"
   ]
  },
  {
   "cell_type": "code",
   "execution_count": 0,
   "metadata": {
    "colab": {},
    "colab_type": "code",
    "id": "yQhD1Zisezy5",
    "outputId": "cb724791-d78f-444b-d165-0d5ac94800b3"
   },
   "outputs": [
    {
     "data": {
      "text/plain": [
       "[1, 3, 5, 7, 9]"
      ]
     },
     "execution_count": 27,
     "metadata": {
      "tags": []
     },
     "output_type": "execute_result"
    }
   ],
   "source": [
    "print(*sorted(diff), sep = \"\\n\")\n"
   ]
  },
  {
   "cell_type": "markdown",
   "metadata": {
    "colab_type": "text",
    "id": "ild3PO7Qezy8"
   },
   "source": [
    "Integer array indexing: When you index into numpy arrays using slicing(using sequence of int as index), the resulting array view will always be a subarray of the original array. In contrast, integer array indexing allows you to construct arbitrary arrays using the data from another array. Here is an example:\n",
    "\n",
    "Mixing integer indexing with slices yields an array of lower rank, while using only slices yields an array of the same rank as the original array."
   ]
  },
  {
   "cell_type": "code",
   "execution_count": 0,
   "metadata": {
    "colab": {},
    "colab_type": "code",
    "id": "8UhkPpEtezy-",
    "outputId": "b9a7f771-11c1-4bc8-ee7b-56d367645c1f"
   },
   "outputs": [
    {
     "name": "stdout",
     "output_type": "stream",
     "text": [
      "[0.35890598 0.96022947 0.11684404 0.82479124] (4,)\n",
      "[[0.35890598 0.96022947 0.11684404 0.82479124]] (1, 4)\n",
      "[[0.35890598 0.96022947 0.11684404 0.82479124]] (1, 4)\n",
      "[[0.11367719 0.29086353 0.81696732 0.86141579]\n",
      " [0.78965346 0.59717777 0.98411158 0.372677  ]] (2, 4)\n"
     ]
    }
   ],
   "source": [
    "a=np.random.random((4,4))\n",
    "row_r1 = a[1, :]    # Rank 1 view of the second row of a  \n",
    "row_r2 = a[1:2, :]  # Rank 2 view of the second row of a\n",
    "row_r3 = a[[1], :]  # Use list to slice\n",
    "d = [0,2]\n",
    "row_r4 = a[d,:]\n",
    "print(row_r1, row_r1.shape) \n",
    "print(row_r2, row_r2.shape)\n",
    "print(row_r3, row_r3.shape)\n",
    "print(row_r4, row_r4.shape)"
   ]
  },
  {
   "cell_type": "code",
   "execution_count": 0,
   "metadata": {
    "colab": {},
    "colab_type": "code",
    "id": "DzY0KfSbezzD",
    "outputId": "e49e24b4-3c75-4dbf-c29a-441dfc4b589f"
   },
   "outputs": [
    {
     "data": {
      "text/plain": [
       "array([0.11367719, 0.29086353, 0.35890598, 0.11684404, 0.372677  ,\n",
       "       0.31715124, 0.15682189])"
      ]
     },
     "execution_count": 29,
     "metadata": {
      "tags": []
     },
     "output_type": "execute_result"
    }
   ],
   "source": [
    "# Boolean array indexing\n",
    "a[a<0.5]"
   ]
  },
  {
   "cell_type": "markdown",
   "metadata": {
    "colab_type": "text",
    "id": "Aa9WR8lxezzF"
   },
   "source": [
    "### Data Frame: \n",
    "\n",
    "pandas.DataFrame\n",
    "\n",
    "Creating DataFrame has the similar syntax as creating series and dictionary."
   ]
  },
  {
   "cell_type": "code",
   "execution_count": 0,
   "metadata": {
    "colab": {},
    "colab_type": "code",
    "id": "Xf4Syg3mezzG",
    "outputId": "1759c66e-67f8-4101-ca91-961581486289"
   },
   "outputs": [
    {
     "data": {
      "text/plain": [
       "<bound method DataFrame.info of   Hair_Color Name\n",
       "0      Brown    a\n",
       "1      White    v\n",
       "2        Red    c>"
      ]
     },
     "execution_count": 205,
     "metadata": {
      "tags": []
     },
     "output_type": "execute_result"
    }
   ],
   "source": [
    "import pandas as pd\n",
    "df = pd.DataFrame({\n",
    "'Name': [\"a\",\"v\",\"c\"],\n",
    "'Hair_Color': [\"Brown\",\"White\",\"Red\"]\n",
    "})\n",
    "\n",
    "# dim()\n",
    "df.shape\n",
    "df.info"
   ]
  },
  {
   "cell_type": "code",
   "execution_count": 0,
   "metadata": {
    "colab": {},
    "colab_type": "code",
    "id": "6q2LoxOAezzI",
    "outputId": "3576e5e9-5818-4c80-9e0d-dc274791c285"
   },
   "outputs": [
    {
     "data": {
      "text/plain": [
       "Hair_Color    Red\n",
       "Name            c\n",
       "Name: 2, dtype: object"
      ]
     },
     "execution_count": 206,
     "metadata": {
      "tags": []
     },
     "output_type": "execute_result"
    }
   ],
   "source": [
    "# length()\n",
    "df.size\n",
    "\n",
    "df[\"Name\"]\n",
    "df.Name #same as df$Name\n",
    "df.shape\n",
    "\n",
    "# row/column number based selection\n",
    "# start:end\n",
    "df.iloc[1,:]\n",
    "df.iloc[:,:2]\n",
    "df.iloc[:,-2:] #last_two_position:end\n",
    "df.iloc[:,:-2] #start:last_two_position\n",
    "df.iloc[-1,:] # last item"
   ]
  },
  {
   "cell_type": "code",
   "execution_count": 0,
   "metadata": {
    "colab": {},
    "colab_type": "code",
    "id": "1ROas0g6ezzN",
    "outputId": "cb132c15-d890-48a8-f509-787cb0c47e13"
   },
   "outputs": [
    {
     "data": {
      "text/html": [
       "<div>\n",
       "<style scoped>\n",
       "    .dataframe tbody tr th:only-of-type {\n",
       "        vertical-align: middle;\n",
       "    }\n",
       "\n",
       "    .dataframe tbody tr th {\n",
       "        vertical-align: top;\n",
       "    }\n",
       "\n",
       "    .dataframe thead th {\n",
       "        text-align: right;\n",
       "    }\n",
       "</style>\n",
       "<table border=\"1\" class=\"dataframe\">\n",
       "  <thead>\n",
       "    <tr style=\"text-align: right;\">\n",
       "      <th></th>\n",
       "      <th>Hair_Color</th>\n",
       "    </tr>\n",
       "  </thead>\n",
       "  <tbody>\n",
       "    <tr>\n",
       "      <th>0</th>\n",
       "      <td>Brown</td>\n",
       "    </tr>\n",
       "    <tr>\n",
       "      <th>1</th>\n",
       "      <td>White</td>\n",
       "    </tr>\n",
       "    <tr>\n",
       "      <th>2</th>\n",
       "      <td>Red</td>\n",
       "    </tr>\n",
       "  </tbody>\n",
       "</table>\n",
       "</div>"
      ],
      "text/plain": [
       "  Hair_Color\n",
       "0      Brown\n",
       "1      White\n",
       "2        Red"
      ]
     },
     "execution_count": 207,
     "metadata": {
      "tags": []
     },
     "output_type": "execute_result"
    }
   ],
   "source": [
    "# row/column label based selection\n",
    "df.loc[:,['Name','Hair_Color']]\n",
    "df[['Name','Hair_Color']]\n",
    "\n",
    "# excluding columns\n",
    "df[df.columns.difference(['Name'])]\n",
    "df.drop(['Name'],1)"
   ]
  },
  {
   "cell_type": "code",
   "execution_count": 0,
   "metadata": {
    "colab": {},
    "colab_type": "code",
    "id": "ZVM2i50eezzP",
    "outputId": "aed2d8d2-aaa2-418f-fdfa-de2678b1685d"
   },
   "outputs": [
    {
     "data": {
      "text/html": [
       "<div>\n",
       "<style scoped>\n",
       "    .dataframe tbody tr th:only-of-type {\n",
       "        vertical-align: middle;\n",
       "    }\n",
       "\n",
       "    .dataframe tbody tr th {\n",
       "        vertical-align: top;\n",
       "    }\n",
       "\n",
       "    .dataframe thead th {\n",
       "        text-align: right;\n",
       "    }\n",
       "</style>\n",
       "<table border=\"1\" class=\"dataframe\">\n",
       "  <thead>\n",
       "    <tr style=\"text-align: right;\">\n",
       "      <th></th>\n",
       "      <th>Hair_Color</th>\n",
       "      <th>Name</th>\n",
       "    </tr>\n",
       "  </thead>\n",
       "  <tbody>\n",
       "    <tr>\n",
       "      <th>0</th>\n",
       "      <td>Brown</td>\n",
       "      <td>a</td>\n",
       "    </tr>\n",
       "  </tbody>\n",
       "</table>\n",
       "</div>"
      ],
      "text/plain": [
       "  Hair_Color Name\n",
       "0      Brown    a"
      ]
     },
     "execution_count": 172,
     "metadata": {
      "tags": []
     },
     "output_type": "execute_result"
    }
   ],
   "source": [
    "# filter rows based on a condition\n",
    "df.query(\"Name=='a' & Hair_Color=='Brown'\")\n",
    "df[df.Name=='a']"
   ]
  },
  {
   "cell_type": "code",
   "execution_count": 0,
   "metadata": {
    "colab": {},
    "colab_type": "code",
    "id": "rCGnXlFpezzQ",
    "outputId": "8f8a9af4-d324-47d4-c71e-1e4c62aa91e2"
   },
   "outputs": [
    {
     "data": {
      "text/html": [
       "<div>\n",
       "<style scoped>\n",
       "    .dataframe tbody tr th:only-of-type {\n",
       "        vertical-align: middle;\n",
       "    }\n",
       "\n",
       "    .dataframe tbody tr th {\n",
       "        vertical-align: top;\n",
       "    }\n",
       "\n",
       "    .dataframe thead th {\n",
       "        text-align: right;\n",
       "    }\n",
       "</style>\n",
       "<table border=\"1\" class=\"dataframe\">\n",
       "  <thead>\n",
       "    <tr style=\"text-align: right;\">\n",
       "      <th></th>\n",
       "      <th>Hello</th>\n",
       "      <th>world</th>\n",
       "    </tr>\n",
       "  </thead>\n",
       "  <tbody>\n",
       "    <tr>\n",
       "      <th>count</th>\n",
       "      <td>3</td>\n",
       "      <td>3</td>\n",
       "    </tr>\n",
       "    <tr>\n",
       "      <th>unique</th>\n",
       "      <td>3</td>\n",
       "      <td>3</td>\n",
       "    </tr>\n",
       "    <tr>\n",
       "      <th>top</th>\n",
       "      <td>Red</td>\n",
       "      <td>a</td>\n",
       "    </tr>\n",
       "    <tr>\n",
       "      <th>freq</th>\n",
       "      <td>1</td>\n",
       "      <td>1</td>\n",
       "    </tr>\n",
       "  </tbody>\n",
       "</table>\n",
       "</div>"
      ],
      "text/plain": [
       "       Hello world\n",
       "count      3     3\n",
       "unique     3     3\n",
       "top      Red     a\n",
       "freq       1     1"
      ]
     },
     "execution_count": 38,
     "metadata": {
      "tags": []
     },
     "output_type": "execute_result"
    }
   ],
   "source": [
    "# head()\n",
    "df.head()\n",
    "\n",
    "# sample\n",
    "df.sample(2)\n",
    "df.sample(frac=0.2)\n",
    "\n",
    "# sort()\n",
    "df.sort_values(['Name'],ascending=False) \n",
    "# default is ascending\n",
    "\n",
    "# attritbute columns names to a DataFrame\n",
    "df.columns = [\"Hello\",\"world\"]\n",
    "\n",
    "# rename a specific column, use dictionary to replace\n",
    "df.rename(columns={'Hello':'Bye'})\n",
    "\n",
    "# summary()\n",
    "df.describe()"
   ]
  },
  {
   "cell_type": "code",
   "execution_count": 0,
   "metadata": {
    "colab": {},
    "colab_type": "code",
    "id": "FjAtmUlCezzT"
   },
   "outputs": [],
   "source": [
    "df[['Hello']].drop_duplicates()"
   ]
  },
  {
   "cell_type": "code",
   "execution_count": 0,
   "metadata": {
    "colab": {},
    "colab_type": "code",
    "id": "PbPp0m9LezzU",
    "outputId": "89089047-8bf6-4dcd-9fec-11cb0a6163c0"
   },
   "outputs": [
    {
     "data": {
      "text/plain": [
       "Series([], dtype: float64)"
      ]
     },
     "execution_count": 34,
     "metadata": {
      "tags": []
     },
     "output_type": "execute_result"
    }
   ],
   "source": [
    "# mean()\n",
    "df.mean()"
   ]
  },
  {
   "cell_type": "markdown",
   "metadata": {
    "colab_type": "text",
    "id": "N8cqHacsezzX"
   },
   "source": [
    "Summarize(),aggregate()"
   ]
  },
  {
   "cell_type": "code",
   "execution_count": 0,
   "metadata": {
    "colab": {},
    "colab_type": "code",
    "id": "Mfl5WnUSezzX",
    "outputId": "363e6c61-5032-4932-f2ef-bab1b3f12921"
   },
   "outputs": [
    {
     "name": "stdout",
     "output_type": "stream",
     "text": [
      "      col1\n",
      "col2      \n",
      "a      0.5\n",
      "b      2.0\n",
      "c      3.0\n"
     ]
    },
    {
     "data": {
      "text/html": [
       "<div>\n",
       "<style scoped>\n",
       "    .dataframe tbody tr th:only-of-type {\n",
       "        vertical-align: middle;\n",
       "    }\n",
       "\n",
       "    .dataframe tbody tr th {\n",
       "        vertical-align: top;\n",
       "    }\n",
       "\n",
       "    .dataframe thead th {\n",
       "        text-align: right;\n",
       "    }\n",
       "</style>\n",
       "<table border=\"1\" class=\"dataframe\">\n",
       "  <thead>\n",
       "    <tr style=\"text-align: right;\">\n",
       "      <th></th>\n",
       "      <th>col1</th>\n",
       "    </tr>\n",
       "    <tr>\n",
       "      <th>col2</th>\n",
       "      <th></th>\n",
       "    </tr>\n",
       "  </thead>\n",
       "  <tbody>\n",
       "    <tr>\n",
       "      <th>a</th>\n",
       "      <td>1</td>\n",
       "    </tr>\n",
       "    <tr>\n",
       "      <th>b</th>\n",
       "      <td>2</td>\n",
       "    </tr>\n",
       "    <tr>\n",
       "      <th>c</th>\n",
       "      <td>3</td>\n",
       "    </tr>\n",
       "  </tbody>\n",
       "</table>\n",
       "</div>"
      ],
      "text/plain": [
       "      col1\n",
       "col2      \n",
       "a        1\n",
       "b        2\n",
       "c        3"
      ]
     },
     "execution_count": 19,
     "metadata": {
      "tags": []
     },
     "output_type": "execute_result"
    }
   ],
   "source": [
    "df=pd.DataFrame({\n",
    "    \"col1\":range(4),\n",
    "    \"col2\":[\"a\",\"a\",\"b\",\"c\"]\n",
    "})\n",
    "print(df.groupby('col2').agg({'col1': 'mean'}))\n",
    "df.groupby('col2').sum()"
   ]
  },
  {
   "cell_type": "markdown",
   "metadata": {
    "colab_type": "text",
    "id": "S7e9vTA-ezza"
   },
   "source": [
    "### Series\n",
    "\n",
    "pandas.Series(range(10)) is a one dimensional object.DataFrame is a 2D object. df['Name'] would return a series."
   ]
  },
  {
   "cell_type": "code",
   "execution_count": 0,
   "metadata": {
    "colab": {},
    "colab_type": "code",
    "id": "GU31L69iezza",
    "outputId": "841fa7d4-57fc-43e9-e2cb-037a639872d9"
   },
   "outputs": [
    {
     "name": "stdout",
     "output_type": "stream",
     "text": [
      "(10,)\n"
     ]
    },
    {
     "data": {
      "text/plain": [
       "(10, 0)"
      ]
     },
     "execution_count": 35,
     "metadata": {
      "tags": []
     },
     "output_type": "execute_result"
    }
   ],
   "source": [
    "print(pd.Series(range(10)).shape)\n",
    "\n",
    "\n",
    "pd.DataFrame(index=range(10)).shape\n",
    "# an empty data frame"
   ]
  },
  {
   "cell_type": "markdown",
   "metadata": {
    "colab_type": "text",
    "id": "Ghfee_V9ezzd"
   },
   "source": [
    "### TIme series\n",
    "\n",
    "- DatetimeIndex\n",
    "\n",
    "    For time stamps, Pandas provides the Timestamp type. As mentioned before, it is essentially a replacement for Python's native datetime, but is based on the more efficient numpy.datetime64 data type. From a group of these Timestamp objects, Pandas can construct a **DatetimeIndex** that can be used to index data in a Series or DataFrame"
   ]
  },
  {
   "cell_type": "code",
   "execution_count": 0,
   "metadata": {
    "colab": {},
    "colab_type": "code",
    "id": "4X-60_NSezze",
    "outputId": "8a181339-bf37-42db-e89c-0561787728f0"
   },
   "outputs": [
    {
     "name": "stdout",
     "output_type": "stream",
     "text": [
      "DatetimeIndex(['2015-07-04', '2015-07-06', '2015-07-07', '2015-07-08'], dtype='datetime64[ns]', freq=None)\n"
     ]
    }
   ],
   "source": [
    "dates = pd.to_datetime(['4th of July, 2015',\n",
    "                       '2015-Jul-6', '07-07-2015', '20150708'])\n",
    "print(dates)"
   ]
  },
  {
   "cell_type": "code",
   "execution_count": 0,
   "metadata": {
    "colab": {},
    "colab_type": "code",
    "id": "rTYhmaOvezzh",
    "outputId": "c03d5ab4-ff1f-47f5-9cb3-e9ca519e259b"
   },
   "outputs": [
    {
     "data": {
      "text/plain": [
       "DatetimeIndex(['2018-04-08 00:00:00', '2018-05-08 10:29:06',\n",
       "               '2018-06-07 20:58:12', '2018-07-08 07:27:18',\n",
       "               '2018-08-07 17:56:24', '2018-09-07 04:25:30',\n",
       "               '2018-10-07 14:54:36', '2018-11-07 01:23:42',\n",
       "               '2018-12-07 11:52:48', '2019-01-06 22:21:54',\n",
       "               '2019-02-06 08:51:00', '2019-03-08 19:20:06'],\n",
       "              dtype='datetime64[ns]', freq=None)"
      ]
     },
     "execution_count": 155,
     "metadata": {
      "tags": []
     },
     "output_type": "execute_result"
    }
   ],
   "source": [
    "# certain date + duration\n",
    "date = pd.to_datetime(\"2018-04-08\")\n",
    "index = date + pd.to_timedelta(np.arange(12), 'M')\n",
    "index"
   ]
  },
  {
   "cell_type": "code",
   "execution_count": 0,
   "metadata": {
    "colab": {},
    "colab_type": "code",
    "id": "rviCRWy2ezzk",
    "outputId": "a57f7f52-02a7-46ed-aa16-920139994f00"
   },
   "outputs": [
    {
     "name": "stdout",
     "output_type": "stream",
     "text": [
      "2018-05-08 10:29:06    1.000000\n",
      "2018-06-07 20:58:12    1.414214\n",
      "dtype: float64\n"
     ]
    }
   ],
   "source": [
    "data = pd.Series((np.sqrt(x) for x in np.arange(12)), index=index)\n",
    "# then you would be able to access the data using index\n",
    "print(data['2018-05-01':'2018-07-01'])"
   ]
  },
  {
   "cell_type": "code",
   "execution_count": 0,
   "metadata": {
    "colab": {},
    "colab_type": "code",
    "id": "cusv8zXZezzm",
    "outputId": "2b7a9d97-be44-4f83-a780-149c357fe31e"
   },
   "outputs": [
    {
     "data": {
      "text/plain": [
       "2019-01-06 22:21:54    3.000000\n",
       "2019-02-06 08:51:00    3.162278\n",
       "2019-03-08 19:20:06    3.316625\n",
       "dtype: float64"
      ]
     },
     "execution_count": 157,
     "metadata": {
      "tags": []
     },
     "output_type": "execute_result"
    }
   ],
   "source": [
    "data['2019']"
   ]
  },
  {
   "cell_type": "markdown",
   "metadata": {
    "colab_type": "text",
    "id": "P1i_1o_Dezzp"
   },
   "source": [
    "- Period\n",
    "For time Periods, Pandas provides the Period type. This encodes a **fixed-frequency** interval based on numpy.datetime64. The associated index structure is PeriodIndex."
   ]
  },
  {
   "cell_type": "code",
   "execution_count": 0,
   "metadata": {
    "colab": {},
    "colab_type": "code",
    "id": "snovSOydezzp",
    "outputId": "499baaaa-b3ca-40ad-c0cd-df2d29ec59ef"
   },
   "outputs": [
    {
     "data": {
      "text/plain": [
       "PeriodIndex(['2018-04', '2018-05', '2018-06', '2018-07', '2018-08', '2018-09',\n",
       "             '2018-10', '2018-11', '2018-12', '2019-01', '2019-02', '2019-03'],\n",
       "            dtype='period[M]', freq='M')"
      ]
     },
     "execution_count": 45,
     "metadata": {
      "tags": []
     },
     "output_type": "execute_result"
    }
   ],
   "source": [
    "index.to_period(freq='M')"
   ]
  },
  {
   "cell_type": "markdown",
   "metadata": {
    "colab_type": "text",
    "id": "NfwDKkkkezzt"
   },
   "source": [
    "- Duration\n",
    "For time deltas or durations, Pandas provides the Timedelta type. Timedelta is a more efficient replacement for Python's native datetime.timedelta type, and is based on numpy.timedelta64. The associated index structure is TimedeltaIndex."
   ]
  },
  {
   "cell_type": "markdown",
   "metadata": {
    "colab_type": "text",
    "id": "el7nkduJezzx"
   },
   "source": [
    "- Automatically generate a range of datetime/timedelta/period"
   ]
  },
  {
   "cell_type": "code",
   "execution_count": 52,
   "metadata": {
    "colab": {},
    "colab_type": "code",
    "id": "LLsI2yA2ezzx",
    "outputId": "d8583e13-cf9d-4eb6-e1c4-5ded9d677cce"
   },
   "outputs": [
    {
     "data": {
      "text/plain": [
       "DatetimeIndex(['2015-07-03', '2015-07-04', '2015-07-05', '2015-07-06',\n",
       "               '2015-07-07', '2015-07-08', '2015-07-09', '2015-07-10'],\n",
       "              dtype='datetime64[ns]', freq='D')"
      ]
     },
     "execution_count": 52,
     "metadata": {},
     "output_type": "execute_result"
    }
   ],
   "source": [
    "pd.date_range('2015-07-03', periods=8)\n",
    "#pd.date_range('2015-07-03','2018-03-09',freq='Y')"
   ]
  },
  {
   "cell_type": "markdown",
   "metadata": {
    "colab_type": "text",
    "id": "LL-wMWwTezzz"
   },
   "source": [
    "### Matrix\n",
    "\n",
    "Generally, a matrix contains elements of the same class. However, even if you mix up elements from different classes (string, boolean, numeric etc), it will still work.\n",
    "\n",
    "Numpy.column_stack\n",
    "\n",
    "Numpy.matrix(data) returns a matrix from an array-like object or from a string of data. \n",
    "\n",
    "Indexing is the same as DataFrame"
   ]
  },
  {
   "cell_type": "markdown",
   "metadata": {},
   "source": [
    "The matrix objects are a subclass of the numpy arrays (ndarray). The matrix objects inherit all the attributes and methods of ndarry. Another difference is that numpy matrices are strictly 2-dimensional, while numpy arrays can be of any dimension, i.e. they are n-dimensional.\n",
    "\n",
    "The main advantage of numpy matrices is that they provide a convenient notation for matrix multiplication: if a and b are matrices, then a*b is their matrix product.\n",
    "\n"
   ]
  },
  {
   "cell_type": "code",
   "execution_count": 0,
   "metadata": {
    "colab": {},
    "colab_type": "code",
    "id": "-l3x_cINezzz",
    "outputId": "27d27f2e-55b1-4ba3-b0f3-19600bf983b2"
   },
   "outputs": [
    {
     "data": {
      "text/plain": [
       "matrix([[0.73286406, 1.72287075],\n",
       "        [1.7357881 , 4.13367077]])"
      ]
     },
     "execution_count": 36,
     "metadata": {
      "tags": []
     },
     "output_type": "execute_result"
    }
   ],
   "source": [
    "import numpy as np\n",
    "a = np.array(range(10,15))\n",
    "b = np.array(range(20,25))\n",
    "c = np.array(range(30,35))\n",
    "# use square bracket to create matrix\n",
    "my_mat = np.column_stack([a,b,c])\n",
    "\n",
    "d = np.matrix(np.random.random((2,2)))\n",
    "e = np.matrix([\n",
    "\t[1,2],\n",
    "\t[3,4]\n",
    "\t])\n",
    "\n",
    "# dot product & matrix transpose\n",
    "np.dot(d,e.T)\n"
   ]
  },
  {
   "cell_type": "markdown",
   "metadata": {
    "colab_type": "text",
    "id": "X40oj1qxezz1"
   },
   "source": [
    "### Set\n",
    "A set is an unordered collection of distinct elements. use {} to construct"
   ]
  },
  {
   "cell_type": "code",
   "execution_count": 73,
   "metadata": {
    "colab": {},
    "colab_type": "code",
    "id": "Zhw0NL1qezz1",
    "outputId": "2a9ddda3-c77d-4bf5-d111-1ce66c373338"
   },
   "outputs": [
    {
     "name": "stdout",
     "output_type": "stream",
     "text": [
      "0\n",
      "1\n",
      "2\n",
      "4\n",
      "10\n",
      "-4\n",
      "#0 0\n",
      "#1 1\n",
      "#2 2\n",
      "#3 4\n",
      "#4 10\n",
      "#5 -4\n"
     ]
    }
   ],
   "source": [
    "arr=[1,2,4,0,10,-4,10,4,10,10]\n",
    "c = set(arr)\n",
    "for i in c:\n",
    "    print (i)\n",
    "for idx,value in enumerate(c):\n",
    "    print(\"#{} {}\".format(idx,value))"
   ]
  },
  {
   "cell_type": "code",
   "execution_count": 74,
   "metadata": {
    "colab": {},
    "colab_type": "code",
    "id": "MD6itC0Mezz3",
    "outputId": "dc6f35b0-b56f-4c50-97f1-58a64ba09135"
   },
   "outputs": [
    {
     "data": {
      "text/plain": [
       "[4, 4]"
      ]
     },
     "execution_count": 74,
     "metadata": {},
     "output_type": "execute_result"
    }
   ],
   "source": [
    "low = sorted(set(arr))[4]\n",
    "indexes = [1,2,3]\n",
    "list(filter(lambda x: x==low,arr))"
   ]
  },
  {
   "cell_type": "code",
   "execution_count": 75,
   "metadata": {
    "colab": {},
    "colab_type": "code",
    "id": "UVZpO2yIezz5",
    "outputId": "2faec3ac-b280-43c6-fa22-c347fddb120d"
   },
   "outputs": [
    {
     "name": "stdout",
     "output_type": "stream",
     "text": [
      "Harry\n",
      "Berry\n"
     ]
    }
   ],
   "source": [
    "l = ['Harry', 'Berry'] \n",
    "print(*l,sep=\"\\n\")"
   ]
  },
  {
   "cell_type": "code",
   "execution_count": 76,
   "metadata": {
    "colab": {},
    "colab_type": "code",
    "id": "hqKKysKNezz8",
    "outputId": "e3629709-4527-4190-b3b1-5eeac1620050"
   },
   "outputs": [
    {
     "data": {
      "text/plain": [
       "{-4, 0, 4, 10}"
      ]
     },
     "execution_count": 76,
     "metadata": {},
     "output_type": "execute_result"
    }
   ],
   "source": [
    "c.difference([1,2,3])"
   ]
  },
  {
   "cell_type": "code",
   "execution_count": 77,
   "metadata": {},
   "outputs": [
    {
     "data": {
      "text/plain": [
       "{-4, 0, 3, 4, 10}"
      ]
     },
     "execution_count": 77,
     "metadata": {},
     "output_type": "execute_result"
    }
   ],
   "source": [
    "# left and right difference\n",
    "c^set([1,2,3])"
   ]
  },
  {
   "cell_type": "code",
   "execution_count": 79,
   "metadata": {
    "colab": {},
    "colab_type": "code",
    "id": "g_sXBR-Bezz-"
   },
   "outputs": [
    {
     "name": "stdout",
     "output_type": "stream",
     "text": [
      "{0, 1, 2, 4, 100, 101, -4}\n",
      "{0, 1, 2, 4, 101, -4}\n"
     ]
    }
   ],
   "source": [
    "c.add(100)\n",
    "print(c)\n",
    "c.update([10,101]) #Update a set with the union of itself and others.\n",
    "c.discard(100) \n",
    "c.discard(100) \n",
    "# If element  does not exist, it does not raise a KeyError.\n",
    "c.remove(10)\n",
    "print(c)\n",
    "# If element  does not exist, it raises a KeyError."
   ]
  },
  {
   "cell_type": "code",
   "execution_count": 82,
   "metadata": {
    "colab": {},
    "colab_type": "code",
    "id": "AURukxyoezz-",
    "outputId": "ae79ff80-d72f-4f73-c7d8-7e702dee4d9b"
   },
   "outputs": [
    {
     "data": {
      "text/plain": [
       "2"
      ]
     },
     "execution_count": 82,
     "metadata": {},
     "output_type": "execute_result"
    }
   ],
   "source": [
    "c.pop()\n",
    "# remove and return an arbitrary set element\n",
    "# if there's no element to remove, it raises a KeyError"
   ]
  },
  {
   "cell_type": "markdown",
   "metadata": {},
   "source": [
    "delete duplicate elements in a list"
   ]
  },
  {
   "cell_type": "code",
   "execution_count": 69,
   "metadata": {},
   "outputs": [
    {
     "name": "stdout",
     "output_type": "stream",
     "text": [
      "['a', 'c', 'b', 'd']\n"
     ]
    }
   ],
   "source": [
    "l1 = ['b','c','d','c','a','a']\n",
    "l2 = list(set(l1))\n",
    "print(l2)\n"
   ]
  },
  {
   "cell_type": "markdown",
   "metadata": {},
   "source": [
    "making it stable"
   ]
  },
  {
   "cell_type": "code",
   "execution_count": 71,
   "metadata": {},
   "outputs": [
    {
     "name": "stdout",
     "output_type": "stream",
     "text": [
      "['b', 'c', 'd', 'a']\n"
     ]
    }
   ],
   "source": [
    "print(sorted(l2,key=l1.index))"
   ]
  },
  {
   "cell_type": "markdown",
   "metadata": {
    "colab_type": "text",
    "id": "GcFrhpw8ez0C"
   },
   "source": [
    "#### Set comprehension\n",
    "\n",
    "Construct set from list, also uses {}"
   ]
  },
  {
   "cell_type": "code",
   "execution_count": 91,
   "metadata": {
    "colab": {},
    "colab_type": "code",
    "id": "fBFpJ0y_ez0C",
    "outputId": "ad6b97ea-2490-4034-e036-2d66fb719a4d"
   },
   "outputs": [
    {
     "name": "stdout",
     "output_type": "stream",
     "text": [
      "{0, 1, 2, 3, 4, 6, 7, 8} <class 'set'>\n"
     ]
    }
   ],
   "source": [
    "from math import sqrt\n",
    "d = {value for value in range(9) if value!=5}\n",
    "print(d,type(d))"
   ]
  },
  {
   "cell_type": "markdown",
   "metadata": {
    "colab_type": "text",
    "id": "3qkivAYcez0E"
   },
   "source": [
    "## Control Flow + Iteration\n",
    "\n",
    "### For-loop + if-else\n",
    "\n",
    "Indention, colon. if-elif-else. "
   ]
  },
  {
   "cell_type": "code",
   "execution_count": 92,
   "metadata": {
    "colab": {},
    "colab_type": "code",
    "id": "sLkLrYUPez0E",
    "outputId": "584e8021-899b-4a40-e1ff-fbdd7b692652"
   },
   "outputs": [
    {
     "data": {
      "text/plain": [
       "['2014Q1', '2013Q1']"
      ]
     },
     "execution_count": 92,
     "metadata": {},
     "output_type": "execute_result"
    }
   ],
   "source": [
    "# manipulating list\n",
    "s=[\"2014-03-25\",\"2013-02-02\"]\n",
    "s1 = [i.split('-', 2) for i in s] #S.split(sep=None, maxsplit=-1)\n",
    "s2=[]\n",
    "for i in s1:\n",
    "    k=[int(j) for j in i]\n",
    "    if k[1]>=10: a = 'Q4'\n",
    "    elif k[1]>=7: a = 'Q3'\n",
    "    elif k[1]>=4: a = 'Q2'\n",
    "    else: a = 'Q1'  \n",
    "    s2.append(i[0]+a)\n",
    "\n",
    "s2    "
   ]
  },
  {
   "cell_type": "code",
   "execution_count": 95,
   "metadata": {},
   "outputs": [
    {
     "data": {
      "text/plain": [
       "[['2014', '03', '25'], ['2013', '02', '02']]"
      ]
     },
     "execution_count": 95,
     "metadata": {},
     "output_type": "execute_result"
    }
   ],
   "source": [
    "s1"
   ]
  },
  {
   "cell_type": "markdown",
   "metadata": {
    "colab_type": "text",
    "id": "HfdfUROMez0H"
   },
   "source": [
    "**Break and continue**: break stop all the rest of the execution of a looping statement. continue skips the current loop."
   ]
  },
  {
   "cell_type": "markdown",
   "metadata": {
    "colab_type": "text",
    "id": "6DbYWjk7ez0H"
   },
   "source": [
    "### Logical statement"
   ]
  },
  {
   "cell_type": "code",
   "execution_count": 0,
   "metadata": {
    "colab": {},
    "colab_type": "code",
    "id": "baEuiwQLez0H",
    "outputId": "ab0e11d5-12fe-42be-bbe3-b496ac35b5e0"
   },
   "outputs": [
    {
     "data": {
      "text/plain": [
       "True"
      ]
     },
     "execution_count": 43,
     "metadata": {
      "tags": []
     },
     "output_type": "execute_result"
    }
   ],
   "source": [
    "b = range(10)\n",
    "5 in b\n"
   ]
  },
  {
   "cell_type": "code",
   "execution_count": 0,
   "metadata": {
    "colab": {},
    "colab_type": "code",
    "id": "0RGYsFJrez0I",
    "outputId": "c3b2b484-c6fb-46fb-b067-083af422dde8"
   },
   "outputs": [
    {
     "data": {
      "text/plain": [
       "False"
      ]
     },
     "execution_count": 44,
     "metadata": {
      "tags": []
     },
     "output_type": "execute_result"
    }
   ],
   "source": [
    "5 not in b "
   ]
  },
  {
   "cell_type": "code",
   "execution_count": 1,
   "metadata": {},
   "outputs": [
    {
     "name": "stdout",
     "output_type": "stream",
     "text": [
      "3\n"
     ]
    }
   ],
   "source": [
    "if [] is not None:\n",
    "    print(3)\n",
    "    \n",
    "if []:\n",
    "    print(4)"
   ]
  },
  {
   "cell_type": "code",
   "execution_count": 0,
   "metadata": {
    "colab": {},
    "colab_type": "code",
    "id": "ierorfKNez0L",
    "outputId": "4a90eaa5-4387-4673-c357-04151d6135a7"
   },
   "outputs": [
    {
     "name": "stdout",
     "output_type": "stream",
     "text": [
      "False\n",
      "True\n",
      "False\n"
     ]
    }
   ],
   "source": [
    "t, f = True, False\n",
    "\n",
    "print(t and f) # Logical AND;\n",
    "print(t or f)  # Logical OR;\n",
    "print(not t)    # Logical NOT;"
   ]
  },
  {
   "cell_type": "code",
   "execution_count": 0,
   "metadata": {
    "colab": {},
    "colab_type": "code",
    "id": "vMWRoZ57ez0M",
    "outputId": "20d49ad2-b129-499f-e59d-86d241ef2101"
   },
   "outputs": [
    {
     "data": {
      "text/plain": [
       "False"
      ]
     },
     "execution_count": 46,
     "metadata": {
      "tags": []
     },
     "output_type": "execute_result"
    }
   ],
   "source": [
    "x = 42\n",
    "y = 42\n",
    "x == y # True\n",
    "x is y # True\n",
    "\n",
    "choices = dict(\n",
    "    one =1,\n",
    "    two=2,\n",
    "    three=3,\n",
    "   )\n",
    "\n",
    "choices2 = {'one':1,'two':2,'three':3}\n",
    "\n",
    "choices == choices2 # True, comparing content\n",
    "\n",
    "choices is choices2 # False, comparing pointer/object"
   ]
  },
  {
   "cell_type": "markdown",
   "metadata": {
    "colab_type": "text",
    "id": "9jXwtB0bez0P"
   },
   "source": [
    "## Plotting\n",
    "\n",
    "### Matplotlib\n",
    "\n",
    "Basic plotting uses pyplot module. The most important function in matplotlib is plot, which is used to plot 2-D data.\n",
    "\n",
    "Mostly used with Numpy array. "
   ]
  },
  {
   "cell_type": "code",
   "execution_count": 0,
   "metadata": {
    "colab": {},
    "colab_type": "code",
    "id": "IoQEtJzuez0P"
   },
   "outputs": [],
   "source": [
    "import matplotlib.pyplot as plt\n",
    "plt.rcParams[\"figure.figsize\"] = (12, 8) # setup"
   ]
  },
  {
   "cell_type": "code",
   "execution_count": 0,
   "metadata": {
    "colab": {},
    "colab_type": "code",
    "id": "GuiQFaglez0Q",
    "outputId": "4194db8a-c8bd-42c0-f179-d0f67e4b9b1d"
   },
   "outputs": [
    {
     "data": {
      "image/png": "[encoded data removed]",
      "text/plain": [
       "<Figure size 432x288 with 1 Axes>"
      ]
     },
     "metadata": {
      "tags": []
     },
     "output_type": "display_data"
    }
   ],
   "source": [
    "x = np.arange(0, 3 * np.pi, 0.1)\n",
    "y = np.sin(x)\n",
    "plt.plot(x,y)\n",
    "plt.show()"
   ]
  },
  {
   "cell_type": "markdown",
   "metadata": {
    "colab_type": "text",
    "id": "IxvRUbScez0S"
   },
   "source": [
    "### ggplot"
   ]
  },
  {
   "cell_type": "code",
   "execution_count": 0,
   "metadata": {
    "colab": {},
    "colab_type": "code",
    "id": "gCnwuZZXez0T",
    "outputId": "d039dedd-0513-4eb5-f9d6-ee04809db1cc"
   },
   "outputs": [
    {
     "name": "stderr",
     "output_type": "stream",
     "text": [
      "/anaconda3/lib/python3.6/site-packages/ggplot/utils.py:81: FutureWarning: pandas.tslib is deprecated and will be removed in a future version.\n",
      "You can access Timestamp as pandas.Timestamp\n",
      "  pd.tslib.Timestamp,\n",
      "/anaconda3/lib/python3.6/site-packages/ggplot/stats/smoothers.py:4: FutureWarning: The pandas.lib module is deprecated and will be removed in a future version. These are private functions and can be accessed from pandas._libs.lib instead\n",
      "  from pandas.lib import Timestamp\n",
      "/anaconda3/lib/python3.6/site-packages/statsmodels/compat/pandas.py:56: FutureWarning: The pandas.core.datetools module is deprecated and will be removed in a future version. Please use the pandas.tseries module instead.\n",
      "  from pandas.core import datetools\n"
     ]
    },
    {
     "data": {
      "image/png": "[encoded data removed]",
      "text/plain": [
       "<Figure size 792x576 with 5 Axes>"
      ]
     },
     "metadata": {
      "tags": []
     },
     "output_type": "display_data"
    },
    {
     "data": {
      "text/plain": [
       "<ggplot: (-9223372036556145450)>"
      ]
     },
     "execution_count": 49,
     "metadata": {
      "tags": []
     },
     "output_type": "execute_result"
    }
   ],
   "source": [
    "from ggplot import *\n",
    "ggplot(diamonds, aes(x='price', color='clarity')) + \\\n",
    "    geom_density() + \\\n",
    "    scale_color_brewer(type='div', palette=7) + \\\n",
    "    facet_wrap('cut')"
   ]
  },
  {
   "cell_type": "code",
   "execution_count": 0,
   "metadata": {
    "colab": {},
    "colab_type": "code",
    "id": "246Y9Kyyez0V",
    "outputId": "c51935a8-152c-4aa8-d64d-aa9d154a8407"
   },
   "outputs": [
    {
     "data": {
      "image/png": "[encoded data removed]",
      "text/plain": [
       "<Figure size 792x576 with 1 Axes>"
      ]
     },
     "metadata": {
      "tags": []
     },
     "output_type": "display_data"
    },
    {
     "data": {
      "text/plain": [
       "<ggplot: (-9223372036556895477)>"
      ]
     },
     "execution_count": 50,
     "metadata": {
      "tags": []
     },
     "output_type": "execute_result"
    }
   ],
   "source": [
    "ggplot(mtcars,aes(x=\"mpg\",y=\"wt\"))+\\\n",
    "    geom_point(color='red')"
   ]
  },
  {
   "cell_type": "markdown",
   "metadata": {
    "colab_type": "text",
    "id": "Mxyanlp3ez0W"
   },
   "source": [
    "## Data Manipulation\n",
    "\n",
    "### Import data\n",
    "* Import from files: use the module csv, numpy or pandas. The choice would be primarily based on what you are going to do with data later."
   ]
  },
  {
   "cell_type": "code",
   "execution_count": 0,
   "metadata": {
    "colab": {},
    "colab_type": "code",
    "id": "X-wRhj5xez0W"
   },
   "outputs": [],
   "source": [
    "import csv as csv\n",
    "\n",
    "#data = np.loadtxt(\"data.csv\", delimiter=',', skiprows=2)\n",
    "filename = 'pima-indians-diabetes.data.csv'\n",
    "names = ['preg', 'plas', 'pres', 'skin', 'test', 'mass', 'pedi', 'age', 'class']\n",
    "#data = pd.read_csv(filename, names=names)\n",
    "#data = pd.read_excel(\"data.xlsx\")"
   ]
  },
  {
   "cell_type": "markdown",
   "metadata": {
    "colab_type": "text",
    "id": "3uEw86crez0X"
   },
   "source": [
    "* Read html:"
   ]
  },
  {
   "cell_type": "code",
   "execution_count": 0,
   "metadata": {
    "colab": {},
    "colab_type": "code",
    "id": "N-bHutc-ez0X",
    "outputId": "9b281c6e-0884-4066-ad8f-fe9eaaf7888a"
   },
   "outputs": [
    {
     "name": "stdout",
     "output_type": "stream",
     "text": [
      "6\n"
     ]
    }
   ],
   "source": [
    "import urllib.request\n",
    "page = urllib.request.urlopen(\"http://www.google.com\")\n",
    "i=0\n",
    "for line in page:\n",
    "    i=i+1\n",
    "print(i)"
   ]
  },
  {
   "cell_type": "code",
   "execution_count": 0,
   "metadata": {
    "colab": {},
    "colab_type": "code",
    "id": "IBNpqTPpez0Z",
    "outputId": "085fecbd-1005-4ad6-e14e-4343f20aef5a"
   },
   "outputs": [
    {
     "data": {
      "text/plain": [
       "[0.0,\n",
       " 1.0,\n",
       " 1.4142135623730951,\n",
       " 1.7320508075688772,\n",
       " 2.0,\n",
       " 2.23606797749979,\n",
       " 2.449489742783178,\n",
       " 2.6457513110645907,\n",
       " 2.8284271247461903,\n",
       " 3.0]"
      ]
     },
     "execution_count": 53,
     "metadata": {
      "tags": []
     },
     "output_type": "execute_result"
    }
   ],
   "source": [
    "a = range(10)\n",
    "list(map(sqrt,a))"
   ]
  },
  {
   "cell_type": "markdown",
   "metadata": {
    "colab_type": "text",
    "id": "m5IH3bjmez0Z"
   },
   "source": [
    "## Functional programming\n",
    "\n",
    "Program paradigm that operates by collaborating functions\n",
    "\n",
    "Functional programming is a programming paradigm in which we try to bind everything in pure mathematical functions style. It is a declarative type of programming style. Its main focus is on “what to solve” in contrast to an imperative style where the main focus is “how to solve”. \n",
    "\n",
    "Functions are objects in Python, just like everything else. Classes are objects in Python. \n",
    "\n",
    "You can pass functions to functions as arguments or return functions from functions as return values\n",
    "\n",
    "\n",
    "### map()\n",
    "applies a function to every member of an iterable and returns the result. It takes two parameters: first, the function that is to be applied and secondly, the iterables. \n",
    "\n",
    "### Lambda\n",
    "inline function. **lambda** [args]: expression. It creates a function and returns the function itself. Lambda can be used inside lists and dictionaries. SUPER USEFUL\n",
    "\n",
    "\n",
    "Lambda functions cannot use the return statement and can only have a single expression. Unlike def, which creates a function and assigns it a name, lambda creates a function and returns the function itself. Lambda can be used inside lists and dictionaries.\n",
    "\n",
    "\n",
    "\n",
    "### filter()\n",
    "\n",
    "As the name suggests filter extracts each element in the sequence for which the function returns True. \n",
    "\n",
    "### reduce()\n",
    "\n",
    "The reduce function is a little less obvious in its intent. This function reduces a list to a single value by combining elements via a supplied function. \n"
   ]
  },
  {
   "cell_type": "code",
   "execution_count": 0,
   "metadata": {
    "colab": {},
    "colab_type": "code",
    "id": "pXhrd5nSez0Z",
    "outputId": "6f356d59-65fe-4acc-9125-69134b6cca85"
   },
   "outputs": [
    {
     "data": {
      "text/plain": [
       "6"
      ]
     },
     "execution_count": 54,
     "metadata": {
      "tags": []
     },
     "output_type": "execute_result"
    }
   ],
   "source": [
    "sum = lambda a, b, c: a + b + c\n",
    "sum(1,2,3)"
   ]
  },
  {
   "cell_type": "code",
   "execution_count": 99,
   "metadata": {
    "colab": {},
    "colab_type": "code",
    "id": "8cqtUKcPez0b",
    "outputId": "1aa1efcd-417e-42aa-8ee9-70a5e5e2fd9d"
   },
   "outputs": [
    {
     "name": "stdout",
     "output_type": "stream",
     "text": [
      "[70]\n",
      "[1, 9, 100, 4900, 8100]\n"
     ]
    }
   ],
   "source": [
    "l = [1,3,10,70,90]\n",
    "\n",
    "print(list(filter(lambda x: x > 10 and x < 80, l)))\n",
    "print(list(map(lambda x: x*x,l)))"
   ]
  },
  {
   "cell_type": "markdown",
   "metadata": {
    "colab_type": "text",
    "id": "dWxoMbZAez0b"
   },
   "source": [
    "At each step, reduce passes the current product or division, along with the next item from the list, to the passed-in lambda function. \n",
    "\n",
    "\n",
    "The lambda function always have two argument"
   ]
  },
  {
   "cell_type": "code",
   "execution_count": 100,
   "metadata": {
    "colab": {},
    "colab_type": "code",
    "id": "DACT5ZvOez0c",
    "outputId": "e4e7bf9c-d819-492c-ad75-de7e8ab41682"
   },
   "outputs": [
    {
     "name": "stdout",
     "output_type": "stream",
     "text": [
      "189000\n"
     ]
    },
    {
     "data": {
      "text/plain": [
       "55"
      ]
     },
     "execution_count": 100,
     "metadata": {},
     "output_type": "execute_result"
    }
   ],
   "source": [
    "from functools import reduce\n",
    "x,y=3,3\n",
    "result = reduce(lambda x,y: x*y, l)\n",
    "print(result)\n",
    "\n",
    "fibo = lambda n:reduce(lambda x,n:[x[1],x[0]+x[1]], range(n),[0,1])[0]\n",
    "fibo(10)"
   ]
  },
  {
   "cell_type": "code",
   "execution_count": 101,
   "metadata": {
    "colab": {},
    "colab_type": "code",
    "id": "lTAPi0laez0d",
    "outputId": "f812cfe2-645e-421d-eb9f-00be1cc35ed4"
   },
   "outputs": [
    {
     "data": {
      "text/plain": [
       "<map at 0x1126f6b70>"
      ]
     },
     "execution_count": 101,
     "metadata": {},
     "output_type": "execute_result"
    }
   ],
   "source": [
    "map(lambda n: reduce(lambda x,y: (-1)**(x)/(2*x+1)+ (-1)**(y)/(2*y+1), list(range(n))), l)"
   ]
  },
  {
   "cell_type": "code",
   "execution_count": 0,
   "metadata": {
    "colab": {},
    "colab_type": "code",
    "id": "8dcygqQmez0f",
    "outputId": "b0983f26-c849-431d-e6e8-acb3ef964d40"
   },
   "outputs": [
    {
     "data": {
      "text/plain": [
       "[0.760459904732351]"
      ]
     },
     "execution_count": 157,
     "metadata": {
      "tags": []
     },
     "output_type": "execute_result"
    }
   ],
   "source": [
    "n=10\n",
    "reduce(lambda x,y: (-1)**(x)/(2*x+1)+ (-1)**(y)/(2*y+1), list(range(n)))\n",
    "l=[10]\n",
    "list(map(lambda n: round(sum(map(lambda x: (-1)**(x)/(2*x+1),range(n))),15), l))"
   ]
  },
  {
   "cell_type": "code",
   "execution_count": 0,
   "metadata": {
    "colab": {},
    "colab_type": "code",
    "id": "VAfGwXoXez0g",
    "outputId": "818cd2a2-2761-453b-9859-e1611cc1af00"
   },
   "outputs": [
    {
     "name": "stdout",
     "output_type": "stream",
     "text": [
      "0.309\n",
      "-0.943\n",
      "-0.089\n",
      "-0.963\n"
     ]
    }
   ],
   "source": [
    "l=[2.83,3.24]\n",
    "import math\n",
    "r = list(map(lambda x: [round(sum((-1)**(n)*x**(2*n+1)/math.factorial(2*n+1) for n in range(5) ),3),\n",
    "                round(sum((-1)**(n)*x**(2*n)/math.factorial(2*n) for n in range(5)),3)],l))\n",
    "for i in r: print(*i,sep=\"\\n\")"
   ]
  },
  {
   "cell_type": "code",
   "execution_count": 0,
   "metadata": {
    "colab": {},
    "colab_type": "code",
    "id": "PeFk0Sblez0i",
    "outputId": "a94b44cb-fd38-40aa-a7df-a7c9f1d9faa6"
   },
   "outputs": [
    {
     "data": {
      "text/plain": [
       "[[0, 0], [1, 1], [2, 4]]"
      ]
     },
     "execution_count": 241,
     "metadata": {
      "tags": []
     },
     "output_type": "execute_result"
    }
   ],
   "source": [
    "a = [0.333,1.34]\n",
    "[[x,x*x] for x in range(3)]\n",
    "# print(list(map(lambda x: round(x,3),a)))"
   ]
  },
  {
   "cell_type": "code",
   "execution_count": 0,
   "metadata": {
    "colab": {},
    "colab_type": "code",
    "id": "9tWOODzjez0j",
    "outputId": "ed660067-a27a-477d-921d-186f53ea4064"
   },
   "outputs": [
    {
     "data": {
      "text/plain": [
       "[3.83,\n",
       " -7.781981166666668,\n",
       " 4.1852967684525,\n",
       " -1.0019397218557633,\n",
       " 0.13412606887069692]"
      ]
     },
     "execution_count": 236,
     "metadata": {
      "tags": []
     },
     "output_type": "execute_result"
    }
   ],
   "source": [
    "x=2.83\n",
    "[sum([(-1)**(n)*x**(2*n+1)/math.factorial(2*n+1),\n",
    "                            (-1)**(n)*x**(2*n)/math.factorial(2*n)]) for n in range(5)]"
   ]
  },
  {
   "cell_type": "markdown",
   "metadata": {},
   "source": [
    "### Generator\n",
    "\n",
    "A generator function is defined like a normal function, but whenever it needs to generate a value, it does so with the yield keyword rather than return. If the body of a def contains yield, the function automatically becomes a generator function.\n"
   ]
  },
  {
   "cell_type": "code",
   "execution_count": 7,
   "metadata": {},
   "outputs": [
    {
     "name": "stdout",
     "output_type": "stream",
     "text": [
      "1\n",
      "2\n",
      "3\n"
     ]
    }
   ],
   "source": [
    "def simpleGeneratorFun(): \n",
    "    yield 1\n",
    "    yield 2\n",
    "    yield 3\n",
    "\n",
    "# driver code check above generator function \n",
    "for value in simpleGeneratorFun():  \n",
    "    print(value) \n"
   ]
  },
  {
   "cell_type": "markdown",
   "metadata": {
    "colab_type": "text",
    "id": "Pbg3bEcOez0q"
   },
   "source": [
    "## Numpy\n",
    "\n",
    "\n",
    "### Basic mathematical calculation\n",
    "\n",
    "Basic mathematical functions operate elementwise on arrays, and are available both as operator overloads and as functions in the numpy module:"
   ]
  },
  {
   "cell_type": "code",
   "execution_count": 0,
   "metadata": {
    "colab": {},
    "colab_type": "code",
    "id": "oRMlcCCRez0r",
    "outputId": "c06fdffa-f644-4f90-f5d3-6c5ff201f1eb"
   },
   "outputs": [
    {
     "name": "stdout",
     "output_type": "stream",
     "text": [
      "[[-3. -2.]\n",
      " [-1.  0.]]\n"
     ]
    }
   ],
   "source": [
    "import numpy as np  # use functions from numpy by calling 'np.func'\n",
    "# import numpy  # use functions from numpy by calling 'numpy.func'\n",
    "\n",
    "# from numpy import func  \n",
    "# imports the function 'numpy.func' into the namespace as 'func'\n",
    "\n",
    "# from numpy import *  \n",
    "# imports the entire numpy namespace\n",
    "\n",
    "np.abs(-2)\n",
    "x = np.array([[1,2],[3,4]], dtype=np.float64)\n",
    "y = np.array([[5,6],[7,8]], dtype=np.float64)\n",
    "print(x - y + x)"
   ]
  },
  {
   "cell_type": "code",
   "execution_count": 0,
   "metadata": {
    "colab": {},
    "colab_type": "code",
    "id": "KJ7yGO2kez0s",
    "outputId": "f595481c-ea00-4a9f-9a53-305175529bce"
   },
   "outputs": [
    {
     "name": "stdout",
     "output_type": "stream",
     "text": [
      "[[ 5. 12.]\n",
      " [21. 32.]]\n",
      "[[0.2        0.33333333]\n",
      " [0.42857143 0.5       ]]\n"
     ]
    },
    {
     "data": {
      "text/plain": [
       "array([[1.        , 1.41421356],\n",
       "       [1.73205081, 2.        ]])"
      ]
     },
     "execution_count": 59,
     "metadata": {
      "tags": []
     },
     "output_type": "execute_result"
    }
   ],
   "source": [
    "print(x * y)\n",
    "print(x / y)\n",
    "np.sqrt(x)"
   ]
  },
  {
   "cell_type": "markdown",
   "metadata": {
    "colab_type": "text",
    "id": "AyltjufDez0u"
   },
   "source": [
    "Dot product"
   ]
  },
  {
   "cell_type": "code",
   "execution_count": 0,
   "metadata": {
    "colab": {},
    "colab_type": "code",
    "id": "nOMd45TPez0w",
    "outputId": "59c5e8eb-c5d9-4968-af53-557fa7f7a1d3"
   },
   "outputs": [
    {
     "name": "stdout",
     "output_type": "stream",
     "text": [
      "[[19. 22.]\n",
      " [43. 50.]]\n",
      "[[19. 22.]\n",
      " [43. 50.]]\n",
      "[[17. 23.]\n",
      " [39. 53.]]\n"
     ]
    }
   ],
   "source": [
    "print(x.dot(y))\n",
    "print(np.dot(x,y))\n",
    "print(x.dot(y.T)) # transpose"
   ]
  },
  {
   "cell_type": "markdown",
   "metadata": {
    "colab_type": "text",
    "id": "kqCww-zPez0x"
   },
   "source": [
    "### Broadcasting\n",
    "\n",
    "Apply a small array to a larger array multiple times.\n",
    "\n",
    "Broadcasting typically makes your code more concise and faster, so you should strive to use it whenever possible.\n",
    "\n",
    "Broadcasting two arrays together follows these rules:\n",
    "\n",
    "1. If the arrays do not have the same rank, prepend the shape of the lower rank array with 1s until both shapes have the same length.\n",
    "2. The two arrays are said to be compatible in a dimension if they have the same size in the dimension, or if one of the arrays has size **1** in that dimension.\n",
    "3. The arrays can be broadcast together if they are compatible in all dimensions.\n",
    "4. After broadcasting, each array behaves as if it had shape equal to the elementwise maximum of shapes of the two input arrays.\n",
    "5. In any dimension where one array had size 1 and the other array had size greater than 1, the first array behaves as if it were copied along that dimension\n",
    "\n",
    "Functions that support broadcasting are known as universal functions. You can find the list of all universal functions in the [documentation](http://docs.scipy.org/doc/numpy/reference/ufuncs.html#available-ufuncs).\n",
    "\n",
    "Here are some applications of broadcasting:"
   ]
  },
  {
   "cell_type": "code",
   "execution_count": 0,
   "metadata": {
    "colab": {},
    "colab_type": "code",
    "id": "a7ehe6GKez0y",
    "outputId": "b17d5362-2c74-4b15-ee87-6f0401017cb4"
   },
   "outputs": [
    {
     "name": "stdout",
     "output_type": "stream",
     "text": [
      "[[ 2  2  4]\n",
      " [ 5  5  7]\n",
      " [ 8  8 10]\n",
      " [11 11 13]]\n"
     ]
    }
   ],
   "source": [
    "x = np.array([[1,2,3], [4,5,6], [7,8,9], [10, 11, 12]])\n",
    "v = np.array([1, 0, 1])\n",
    "y = x + v\n",
    "print(y)"
   ]
  },
  {
   "cell_type": "code",
   "execution_count": 0,
   "metadata": {
    "colab": {},
    "colab_type": "code",
    "id": "_ozUdxXcez0z",
    "outputId": "72233865-5922-4c5d-f40d-880bb2d596a4"
   },
   "outputs": [
    {
     "data": {
      "text/plain": [
       "array([[ 4,  5],\n",
       "       [ 8, 10],\n",
       "       [12, 15]])"
      ]
     },
     "execution_count": 62,
     "metadata": {
      "tags": []
     },
     "output_type": "execute_result"
    }
   ],
   "source": [
    "v = np.array([1,2,3])  # v has shape (3,)\n",
    "w = np.array([4,5])    # w has shape (2,)\n",
    "# To compute an outer product, we first reshape v to be a column\n",
    "# vector of shape (3, 1); we can then broadcast it against w to yield\n",
    "# an output of shape (3, 2), which is the outer product of v and w:\n",
    "np.reshape(v,(3,1))*w"
   ]
  },
  {
   "cell_type": "code",
   "execution_count": 0,
   "metadata": {
    "colab": {},
    "colab_type": "code",
    "id": "F2g5xQ_Kez02",
    "outputId": "effff5fe-7d72-4572-a25d-c203b465b6e1"
   },
   "outputs": [
    {
     "data": {
      "text/plain": [
       "array([[ 5,  6,  7],\n",
       "       [ 9, 10, 11]])"
      ]
     },
     "execution_count": 63,
     "metadata": {
      "tags": []
     },
     "output_type": "execute_result"
    }
   ],
   "source": [
    "x = np.array([[1,2,3], [4,5,6]])\n",
    "x+np.reshape(w,(2,1))"
   ]
  },
  {
   "cell_type": "code",
   "execution_count": 103,
   "metadata": {},
   "outputs": [
    {
     "data": {
      "text/plain": [
       "(2, 1, 3)"
      ]
     },
     "execution_count": 103,
     "metadata": {},
     "output_type": "execute_result"
    }
   ],
   "source": [
    "x = np.ones((1, 2, 3))\n",
    "np.transpose(x, (1, 0, 2)).shape # permute the dimension"
   ]
  },
  {
   "cell_type": "markdown",
   "metadata": {
    "colab_type": "text",
    "id": "cdbVk4dFez04"
   },
   "source": [
    "### Vectorized operation"
   ]
  },
  {
   "cell_type": "code",
   "execution_count": 0,
   "metadata": {
    "colab": {},
    "colab_type": "code",
    "id": "37W_oTYSez04",
    "outputId": "41aad782-4500-4bb1-c856-78c119d1fc16"
   },
   "outputs": [
    {
     "name": "stdout",
     "output_type": "stream",
     "text": [
      "21\n"
     ]
    },
    {
     "data": {
      "text/plain": [
       "array([5, 7, 9])"
      ]
     },
     "execution_count": 64,
     "metadata": {
      "tags": []
     },
     "output_type": "execute_result"
    }
   ],
   "source": [
    "print(np.sum(x))\n",
    "np.sum(x,axis=0) # 0 is column-wise"
   ]
  },
  {
   "cell_type": "code",
   "execution_count": 110,
   "metadata": {
    "colab": {},
    "colab_type": "code",
    "id": "boKRO8lkez05",
    "outputId": "11cc245c-8bde-408f-b359-1dad81eb1a92"
   },
   "outputs": [
    {
     "name": "stdout",
     "output_type": "stream",
     "text": [
      "[[2 0 1]\n",
      " [2 0 1]\n",
      " [2 1 0]\n",
      " [1 0 2]\n",
      " [0 1 2]\n",
      " [1 0 2]\n",
      " [2 1 0]\n",
      " [0 2 1]\n",
      " [0 2 1]\n",
      " [2 0 1]]\n"
     ]
    },
    {
     "data": {
      "text/plain": [
       "array([0.86758219, 0.94285925, 0.36362344, 0.39806026, 0.12195594,\n",
       "       0.50084324, 0.12631362, 0.58654981, 0.24624911, 0.03339026])"
      ]
     },
     "execution_count": 110,
     "metadata": {},
     "output_type": "execute_result"
    }
   ],
   "source": [
    "# For each row, pick the number closest to 0.5.\n",
    "t = np.random.random((10,3))\n",
    "t1 = abs(t-0.5)\n",
    "print(np.argsort(t1,1))\n",
    "t[np.argsort(t1,1)==0]"
   ]
  },
  {
   "cell_type": "markdown",
   "metadata": {
    "colab_type": "text",
    "id": "lLnLASxyez08"
   },
   "source": [
    "## Scipy\n"
   ]
  },
  {
   "cell_type": "code",
   "execution_count": 0,
   "metadata": {
    "colab": {},
    "colab_type": "code",
    "id": "85TOkTxbez06",
    "outputId": "58cb81b4-dc1b-4354-fec2-643f71ac51e1"
   },
   "outputs": [
    {
     "data": {
      "text/plain": [
       "<matplotlib.image.AxesImage at 0x121fee9b0>"
      ]
     },
     "execution_count": 101,
     "metadata": {
      "tags": []
     },
     "output_type": "execute_result"
    },
    {
     "data": {
      "image/png": "[encoded data removed]",
      "text/plain": [
       "<Figure size 432x288 with 1 Axes>"
      ]
     },
     "metadata": {
      "tags": []
     },
     "output_type": "display_data"
    }
   ],
   "source": [
    "from scipy import misc\n",
    "import pylab as plt\n",
    "face = misc.face(gray=True)\n",
    "plt.imshow(face, cmap=plt.cm.gray)\n",
    "\n"
   ]
  },
  {
   "cell_type": "code",
   "execution_count": 0,
   "metadata": {
    "colab": {},
    "colab_type": "code",
    "id": "ae8uoS1Uez07"
   },
   "outputs": [],
   "source": [
    "# remove 100 border\n",
    "crop_face = face[100:-100, 100:-100]"
   ]
  },
  {
   "cell_type": "markdown",
   "metadata": {
    "colab_type": "text",
    "id": "Bs4AhyuAez09"
   },
   "source": [
    "## Pandas\n",
    "\n",
    "https://pandas.pydata.org/pandas-docs/stable/comparison_with_r.html\n",
    "\n",
    "Pandas was developed in the context of financial modeling."
   ]
  },
  {
   "cell_type": "markdown",
   "metadata": {
    "colab_type": "text",
    "id": "ZN0J3iNjez09"
   },
   "source": [
    "### Data alignment\n",
    "\n",
    "When adding together objects, if any index pairs are not the same, the respective index in the result will be the union of the index pairs.\n",
    "\n"
   ]
  },
  {
   "cell_type": "code",
   "execution_count": 2,
   "metadata": {
    "colab": {
     "base_uri": "https://localhost:8080/",
     "height": 139
    },
    "colab_type": "code",
    "executionInfo": {
     "elapsed": 337,
     "status": "ok",
     "timestamp": 1535811328804,
     "user": {
      "displayName": "Olivia Jin",
      "photoUrl": "//lh3.googleusercontent.com/-Lzx8iLCphXA/AAAAAAAAAAI/AAAAAAAAACs/6-6Ym45Rq5E/s50-c-k-no/photo.jpg",
      "userId": "113802629998149102361"
     },
     "user_tz": 240
    },
    "id": "htdiLktVez0-",
    "outputId": "7119be5f-9b2b-4123-9079-4ed226c18465"
   },
   "outputs": [
    {
     "data": {
      "text/plain": [
       "a    5.2\n",
       "c    1.1\n",
       "d    NaN\n",
       "e    0.0\n",
       "f    NaN\n",
       "g    NaN\n",
       "dtype: float64"
      ]
     },
     "execution_count": 2,
     "metadata": {
      "tags": []
     },
     "output_type": "execute_result"
    }
   ],
   "source": [
    "import pandas as pd\n",
    "s1 = pd.Series([7.3, -2.5, 3.4, 1.5], index=['a', 'c', 'd', 'e'])\n",
    "s2 = pd.Series([-2.1, 3.6, -1.5, 4, 3.1], index=['a', 'c', 'e', 'f', 'g'])\n",
    "result = s1 + s2\n",
    "result"
   ]
  },
  {
   "cell_type": "code",
   "execution_count": 3,
   "metadata": {
    "colab": {
     "base_uri": "https://localhost:8080/",
     "height": 243
    },
    "colab_type": "code",
    "executionInfo": {
     "elapsed": 359,
     "status": "ok",
     "timestamp": 1535811329659,
     "user": {
      "displayName": "Olivia Jin",
      "photoUrl": "//lh3.googleusercontent.com/-Lzx8iLCphXA/AAAAAAAAAAI/AAAAAAAAACs/6-6Ym45Rq5E/s50-c-k-no/photo.jpg",
      "userId": "113802629998149102361"
     },
     "user_tz": 240
    },
    "id": "BupnkLM0ez1A",
    "outputId": "ae126862-4ad1-4448-ad81-7376278242f1"
   },
   "outputs": [
    {
     "name": "stdout",
     "output_type": "stream",
     "text": [
      "a    5.2\n",
      "c    1.1\n",
      "e    0.0\n",
      "dtype: float64\n",
      "\n",
      "\n",
      "a    5.2\n",
      "c    1.1\n",
      "d    0.0\n",
      "e    0.0\n",
      "f    0.0\n",
      "g    0.0\n",
      "dtype: float64\n"
     ]
    }
   ],
   "source": [
    "print(result.dropna())\n",
    "print(\"\\n\")\n",
    "print(result.fillna(0))"
   ]
  },
  {
   "cell_type": "markdown",
   "metadata": {
    "colab_type": "text",
    "id": "UZSXO9dge8D7"
   },
   "source": [
    "By default, at construction, *pandas* assigns index values that reflect the ordering of the source data. Once created, the index values are stable; that is, they do not change when data is reordered.\n",
    "\n",
    "Call DataFrame.reindex to manually reorder the rows.\n",
    "\n",
    "Reindexing is a great way to shuffle (randomize) a `DataFrame`. In the example below, we take the index, which is array-like, and pass it to NumPy's `random.permutation` function, which shuffles its values in place. Calling `reindex` with this shuffled array causes the `DataFrame` rows to be shuffled in the same way.\n"
   ]
  },
  {
   "cell_type": "code",
   "execution_count": 4,
   "metadata": {
    "colab": {
     "base_uri": "https://localhost:8080/",
     "height": 139
    },
    "colab_type": "code",
    "executionInfo": {
     "elapsed": 268,
     "status": "ok",
     "timestamp": 1535811331792,
     "user": {
      "displayName": "Olivia Jin",
      "photoUrl": "//lh3.googleusercontent.com/-Lzx8iLCphXA/AAAAAAAAAAI/AAAAAAAAACs/6-6Ym45Rq5E/s50-c-k-no/photo.jpg",
      "userId": "113802629998149102361"
     },
     "user_tz": 240
    },
    "id": "-o7vaP1HfOGz",
    "outputId": "79b6ca95-28fa-4572-c7a3-a60dc6539023"
   },
   "outputs": [
    {
     "data": {
      "text/plain": [
       "a    5.2\n",
       "c    1.1\n",
       "d    NaN\n",
       "e    0.0\n",
       "f    NaN\n",
       "g    NaN\n",
       "dtype: float64"
      ]
     },
     "execution_count": 4,
     "metadata": {
      "tags": []
     },
     "output_type": "execute_result"
    }
   ],
   "source": [
    "result"
   ]
  },
  {
   "cell_type": "code",
   "execution_count": 9,
   "metadata": {
    "colab": {
     "base_uri": "https://localhost:8080/",
     "height": 139
    },
    "colab_type": "code",
    "executionInfo": {
     "elapsed": 328,
     "status": "ok",
     "timestamp": 1535811437649,
     "user": {
      "displayName": "Olivia Jin",
      "photoUrl": "//lh3.googleusercontent.com/-Lzx8iLCphXA/AAAAAAAAAAI/AAAAAAAAACs/6-6Ym45Rq5E/s50-c-k-no/photo.jpg",
      "userId": "113802629998149102361"
     },
     "user_tz": 240
    },
    "id": "6vrzuOHRfThZ",
    "outputId": "bf443ed7-e348-4234-9966-ba8d6c504589"
   },
   "outputs": [
    {
     "data": {
      "text/plain": [
       "e    0.0\n",
       "f    NaN\n",
       "d    NaN\n",
       "a    5.2\n",
       "g    NaN\n",
       "c    1.1\n",
       "dtype: float64"
      ]
     },
     "execution_count": 9,
     "metadata": {
      "tags": []
     },
     "output_type": "execute_result"
    }
   ],
   "source": [
    "result.reindex(np.random.permutation(result.index))"
   ]
  },
  {
   "cell_type": "markdown",
   "metadata": {
    "colab_type": "text",
    "id": "n0B-3codez1B"
   },
   "source": [
    "Here column d, f and g were converted to NaN as they didn't have a match in both series"
   ]
  },
  {
   "cell_type": "markdown",
   "metadata": {
    "colab_type": "text",
    "id": "W-N0lWgqfmX1"
   },
   "source": [
    "`.iloc[:,1:4]` will get the 1:3 columns\n",
    "`.loc[:,1:4]` is inclusive at the both end, and therefore will get 1:4 columns"
   ]
  },
  {
   "cell_type": "markdown",
   "metadata": {
    "colab_type": "text",
    "id": "i27_Bcuiez1B"
   },
   "source": [
    "### Base R"
   ]
  },
  {
   "cell_type": "markdown",
   "metadata": {
    "colab_type": "text",
    "id": "hH-fhlGGez1B"
   },
   "source": [
    "####  match/%in%\n",
    "isin() is similar to %in% operator"
   ]
  },
  {
   "cell_type": "code",
   "execution_count": 0,
   "metadata": {
    "colab": {},
    "colab_type": "code",
    "id": "xpgwwjS6ez1B",
    "outputId": "de7551dc-962e-4b78-c92d-0631fb418b33"
   },
   "outputs": [
    {
     "data": {
      "text/plain": [
       "0    False\n",
       "1    False\n",
       "2     True\n",
       "3    False\n",
       "4     True\n",
       "dtype: bool"
      ]
     },
     "execution_count": 25,
     "metadata": {
      "tags": []
     },
     "output_type": "execute_result"
    }
   ],
   "source": [
    "s = pd.Series(np.arange(5))\n",
    "s.isin([2,4])"
   ]
  },
  {
   "cell_type": "code",
   "execution_count": 0,
   "metadata": {
    "colab": {},
    "colab_type": "code",
    "id": "qgvDYXn5ez1C",
    "outputId": "9158e6a9-aac9-4e1a-ab2c-215e49149d51"
   },
   "outputs": [
    {
     "data": {
      "text/plain": [
       "[2, 4]"
      ]
     },
     "execution_count": 27,
     "metadata": {
      "tags": []
     },
     "output_type": "execute_result"
    }
   ],
   "source": [
    "list(s.index[s.isin([2,4])])"
   ]
  },
  {
   "cell_type": "markdown",
   "metadata": {
    "colab_type": "text",
    "id": "8Ww0JqCXez1D"
   },
   "source": [
    "#### tapply()"
   ]
  },
  {
   "cell_type": "code",
   "execution_count": 0,
   "metadata": {
    "colab": {},
    "colab_type": "code",
    "id": "tdbHASzdez1E",
    "outputId": "ceba3e51-1de1-4009-dab7-5a15f737aa1c"
   },
   "outputs": [
    {
     "data": {
      "text/html": [
       "<div>\n",
       "<style scoped>\n",
       "    .dataframe tbody tr th:only-of-type {\n",
       "        vertical-align: middle;\n",
       "    }\n",
       "\n",
       "    .dataframe tbody tr th {\n",
       "        vertical-align: top;\n",
       "    }\n",
       "\n",
       "    .dataframe thead th {\n",
       "        text-align: right;\n",
       "    }\n",
       "</style>\n",
       "<table border=\"1\" class=\"dataframe\">\n",
       "  <thead>\n",
       "    <tr style=\"text-align: right;\">\n",
       "      <th>team</th>\n",
       "      <th>team 1</th>\n",
       "      <th>team 2</th>\n",
       "      <th>team 3</th>\n",
       "      <th>team 4</th>\n",
       "      <th>team 5</th>\n",
       "    </tr>\n",
       "  </thead>\n",
       "  <tbody>\n",
       "    <tr>\n",
       "      <th>batting avg</th>\n",
       "      <td>0.271399</td>\n",
       "      <td>0.317005</td>\n",
       "      <td>0.286179</td>\n",
       "      <td>0.305368</td>\n",
       "      <td>0.273969</td>\n",
       "    </tr>\n",
       "  </tbody>\n",
       "</table>\n",
       "</div>"
      ],
      "text/plain": [
       "team           team 1    team 2    team 3    team 4    team 5\n",
       "batting avg  0.271399  0.317005  0.286179  0.305368  0.273969"
      ]
     },
     "execution_count": 35,
     "metadata": {
      "tags": []
     },
     "output_type": "execute_result"
    }
   ],
   "source": [
    "example = pd.DataFrame({\n",
    "    'team':[\"team %d\" % (x+1) for x in range(5)]*5,\n",
    "    'batting avg': np.random.uniform(.200, .400, 25)\n",
    "})\n",
    "\n",
    "example.pivot_table(values='batting avg',columns='team',aggfunc=np.average)"
   ]
  },
  {
   "cell_type": "markdown",
   "metadata": {
    "colab_type": "text",
    "id": "xTO-7UAuez1G"
   },
   "source": [
    "#### as.factor()"
   ]
  },
  {
   "cell_type": "code",
   "execution_count": 0,
   "metadata": {
    "colab": {},
    "colab_type": "code",
    "id": "yrYzX3WSez1G",
    "outputId": "ebb25fa7-0b4a-4267-a77f-47eb7f821822"
   },
   "outputs": [
    {
     "data": {
      "text/plain": [
       "0    (-0.005, 1.667]\n",
       "1    (-0.005, 1.667]\n",
       "2     (1.667, 3.333]\n",
       "3     (1.667, 3.333]\n",
       "4       (3.333, 5.0]\n",
       "5       (3.333, 5.0]\n",
       "dtype: category\n",
       "Categories (3, interval[float64]): [(-0.005, 1.667] < (1.667, 3.333] < (3.333, 5.0]]"
      ]
     },
     "execution_count": 43,
     "metadata": {
      "tags": []
     },
     "output_type": "execute_result"
    }
   ],
   "source": [
    "pd.cut(pd.Series(range(6)),3)"
   ]
  },
  {
   "cell_type": "code",
   "execution_count": 0,
   "metadata": {
    "colab": {},
    "colab_type": "code",
    "id": "KwUnfxm-ez1G",
    "outputId": "7820a58c-f704-4272-fdb5-a3d9318cccb6"
   },
   "outputs": [
    {
     "data": {
      "text/plain": [
       "0    1\n",
       "1    2\n",
       "2    3\n",
       "3    2\n",
       "4    3\n",
       "5    1\n",
       "dtype: category\n",
       "Categories (3, int64): [1, 2, 3]"
      ]
     },
     "execution_count": 44,
     "metadata": {
      "tags": []
     },
     "output_type": "execute_result"
    }
   ],
   "source": [
    "pd.Series([1,2,3,2,3,1]).astype(\"category\")"
   ]
  },
  {
   "cell_type": "markdown",
   "metadata": {
    "colab_type": "text",
    "id": "RtFaMDPDez1H"
   },
   "source": [
    "### dplyr\n",
    "Join"
   ]
  },
  {
   "cell_type": "code",
   "execution_count": 120,
   "metadata": {},
   "outputs": [],
   "source": [
    "pd.concat?"
   ]
  },
  {
   "cell_type": "markdown",
   "metadata": {},
   "source": [
    "It is worth noting that concat() (and therefore append()) makes a full copy of the data, and that constantly reusing this function can create a significant performance hit. If you need to use the operation over several datasets, use a list comprehension.\n",
    "\n",
    "Using `keys`, the resulting object’s index has a hierarchical index. This means that we can now select out each chunk by key"
   ]
  },
  {
   "cell_type": "code",
   "execution_count": 126,
   "metadata": {
    "colab": {},
    "colab_type": "code",
    "id": "3hebzPu_ez1I",
    "outputId": "c9a7b80c-1855-4392-9dc1-4445bc61477f"
   },
   "outputs": [
    {
     "name": "stdout",
     "output_type": "stream",
     "text": [
      "      l          r     \n",
      "    key lval   key rval\n",
      "0   foo    1   foo    4\n",
      "1  foo1    2  foo1    5\n"
     ]
    }
   ],
   "source": [
    "key = ['foo', 'foo1']\n",
    "left = pd.DataFrame({'key': key, 'lval': [1, 2]})\n",
    "right = pd.DataFrame({'key': key, 'rval': [4, 5]})\n",
    "concated = pd.concat([left,right],axis=1,keys=['l','r'])\n",
    "print(concated)"
   ]
  },
  {
   "cell_type": "code",
   "execution_count": 128,
   "metadata": {},
   "outputs": [
    {
     "data": {
      "text/html": [
       "<div>\n",
       "<style scoped>\n",
       "    .dataframe tbody tr th:only-of-type {\n",
       "        vertical-align: middle;\n",
       "    }\n",
       "\n",
       "    .dataframe tbody tr th {\n",
       "        vertical-align: top;\n",
       "    }\n",
       "\n",
       "    .dataframe thead th {\n",
       "        text-align: right;\n",
       "    }\n",
       "</style>\n",
       "<table border=\"1\" class=\"dataframe\">\n",
       "  <thead>\n",
       "    <tr style=\"text-align: right;\">\n",
       "      <th></th>\n",
       "      <th>key</th>\n",
       "      <th>lval</th>\n",
       "    </tr>\n",
       "  </thead>\n",
       "  <tbody>\n",
       "    <tr>\n",
       "      <th>0</th>\n",
       "      <td>foo</td>\n",
       "      <td>1</td>\n",
       "    </tr>\n",
       "    <tr>\n",
       "      <th>1</th>\n",
       "      <td>foo1</td>\n",
       "      <td>2</td>\n",
       "    </tr>\n",
       "  </tbody>\n",
       "</table>\n",
       "</div>"
      ],
      "text/plain": [
       "    key  lval\n",
       "0   foo     1\n",
       "1  foo1     2"
      ]
     },
     "execution_count": 128,
     "metadata": {},
     "output_type": "execute_result"
    }
   ],
   "source": [
    "concated.loc[:,'l']"
   ]
  },
  {
   "cell_type": "markdown",
   "metadata": {},
   "source": [
    "SQL-type of joining: high-performance and convenient"
   ]
  },
  {
   "cell_type": "code",
   "execution_count": 129,
   "metadata": {
    "colab": {},
    "colab_type": "code",
    "id": "3hebzPu_ez1I",
    "outputId": "c9a7b80c-1855-4392-9dc1-4445bc61477f"
   },
   "outputs": [
    {
     "name": "stdout",
     "output_type": "stream",
     "text": [
      "    key  lval  rval\n",
      "0   foo     1     4\n",
      "1  foo1     2     5\n"
     ]
    },
    {
     "data": {
      "text/html": [
       "<div>\n",
       "<style scoped>\n",
       "    .dataframe tbody tr th:only-of-type {\n",
       "        vertical-align: middle;\n",
       "    }\n",
       "\n",
       "    .dataframe tbody tr th {\n",
       "        vertical-align: top;\n",
       "    }\n",
       "\n",
       "    .dataframe thead th {\n",
       "        text-align: right;\n",
       "    }\n",
       "</style>\n",
       "<table border=\"1\" class=\"dataframe\">\n",
       "  <thead>\n",
       "    <tr style=\"text-align: right;\">\n",
       "      <th></th>\n",
       "      <th>lval</th>\n",
       "      <th>rval</th>\n",
       "    </tr>\n",
       "    <tr>\n",
       "      <th>key</th>\n",
       "      <th></th>\n",
       "      <th></th>\n",
       "    </tr>\n",
       "  </thead>\n",
       "  <tbody>\n",
       "    <tr>\n",
       "      <th>foo</th>\n",
       "      <td>1</td>\n",
       "      <td>4</td>\n",
       "    </tr>\n",
       "    <tr>\n",
       "      <th>foo1</th>\n",
       "      <td>2</td>\n",
       "      <td>5</td>\n",
       "    </tr>\n",
       "  </tbody>\n",
       "</table>\n",
       "</div>"
      ],
      "text/plain": [
       "      lval  rval\n",
       "key             \n",
       "foo      1     4\n",
       "foo1     2     5"
      ]
     },
     "execution_count": 129,
     "metadata": {},
     "output_type": "execute_result"
    }
   ],
   "source": [
    "merged = pd.merge(left, right, on='key')\n",
    "print(merged)\n",
    "merged.groupby('key').sum()"
   ]
  },
  {
   "cell_type": "markdown",
   "metadata": {
    "colab_type": "text",
    "id": "vLoWJf4WmDtU"
   },
   "source": [
    "Mutate"
   ]
  },
  {
   "cell_type": "code",
   "execution_count": 131,
   "metadata": {
    "colab": {},
    "colab_type": "code",
    "id": "hPbVUNGfmEeB"
   },
   "outputs": [],
   "source": [
    "def select_and_transform_features(source_df):\n",
    "  LATITUDE_RANGES = zip(range(32, 44), range(33, 45))\n",
    "  selected_examples = pd.DataFrame()\n",
    "  selected_examples[\"median_income\"] = source_df[\"median_income\"]\n",
    "  for r in LATITUDE_RANGES:\n",
    "    selected_examples[\"latitude_%d_to_%d\" % r] = source_df[\"latitude\"].apply(\n",
    "      lambda l: 1.0 if l >= r[0] and l < r[1] else 0.0)\n",
    "  return selected_examples\n"
   ]
  },
  {
   "cell_type": "markdown",
   "metadata": {
    "colab_type": "text",
    "id": "DOH7zfZlez1I"
   },
   "source": [
    "### reshape2"
   ]
  },
  {
   "cell_type": "code",
   "execution_count": 0,
   "metadata": {
    "colab": {},
    "colab_type": "code",
    "id": "NPTnGAhRez1I",
    "outputId": "a65d349c-b1ce-4a96-9a17-17d39c712cca"
   },
   "outputs": [
    {
     "data": {
      "text/html": [
       "<div>\n",
       "<style scoped>\n",
       "    .dataframe tbody tr th:only-of-type {\n",
       "        vertical-align: middle;\n",
       "    }\n",
       "\n",
       "    .dataframe tbody tr th {\n",
       "        vertical-align: top;\n",
       "    }\n",
       "\n",
       "    .dataframe thead th {\n",
       "        text-align: right;\n",
       "    }\n",
       "</style>\n",
       "<table border=\"1\" class=\"dataframe\">\n",
       "  <thead>\n",
       "    <tr style=\"text-align: right;\">\n",
       "      <th></th>\n",
       "      <th>first</th>\n",
       "      <th>last</th>\n",
       "      <th>variable</th>\n",
       "      <th>value</th>\n",
       "    </tr>\n",
       "  </thead>\n",
       "  <tbody>\n",
       "    <tr>\n",
       "      <th>0</th>\n",
       "      <td>John</td>\n",
       "      <td>Doe</td>\n",
       "      <td>height</td>\n",
       "      <td>5.5</td>\n",
       "    </tr>\n",
       "    <tr>\n",
       "      <th>1</th>\n",
       "      <td>Mary</td>\n",
       "      <td>Bo</td>\n",
       "      <td>height</td>\n",
       "      <td>6.0</td>\n",
       "    </tr>\n",
       "    <tr>\n",
       "      <th>2</th>\n",
       "      <td>John</td>\n",
       "      <td>Doe</td>\n",
       "      <td>weight</td>\n",
       "      <td>130.0</td>\n",
       "    </tr>\n",
       "    <tr>\n",
       "      <th>3</th>\n",
       "      <td>Mary</td>\n",
       "      <td>Bo</td>\n",
       "      <td>weight</td>\n",
       "      <td>150.0</td>\n",
       "    </tr>\n",
       "  </tbody>\n",
       "</table>\n",
       "</div>"
      ],
      "text/plain": [
       "  first last variable  value\n",
       "0  John  Doe   height    5.5\n",
       "1  Mary   Bo   height    6.0\n",
       "2  John  Doe   weight  130.0\n",
       "3  Mary   Bo   weight  150.0"
      ]
     },
     "execution_count": 36,
     "metadata": {
      "tags": []
     },
     "output_type": "execute_result"
    }
   ],
   "source": [
    "cheese = pd.DataFrame({'first' : ['John', 'Mary'],\n",
    "'last' : ['Doe', 'Bo'],\n",
    "'height' : [5.5, 6.0],\n",
    "'weight' : [130, 150]})\n",
    "\n",
    "pd.melt(cheese,id_vars=['first','last'])"
   ]
  },
  {
   "cell_type": "markdown",
   "metadata": {
    "colab_type": "text",
    "id": "H5iV9Z-xez1J"
   },
   "source": [
    "### ts, zoo"
   ]
  },
  {
   "cell_type": "markdown",
   "metadata": {
    "colab_type": "text",
    "id": "15f_lX4gez1J"
   },
   "source": [
    "#### Working with datetime object"
   ]
  },
  {
   "cell_type": "code",
   "execution_count": 132,
   "metadata": {
    "colab": {},
    "colab_type": "code",
    "id": "ebA4IAwYez1J",
    "outputId": "b1878fe8-ab66-4e69-da31-c71d584e161e"
   },
   "outputs": [
    {
     "data": {
      "text/plain": [
       "Timestamp('2015-07-04 00:00:00')"
      ]
     },
     "execution_count": 132,
     "metadata": {},
     "output_type": "execute_result"
    }
   ],
   "source": [
    "date = pd.to_datetime(\"4th of July, 2015\")\n",
    "date"
   ]
  },
  {
   "cell_type": "code",
   "execution_count": 136,
   "metadata": {
    "colab": {},
    "colab_type": "code",
    "id": "3v1E6T47ez1O",
    "outputId": "47ab6191-b212-438a-b5b6-37901524c0bb"
   },
   "outputs": [],
   "source": [
    "# get data from quandl\n",
    "import quandl\n",
    "\n",
    "quandl.ApiConfig.api_key = 'tQGbXU5xF8jS4x3sg9i1'\n",
    "tesla = quandl.get('WIKI/TSLA')\n",
    "# Retrieve the GM data from Quandl\n",
    "gm = quandl.get('WIKI/GM')"
   ]
  },
  {
   "cell_type": "code",
   "execution_count": 137,
   "metadata": {
    "colab": {},
    "colab_type": "code",
    "id": "-vQLzjd0ez1O",
    "outputId": "d5d2aff7-7a95-4621-c821-f28c3904ddd7"
   },
   "outputs": [
    {
     "name": "stdout",
     "output_type": "stream",
     "text": [
      "<class 'pandas.core.frame.DataFrame'>\n",
      "DatetimeIndex: 1849 entries, 2010-11-18 to 2018-03-27\n",
      "Data columns (total 12 columns):\n",
      "Open           1849 non-null float64\n",
      "High           1849 non-null float64\n",
      "Low            1849 non-null float64\n",
      "Close          1849 non-null float64\n",
      "Volume         1849 non-null float64\n",
      "Ex-Dividend    1849 non-null float64\n",
      "Split Ratio    1849 non-null float64\n",
      "Adj. Open      1849 non-null float64\n",
      "Adj. High      1849 non-null float64\n",
      "Adj. Low       1849 non-null float64\n",
      "Adj. Close     1849 non-null float64\n",
      "Adj. Volume    1849 non-null float64\n",
      "dtypes: float64(12)\n",
      "memory usage: 187.8 KB\n"
     ]
    }
   ],
   "source": [
    "gm.info()"
   ]
  },
  {
   "cell_type": "code",
   "execution_count": 142,
   "metadata": {},
   "outputs": [
    {
     "data": {
      "text/plain": [
       "DatetimeIndex(['2010-06-29', '2010-06-30', '2010-07-01', '2010-07-02',\n",
       "               '2010-07-06', '2010-07-07', '2010-07-08', '2010-07-09',\n",
       "               '2010-07-12', '2010-07-13',\n",
       "               ...\n",
       "               '2018-03-14', '2018-03-15', '2018-03-16', '2018-03-19',\n",
       "               '2018-03-20', '2018-03-21', '2018-03-22', '2018-03-23',\n",
       "               '2018-03-26', '2018-03-27'],\n",
       "              dtype='datetime64[ns]', name='Date', length=1949, freq=None)"
      ]
     },
     "execution_count": 142,
     "metadata": {},
     "output_type": "execute_result"
    }
   ],
   "source": [
    "tesla.index"
   ]
  },
  {
   "cell_type": "markdown",
   "metadata": {
    "colab_type": "text",
    "id": "oVC0PSSvez1T"
   },
   "source": [
    "Resampling"
   ]
  },
  {
   "cell_type": "markdown",
   "metadata": {},
   "source": [
    "resample is more general than asfreq. For example, using resample I can pass an arbitrary function to perform binning over a Series or DataFrame object in bins of arbitrary size(essentially **groupby**). asfreq is a concise way of changing the frequency of a DatetimeIndex object. It also provides padding functionality.\n",
    "\n",
    "asfreq can be used when you want to change a DatetimeIndex to have a different frequency while **retaining the same values at the current index**."
   ]
  },
  {
   "cell_type": "code",
   "execution_count": 145,
   "metadata": {
    "colab": {},
    "colab_type": "code",
    "id": "782w1H8xez1T",
    "outputId": "7704702b-a384-474d-f0bc-eb25398c8b6f"
   },
   "outputs": [
    {
     "data": {
      "text/plain": [
       "<matplotlib.axes._subplots.AxesSubplot at 0x1a217cc518>"
      ]
     },
     "execution_count": 145,
     "metadata": {},
     "output_type": "execute_result"
    },
    {
     "data": {
      "image/png": "[encoded data removed]",
      "text/plain": [
       "<Figure size 432x288 with 1 Axes>"
      ]
     },
     "metadata": {
      "needs_background": "light"
     },
     "output_type": "display_data"
    }
   ],
   "source": [
    "import matplotlib.pyplot as plt\n",
    "# downsampling\n",
    "# .plot is built within pandas\n",
    "tesla.Open.plot(alpha=0.5, style='-')\n",
    "# business annual, BQ - business quarter\n",
    "tesla.Open.resample('BA').mean().plot(style=':')\n",
    "tesla.Open.asfreq('BA').plot(style='--')"
   ]
  },
  {
   "cell_type": "markdown",
   "metadata": {
    "colab_type": "text",
    "id": "wJPZj_GCez1T"
   },
   "source": [
    "**Shifting**\n",
    "\n",
    "shift() and tshift(). The difference between them is that shift() shifts the data, while tshift() shifts the index. "
   ]
  },
  {
   "cell_type": "code",
   "execution_count": 0,
   "metadata": {
    "colab": {},
    "colab_type": "code",
    "id": "8tNyD3nwez1T",
    "outputId": "ea6c34bb-a812-4c04-c8f6-fd68a74f21c6"
   },
   "outputs": [
    {
     "data": {
      "text/plain": [
       "[<matplotlib.lines.Line2D at 0x11811ec88>]"
      ]
     },
     "execution_count": 103,
     "metadata": {
      "tags": []
     },
     "output_type": "execute_result"
    },
    {
     "data": {
      "image/png": "[encoded data removed]",
      "text/plain": [
       "<Figure size 432x288 with 1 Axes>"
      ]
     },
     "metadata": {
      "tags": []
     },
     "output_type": "display_data"
    }
   ],
   "source": [
    "# you would have to add frequency to the data first\n",
    "tesla = tesla.asfreq('D', method='pad')\n",
    "from ggplot import *\n",
    "\n",
    "ROI = 100 * (tesla.Close.tshift(-365) / tesla.Close - 1)\n",
    "plt.plot(ROI)"
   ]
  },
  {
   "cell_type": "markdown",
   "metadata": {
    "colab_type": "text",
    "id": "q759ucqcez1V"
   },
   "source": [
    "**Rolling mean**"
   ]
  },
  {
   "cell_type": "code",
   "execution_count": 0,
   "metadata": {
    "colab": {},
    "colab_type": "code",
    "id": "8ZmKtctkez1W",
    "outputId": "692d421e-3771-4ea0-baed-b5e2ceff0377"
   },
   "outputs": [
    {
     "data": {
      "image/png": "[encoded data removed]",
      "text/plain": [
       "<Figure size 432x288 with 1 Axes>"
      ]
     },
     "metadata": {
      "tags": []
     },
     "output_type": "display_data"
    }
   ],
   "source": [
    "rolling = tesla.Open.rolling(365, center=True)\n",
    "\n",
    "data = pd.DataFrame({'input': tesla['Open'],\n",
    "                     'one-year rolling_mean': rolling.mean(),\n",
    "                     'one-year rolling_std': rolling.std()})\n",
    "ax = data.plot(style=['-', '--', ':'])\n",
    "ax.lines[0].set_alpha(0.3)\n"
   ]
  },
  {
   "cell_type": "markdown",
   "metadata": {
    "colab_type": "text",
    "id": "MBwbDewWez1W"
   },
   "source": [
    "**Differencing**"
   ]
  },
  {
   "cell_type": "code",
   "execution_count": 0,
   "metadata": {
    "colab": {},
    "colab_type": "code",
    "id": "XB2vfawuez1W",
    "outputId": "e225c212-acdd-474d-f380-7070837e3715",
    "scrolled": true
   },
   "outputs": [
    {
     "data": {
      "text/plain": [
       "<matplotlib.axes._subplots.AxesSubplot at 0x117660080>"
      ]
     },
     "execution_count": 135,
     "metadata": {
      "tags": []
     },
     "output_type": "execute_result"
    },
    {
     "data": {
      "image/png": "[encoded data removed]",
      "text/plain": [
       "<Figure size 432x288 with 1 Axes>"
      ]
     },
     "metadata": {
      "tags": []
     },
     "output_type": "display_data"
    }
   ],
   "source": [
    "tesla.Close.diff(4).plot()"
   ]
  },
  {
   "cell_type": "code",
   "execution_count": 0,
   "metadata": {
    "colab": {},
    "colab_type": "code",
    "id": "PjFSajcOez1Y",
    "outputId": "553f3fe3-7c11-41e7-c04f-e363a38f48e7",
    "scrolled": true
   },
   "outputs": [
    {
     "data": {
      "text/plain": [
       "<matplotlib.axes._subplots.AxesSubplot at 0x1230ebc18>"
      ]
     },
     "execution_count": 153,
     "metadata": {
      "tags": []
     },
     "output_type": "execute_result"
    },
    {
     "data": {
      "image/png": "[encoded data removed]",
      "text/plain": [
       "<Figure size 432x288 with 1 Axes>"
      ]
     },
     "metadata": {
      "tags": []
     },
     "output_type": "display_data"
    }
   ],
   "source": [
    "re = gm.Close.resample(\"3B\").mean()\n",
    "pd.plotting.autocorrelation_plot(re)\n"
   ]
  },
  {
   "cell_type": "markdown",
   "metadata": {
    "colab_type": "text",
    "id": "m-RQ8-hFHEbd"
   },
   "source": [
    "### Outlier\n",
    "\n",
    "Clip outlier"
   ]
  },
  {
   "cell_type": "code",
   "execution_count": 21,
   "metadata": {
    "colab": {
     "base_uri": "https://localhost:8080/",
     "height": 87
    },
    "colab_type": "code",
    "executionInfo": {
     "elapsed": 309,
     "status": "ok",
     "timestamp": 1535821932825,
     "user": {
      "displayName": "Olivia Jin",
      "photoUrl": "//lh3.googleusercontent.com/-Lzx8iLCphXA/AAAAAAAAAAI/AAAAAAAAACs/6-6Ym45Rq5E/s50-c-k-no/photo.jpg",
      "userId": "113802629998149102361"
     },
     "user_tz": 240
    },
    "id": "1izuH0jdHKFQ",
    "outputId": "b61c5afe-4752-46be-c52d-d10797b528fd"
   },
   "outputs": [
    {
     "data": {
      "text/plain": [
       "0    1\n",
       "1    5\n",
       "2    5\n",
       "Name: 0, dtype: int64"
      ]
     },
     "execution_count": 21,
     "metadata": {
      "tags": []
     },
     "output_type": "execute_result"
    }
   ],
   "source": [
    "import pandas as pd\n",
    "a = (pd.DataFrame([1,10,15]))\n",
    "a.iloc[:,0].apply(lambda x: min(x,5))"
   ]
  },
  {
   "cell_type": "code",
   "execution_count": 25,
   "metadata": {
    "colab": {
     "base_uri": "https://localhost:8080/",
     "height": 52
    },
    "colab_type": "code",
    "executionInfo": {
     "elapsed": 297,
     "status": "ok",
     "timestamp": 1535822183831,
     "user": {
      "displayName": "Olivia Jin",
      "photoUrl": "//lh3.googleusercontent.com/-Lzx8iLCphXA/AAAAAAAAAAI/AAAAAAAAACs/6-6Ym45Rq5E/s50-c-k-no/photo.jpg",
      "userId": "113802629998149102361"
     },
     "user_tz": 240
    },
    "id": "l4diBvtYHpYy",
    "outputId": "d9b577dc-3118-43b1-b7ff-d5a6caf31aac"
   },
   "outputs": [
    {
     "name": "stdout",
     "output_type": "stream",
     "text": [
      "<class 'pandas.core.frame.DataFrame'>\n",
      "<class 'pandas.core.series.Series'>\n"
     ]
    }
   ],
   "source": [
    "print(type(a[[0]]))\n",
    "print(type(a.iloc[:,0]))"
   ]
  },
  {
   "cell_type": "code",
   "execution_count": 29,
   "metadata": {
    "colab": {
     "base_uri": "https://localhost:8080/",
     "height": 35
    },
    "colab_type": "code",
    "executionInfo": {
     "elapsed": 256,
     "status": "ok",
     "timestamp": 1535822226958,
     "user": {
      "displayName": "Olivia Jin",
      "photoUrl": "//lh3.googleusercontent.com/-Lzx8iLCphXA/AAAAAAAAAAI/AAAAAAAAACs/6-6Ym45Rq5E/s50-c-k-no/photo.jpg",
      "userId": "113802629998149102361"
     },
     "user_tz": 240
    },
    "id": "gpLDt0eQIsuL",
    "outputId": "0597dfe5-20be-4bd9-a8ca-41039d881aca"
   },
   "outputs": [
    {
     "name": "stdout",
     "output_type": "stream",
     "text": [
      "<class 'pandas.core.series.Series'>\n"
     ]
    }
   ],
   "source": [
    "a.columns=['a']\n",
    "print(type(a.a))"
   ]
  },
  {
   "cell_type": "markdown",
   "metadata": {
    "colab_type": "text",
    "id": "bEMU-oVaez1b"
   },
   "source": [
    "## Scikit-Learn\n",
    "Typical workflow:\n",
    "\n",
    "1) Load dataset: for pre-loaded scikit-learn dataset, it would be a dictionary-like object that holds all the data and some metadata about the data. This data is stored in the **.data** member, which is a n_samples, n_features array. In the case of supervised problem, one or more response variables are stored in the **.target** member\n",
    "\n",
    "Check the data using some of the methods we've looked at before.  These might include:\n",
    "\n",
    "   * Comparing distributions of predictions and actual target values\n",
    "\n",
    "   * Creating a scatter plot of predictions vs. target values\n",
    "\n",
    "   * Creating two scatter plots of validation data using `latitude` and `longitude`:\n",
    "      * One plot mapping color to actual target `median_house_value`\n",
    "      * A second plot mapping color to predicted `median_house_value` for side-by-side comparison.\n",
    "\n",
    "2) Preprocessing data, feature selection, feature engineering\n",
    "\n"
   ]
  },
  {
   "cell_type": "code",
   "execution_count": 0,
   "metadata": {
    "colab": {},
    "colab_type": "code",
    "id": "uCA_YT7TAlGN"
   },
   "outputs": [],
   "source": [
    "def log_normalize(series):\n",
    "    return series.apply(lambda x:math.log(x+1.0))\n",
    "\n",
    "def clip(series, clip_to_min, clip_to_max):\n",
    "    return series.apply(lambda x:(min(max(x, clip_to_min), clip_to_max)))\n",
    "\n",
    "def z_score_normalize(series):\n",
    "    mean = series.mean()\n",
    "    std_dv = series.std()\n",
    "    return series.apply(lambda x:(x - mean) / std_dv)\n",
    "\n",
    "def binary_threshold(series, threshold):\n",
    "    return series.apply(lambda x:(1 if x > threshold else 0))"
   ]
  },
  {
   "cell_type": "code",
   "execution_count": 0,
   "metadata": {
    "colab": {},
    "colab_type": "code",
    "id": "7x5jIAAL-3P4"
   },
   "outputs": [],
   "source": [
    "# convert all the values to [-1,1] for better numerical optimization performance\n",
    "def min_max_scaler(series):\n",
    "    min_val = series.min()\n",
    "    max_val = series.max()\n",
    "    scale = (max_val - min_val) / 2.0\n",
    "    return series.apply(lambda x:((x - min_val) / scale) - 1.0)"
   ]
  },
  {
   "cell_type": "markdown",
   "metadata": {
    "colab_type": "text",
    "id": "kAeLJeCsAkEo"
   },
   "source": [
    "\n",
    "\n",
    "3) Construct estimator object: An estimator is any object that learns from data; it may be a classification, regression or clustering algorithm or a **transformer** that extracts/filters useful features from raw data. An estimator for classification is a Python object that implements the methods **fit(X, y)** and **predict(T)**. The constructor of an estimator takes as arguments the parameters of the model.\n",
    "\n",
    "All the model names starts with capitalized letter"
   ]
  },
  {
   "cell_type": "markdown",
   "metadata": {
    "colab_type": "text",
    "id": "3zR_11VNez1b"
   },
   "source": [
    "Certain conventions must be followed when you construct scikit-learn estimators.\n",
    "\n",
    "- Type casting. Unless otherwise speciified, input will be cast to float64. Regression targets are cast to float64, classification targets are maintained:\n",
    "\n",
    "- Parameter updating: calling fit() more than once will overwrite what was learned by any previous fit()"
   ]
  },
  {
   "cell_type": "code",
   "execution_count": 0,
   "metadata": {
    "colab": {},
    "colab_type": "code",
    "id": "_5lp7haRez1b",
    "outputId": "8ee681c2-1692-4112-af2e-2a78bc5e0d58"
   },
   "outputs": [
    {
     "name": "stdout",
     "output_type": "stream",
     "text": [
      "[1 0 1 1 0]\n",
      "[0 0 0 1 0]\n"
     ]
    }
   ],
   "source": [
    "# a trivial example\n",
    "from sklearn.svm import SVC\n",
    "# random number generator\n",
    "rng = np.random.RandomState(0)\n",
    "X = rng.rand(100, 10)\n",
    "y = rng.binomial(1, 0.5, 100)\n",
    "X_test = rng.rand(5, 10)\n",
    "\n",
    "clf = SVC()\n",
    "clf.set_params(kernel='linear').fit(X, y)  \n",
    "\n",
    "print(clf.predict(X_test))\n",
    "\n",
    "clf.set_params(kernel='rbf').fit(X, y)  \n",
    "\n",
    "print(clf.predict(X_test))"
   ]
  },
  {
   "cell_type": "markdown",
   "metadata": {
    "colab_type": "text",
    "id": "kRlO9V0Cez1g"
   },
   "source": [
    "- Multiclass vs. multilabel fitting: When using multiclass classifiers, the learning and prediction task that is performed is dependent on the format of the target data fit upon. If the model is fit on a 1d array of multiclass label, it would be seen as a multiclass problem. You can use LabelBinarizer to transform it to a multilabel problem. \n"
   ]
  },
  {
   "cell_type": "code",
   "execution_count": 0,
   "metadata": {
    "colab": {},
    "colab_type": "code",
    "id": "E4xa1GKRez1h",
    "outputId": "2a5abc9a-3731-4983-f0c6-79068b31b8fd"
   },
   "outputs": [
    {
     "name": "stdout",
     "output_type": "stream",
     "text": [
      "[0 0 1 1 2]\n"
     ]
    }
   ],
   "source": [
    "from sklearn.multiclass import OneVsRestClassifier\n",
    "from sklearn.preprocessing import LabelBinarizer\n",
    "\n",
    "X = [[1, 2], [2, 4], [4, 5], [3, 2], [3, 1]]\n",
    "y = [0, 0, 1, 1, 2]\n",
    "\n",
    "classif = OneVsRestClassifier(estimator=SVC(random_state=0))\n",
    "print(classif.fit(X, y).predict(X))"
   ]
  },
  {
   "cell_type": "code",
   "execution_count": 0,
   "metadata": {
    "colab": {},
    "colab_type": "code",
    "id": "kv81ky-iez1h",
    "outputId": "e9803781-1e45-4289-8b42-2def8f33b69d"
   },
   "outputs": [
    {
     "name": "stdout",
     "output_type": "stream",
     "text": [
      "[[1 0 0]\n",
      " [1 0 0]\n",
      " [0 1 0]\n",
      " [0 1 0]\n",
      " [0 0 1]]\n"
     ]
    },
    {
     "data": {
      "text/plain": [
       "array([[1, 0, 0],\n",
       "       [1, 0, 0],\n",
       "       [0, 1, 0],\n",
       "       [0, 0, 0],\n",
       "       [0, 0, 0]])"
      ]
     },
     "execution_count": 192,
     "metadata": {
      "tags": []
     },
     "output_type": "execute_result"
    }
   ],
   "source": [
    "y = LabelBinarizer().fit_transform(y)\n",
    "print(y)\n",
    "classif.fit(X, y).predict(X)"
   ]
  },
  {
   "cell_type": "markdown",
   "metadata": {
    "colab_type": "text",
    "id": "Wg23zyYeez1i"
   },
   "source": [
    "4) Fit the model/tune the parameter: \n",
    "\n",
    "- A search consists of:\n",
    "\n",
    "    an estimator (regressor or classifier such as sklearn.svm.SVC());\n",
    "    \n",
    "    a parameter space;\n",
    "    \n",
    "    a method for searching or sampling candidates;\n",
    "    \n",
    "    a cross-validation scheme; and\n",
    "    \n",
    "    a score function - Every estimator exposes a score method that can judge the quality of the fit (or the prediction) on new data. Bigger is better. By default, parameter search uses the score function of the estimator to evaluate a parameter setting. These are the sklearn.metrics.accuracy_score for classification and sklearn.metrics.r2_score for regression. For some other algos, other scoring functions are better. An alternative scoring function can be specified via the scoring parameter to CV methods.\n",
    "\n",
    "- When data is fitted with an estimator, parameters are estimated from the data at hand\n",
    "\n",
    "estimator.get_params\n",
    "\n",
    "estimator.set_params\n",
    "\n",
    "estimator.params\n",
    "\n",
    "estimator.estimated\\_param\\_\n",
    "\n",
    "estimator.fit(data,target).score(test_data,target)\n",
    "\n",
    "- Cross-validation to set a parameter can be done more efficiently on an algorithm-by-algorithm basis. Therefore, for certain algorithm, scikit-learn exposes Cross-validation estimator that set their parameter automatically by cross-validation. These estimators are called similarly to their counterparts, with ‘CV’ appended to their name.\n",
    "\n",
    "- Two generic CV methods: Exhaustive(GridSearchCV), distribution sampling(RandomizedSearchCV)\n"
   ]
  },
  {
   "cell_type": "code",
   "execution_count": 152,
   "metadata": {},
   "outputs": [],
   "source": [
    "from sklearn.feature_selection import VarianceThreshold\n",
    "from sklearn.model_selection import train_test_split"
   ]
  },
  {
   "cell_type": "markdown",
   "metadata": {},
   "source": [
    "Features with a training-set variance lower than this threshold will be removed"
   ]
  },
  {
   "cell_type": "code",
   "execution_count": 153,
   "metadata": {
    "colab": {},
    "colab_type": "code",
    "id": "UDvunzKSez1i",
    "outputId": "34090318-2e01-4ac7-b2f9-3a26b6a4b1ff"
   },
   "outputs": [
    {
     "name": "stdout",
     "output_type": "stream",
     "text": [
      "[32.43 14.92 23.79]\n",
      "[31.76 15.13 23.96]\n"
     ]
    },
    {
     "name": "stderr",
     "output_type": "stream",
     "text": [
      "/Users/yuejin/miniconda3/lib/python3.5/site-packages/sklearn/ensemble/forest.py:248: FutureWarning: The default value of n_estimators will change from 10 in version 0.20 to 100 in 0.22.\n",
      "  \"10 in version 0.20 to 100 in 0.22.\", FutureWarning)\n"
     ]
    }
   ],
   "source": [
    "from sklearn import datasets\n",
    "from sklearn.model_selection import cross_val_predict\n",
    "from sklearn.ensemble import RandomForestRegressor\n",
    "import sklearn as skl\n",
    "from sklearn.pipeline import Pipeline\n",
    "\n",
    "df = pd.DataFrame(boston.data)\n",
    "df.columns = boston.feature_names\n",
    "\n",
    "select = VarianceThreshold(0.04)\n",
    "fit1 = RandomForestRegressor(random_state=0)\n",
    "\n",
    "# construct pipeline object\n",
    "pipeline = Pipeline(steps=[(\"select\",select),('Regr',fit1)])\n",
    "\n",
    "X_train, X_test, y_train, y_test = \\\n",
    "train_test_split(df, boston.target, test_size=0.33, random_state=42)\n",
    "\n",
    "\n",
    "pipeline.fit(X_train,y_train)\n",
    "print(pipeline.predict(X_test)[1:4])\n",
    "print(fit1.fit(X_train,y_train).predict(X_test)[1:4])\n",
    "#plt.plot(y_test)\n",
    "#report = skl.metrics.regression( y_test, y_predictions )\n",
    "\n",
    "#print(report)"
   ]
  },
  {
   "cell_type": "markdown",
   "metadata": {
    "colab_type": "text",
    "id": "bG3wAyzEez1k"
   },
   "source": [
    "5) Pipeline and save the model: It is possible to save a model in the scikit by using Python’s built-in persistence model, namely pickle. In the specific case of the scikit, it may be more interesting to use joblib’s replacement of pickle (joblib.dump & joblib.load), which is more efficient on big data, but can only pickle to the disk and not to a string. "
   ]
  },
  {
   "cell_type": "code",
   "execution_count": 0,
   "metadata": {
    "colab": {},
    "colab_type": "code",
    "id": "ziYpaYxlez1k",
    "outputId": "4f71389b-3650-467a-bf6d-8358ab47acba"
   },
   "outputs": [
    {
     "data": {
      "text/plain": [
       "['filename.pkl']"
      ]
     },
     "execution_count": 177,
     "metadata": {
      "tags": []
     },
     "output_type": "execute_result"
    }
   ],
   "source": [
    "\n",
    "lr = linear_model.LinearRegression()\n",
    "# a model\n",
    "\n",
    "boston = datasets.load_boston()\n",
    "boston.keys()\n",
    "\n",
    "import pickle\n",
    "s = pickle.dumps(lr)\n",
    "clf2 = pickle.loads(s)\n",
    "\n",
    "\n",
    "from sklearn.externals import joblib\n",
    "joblib.dump(lr, 'filename.pkl') \n",
    "rg = joblib.load('filename.pkl') "
   ]
  },
  {
   "cell_type": "code",
   "execution_count": 0,
   "metadata": {
    "colab": {},
    "colab_type": "code",
    "id": "2D2nH_aDez1l",
    "outputId": "a848534c-a376-4d70-ef15-763bb0f97d10"
   },
   "outputs": [
    {
     "data": {
      "text/plain": [
       "<matplotlib.collections.PathCollection at 0x1239dcba8>"
      ]
     },
     "execution_count": 161,
     "metadata": {
      "tags": []
     },
     "output_type": "execute_result"
    },
    {
     "data": {
      "image/png": "[encoded data removed]",
      "text/plain": [
       "<Figure size 432x288 with 1 Axes>"
      ]
     },
     "metadata": {
      "tags": []
     },
     "output_type": "display_data"
    }
   ],
   "source": [
    "# cross_val_predict returns an array of the same size as `y` where each entry\n",
    "# is a prediction obtained by cross validation:\n",
    "y = boston.target\n",
    "predicted = cross_val_predict(lr, boston.data, y, cv=10)\n",
    "\n",
    "plt.scatter(y, predicted)\n"
   ]
  },
  {
   "cell_type": "markdown",
   "metadata": {
    "colab_type": "text",
    "id": "5iMHc_B0ez1m"
   },
   "source": [
    "## Object Oriented Programming"
   ]
  },
  {
   "cell_type": "markdown",
   "metadata": {},
   "source": [
    "Python is dynamically typed: \n",
    "\n",
    "It doesn’t know about the type of the variable until the code is run. So declaration is of no use. What it does is, It stores that value at some memory location and then binds that variable name to that memory container. And makes the contents of the container accessible through that variable name. So the data type does not matter. As it will get to know the type of the value at run-time."
   ]
  },
  {
   "cell_type": "markdown",
   "metadata": {
    "colab_type": "text",
    "id": "5iMHc_B0ez1m"
   },
   "source": [
    "### Functions"
   ]
  },
  {
   "cell_type": "markdown",
   "metadata": {
    "colab_type": "text",
    "id": "5iMHc_B0ez1m"
   },
   "source": [
    "#### Fibonacci\n",
    "Iteration and recursion."
   ]
  },
  {
   "cell_type": "code",
   "execution_count": 0,
   "metadata": {
    "colab": {},
    "colab_type": "code",
    "id": "83WFEl2Pez1m"
   },
   "outputs": [],
   "source": [
    "def fibo(n):\n",
    "    if n==0 or n==1: return n\n",
    "    a,b = 0,1\n",
    "    for i in range(1,n):\n",
    "        a,b = b,a+b\n",
    "    return b\n",
    "\n",
    "def fib(n):\n",
    "    if n==0 or n==1: \n",
    "        return n\n",
    "    else: \n",
    "        return fib(n-1)+fib(n-2)"
   ]
  },
  {
   "cell_type": "markdown",
   "metadata": {
    "colab_type": "text",
    "id": "f-FCv7roez1n"
   },
   "source": [
    "#### Undefined number of variables"
   ]
  },
  {
   "cell_type": "code",
   "execution_count": 0,
   "metadata": {
    "colab": {},
    "colab_type": "code",
    "id": "ZYnDjYyxez1n",
    "outputId": "136612c2-80e5-4f83-81c0-e57fe969ab7b"
   },
   "outputs": [
    {
     "name": "stdout",
     "output_type": "stream",
     "text": [
      "1 23 6 (8, 9) {'one': 1, 'two': 2}\n",
      "this is a test function 1 2\n"
     ]
    }
   ],
   "source": [
    "def testfunc2(number, another, other, *args, **kwargs):\n",
    "    print(number, another, other, args, kwargs)\n",
    "    print('this is a test function',kwargs['one'],kwargs['two'])\n",
    "\n",
    "\n",
    "testfunc2(1,23,6,8,9,one=1,two=2)"
   ]
  },
  {
   "cell_type": "markdown",
   "metadata": {
    "colab_type": "text",
    "id": "LNV7juLSez1o"
   },
   "source": [
    "### Classes \n",
    "- All methods within classes have self as the first argument(the only different from ordinary functions)\n",
    "- Constructor has a special name which is \\_\\_init\\_\\_\n",
    "- ** means dictionary, used for keyword argument\n",
    "- Property, decorator"
   ]
  },
  {
   "cell_type": "markdown",
   "metadata": {
    "colab_type": "text",
    "id": "cnsBsVYUez1o"
   },
   "source": [
    "Overloading. Same method name, different number of input. Decorators are special functions that return other functions and they are used to modify the way that a function works."
   ]
  },
  {
   "cell_type": "code",
   "execution_count": 0,
   "metadata": {
    "colab": {},
    "colab_type": "code",
    "id": "KjuCFi_1ez1o",
    "outputId": "9e8b6698-62f0-457f-fb72-55f55fe4d80b"
   },
   "outputs": [
    {
     "name": "stdout",
     "output_type": "stream",
     "text": [
      "Hello, Fred.\n",
      "HELLO, FRED!\n"
     ]
    }
   ],
   "source": [
    "class Greeter:\n",
    "    \n",
    "    # Constructor using __init__\n",
    "    def __init__(self, name): \n",
    "        self.name = name  # Create an instance variable\n",
    "\n",
    "    # Instance method\n",
    "    def greet(self, loud=False):\n",
    "        if loud:\n",
    "            print('HELLO, {}!'.format(self.name.upper()))\n",
    "        else:\n",
    "            print('Hello, {}.'.format(self.name))\n",
    "\n",
    "g = Greeter('Fred')  # Construct an instance of the Greeter class\n",
    "g.greet()            # Call an instance method\n",
    "g.greet(loud=True)   # Call an instance method"
   ]
  },
  {
   "cell_type": "code",
   "execution_count": 154,
   "metadata": {
    "colab": {},
    "colab_type": "code",
    "id": "2srD-Wurez1p"
   },
   "outputs": [],
   "source": [
    "class Robot:\n",
    "    \n",
    "    # A class variable\n",
    "    population = 0\n",
    "    \n",
    "    def __init__(self,name):\n",
    "        self.name=name\n",
    "        # Class variable can be \n",
    "        Robot.population+=1\n",
    "    def die(self):\n",
    "        \n",
    "        \n",
    "        if Robot.population==0: print(\"all died\")\n",
    "        else: \n",
    "            Robot.population-=1\n",
    "            print(Robot.population)\n",
    "\n",
    "    # mark the method as a class method using a decorator\n",
    "    #% decorator can be imagined as a shortcut to calling a wrapper function\n",
    "    #% (i.e. a function that wraps around another function so that it can do something \n",
    "    #% before or after the inner function) \n",
    "    # same as get_population = classmethod(get_population)\n",
    "    @classmethod\n",
    "    def get_population(cls):\n",
    "        print(Robot.population)"
   ]
  },
  {
   "cell_type": "code",
   "execution_count": 155,
   "metadata": {
    "colab": {},
    "colab_type": "code",
    "id": "0fi-D5TTez1q"
   },
   "outputs": [
    {
     "name": "stdout",
     "output_type": "stream",
     "text": [
      "0\n",
      "0\n"
     ]
    }
   ],
   "source": [
    "Robot.get_population()\n",
    "a = Robot('hehe')\n",
    "a.die()"
   ]
  },
  {
   "cell_type": "code",
   "execution_count": 156,
   "metadata": {
    "colab": {},
    "colab_type": "code",
    "id": "xd41Bt7mez1q",
    "outputId": "ca489aa6-9f73-4ffa-86d9-b956fb134ace"
   },
   "outputs": [
    {
     "name": "stdout",
     "output_type": "stream",
     "text": [
      "0\n",
      "all died\n"
     ]
    }
   ],
   "source": [
    "Robot.get_population()\n",
    "a.die()"
   ]
  },
  {
   "cell_type": "markdown",
   "metadata": {},
   "source": [
    "Single Underscore:\n",
    "\n",
    "In Interpreter: _ returns the value of last executed expression value in Python Prompt/Interpreter\n",
    "For ignoreing values: Multiple time we do not want return values at that time assign those values to Underscore. It used as throwaway variable.\n",
    "After a name: o avoid such conflict between python keyword and variable we use underscore after name\n",
    "\n",
    "Before a name: Leading Underscore before variable/function/method name indicates to programmer that It is for internal use only, that can be modified whenever class want.This convention is defined in PEP 8. This isn't enforced by Python. Python does not have strong distinctions between “private” and “public” variables like Java does.\n",
    "\n",
    "Double Underscore:\n",
    "\n",
    "\\_\\_leading_double_underscore: The use of double underscore ( \\__ ) in front of a name (specifically a method name) is not a convention; it has a specific meaning to the interpreter. Python mangles these names and it is used to avoid name clashes with names defined by subclasses. Leading double underscore tell python interpreter to rewrite name in order to avoid conflict in subclass.  the interpreter replaces this name with \\_classname__foo as a way to ensure that the name will not overlap with a similar name in another class.\n",
    "\n",
    "\n",
    "\\_\\_before_after__: In Python, you will find different names which start and end with the double underscore. They are called as magic methods or dunder methods.\n",
    "\n"
   ]
  },
  {
   "cell_type": "markdown",
   "metadata": {
    "colab_type": "text",
    "id": "ICbQ50T6ez1s"
   },
   "source": [
    "All class members are public. One exception, if you use data members with names using the **single underscore prefix** such as `_privatevar`, python would treat it as a private variable. \n",
    "\n",
    "Therefore, the convention is that any variable that is to be used only within the class or object should begin with underscores. "
   ]
  },
  {
   "cell_type": "markdown",
   "metadata": {
    "colab_type": "text",
    "id": "ZR3OVzskez1s"
   },
   "source": [
    "### Inheritance\n",
    "class childClass (parentClass):"
   ]
  },
  {
   "cell_type": "code",
   "execution_count": 0,
   "metadata": {
    "colab": {},
    "colab_type": "code",
    "id": "qgvtTxEyez1t"
   },
   "outputs": [],
   "source": [
    "# you don't want users to instantiate a animal object, so you don't have constructor in this class\n",
    "class Animal:\n",
    "    def talk(self): print(\"a\")\n",
    "    def walk(self): print(\"b\")\n",
    "    def clothes(self): print('c')\n",
    "\n",
    "class Duck(Animal):\n",
    "    \n",
    "    def __init__(self, **kwargs):\n",
    "        self.properties = kwargs\n",
    "        #use dictionary for color, and set default value white\n",
    "        self.color = kwargs.get('color','white')\n",
    "\n",
    "    def quack(self):\n",
    "        print('Quaaack!')\n",
    "\n",
    "    def walk(self):\n",
    "        super().walk() \n",
    "        print('Walks like a duck.')\n",
    "\n",
    "    def get_properties(self): \n",
    "        return self.properties\n",
    "    \n",
    "    def get_color(self): \n",
    "        return self.properties.get('color', None)"
   ]
  },
  {
   "cell_type": "markdown",
   "metadata": {
    "colab_type": "text",
    "id": "6YF5mefiez1u"
   },
   "source": [
    "### Polymorphism"
   ]
  },
  {
   "cell_type": "markdown",
   "metadata": {},
   "source": [
    "Polymorphism (in the context of object-oriented programming) means a subclass can **override**(Run Time Polymorphism ) a method of the base class. This means a method of a class can do different things in subclasses. For example: a class Animal can have a method talk() and the subclasses Dog and Cat of Animal can let the method talk() make different sounds. And **overloading**(Compile time Polymorphism ).\n",
    ", meaning same methods with different input can behave differently\n",
    "\n",
    "Duck typing means code will simply accept any object that has a particular method. Duck typing in computer programming is an application of the duck test—\"If it walks like a duck and it quacks like a duck, then it must be a duck\"—to determine if an object can be used for a particular purpose. With normal typing, suitability is determined by an object's type.\n",
    "\n",
    "Let's say we have the following code: animal.quack(). If the given object animal has the method we want to call then we're good (no additional type requirements needed). It does not matter whether animal is actually a Duck or a different animal which also happens to quack. That's why it is called duck typing: if it looks like a duck (e.g., it has a method called  quack() then we can act as if that object is a duck).\n"
   ]
  },
  {
   "cell_type": "code",
   "execution_count": 0,
   "metadata": {
    "colab": {},
    "colab_type": "code",
    "id": "XLyBvNMdez1u"
   },
   "outputs": [],
   "source": [
    "a = Animal()\n",
    "d = Duck()"
   ]
  },
  {
   "cell_type": "code",
   "execution_count": 0,
   "metadata": {
    "colab": {},
    "colab_type": "code",
    "id": "oamzptqgez1v",
    "outputId": "ea9a4f0d-9525-4240-cefc-cfe2d109b5a8"
   },
   "outputs": [
    {
     "name": "stdout",
     "output_type": "stream",
     "text": [
      "b\n"
     ]
    }
   ],
   "source": [
    "a.walk()"
   ]
  },
  {
   "cell_type": "code",
   "execution_count": 0,
   "metadata": {
    "colab": {},
    "colab_type": "code",
    "id": "ZHBlRt_kez1x",
    "outputId": "f56c2246-2583-48e2-87cf-1b9e4cbdcabc"
   },
   "outputs": [
    {
     "name": "stdout",
     "output_type": "stream",
     "text": [
      "b\n",
      "Walks like a duck.\n"
     ]
    }
   ],
   "source": [
    "d.walk()"
   ]
  },
  {
   "cell_type": "markdown",
   "metadata": {
    "colab_type": "text",
    "id": "dCJb3cNvez10"
   },
   "source": [
    "### Error Handling"
   ]
  },
  {
   "cell_type": "markdown",
   "metadata": {
    "colab_type": "text",
    "id": "uqHTNQE5ez11"
   },
   "source": [
    "* Exception"
   ]
  },
  {
   "cell_type": "code",
   "execution_count": 242,
   "metadata": {
    "colab": {},
    "colab_type": "code",
    "id": "05b9yLXBez12"
   },
   "outputs": [
    {
     "name": "stdout",
     "output_type": "stream",
     "text": [
      "[Errno 2] No such file or directory: 'cc.txt'\n"
     ]
    }
   ],
   "source": [
    "def main():\n",
    "    try:  # try-except = try-catch\n",
    "        fh = open('cc.txt')\n",
    "    except IOError as e:\n",
    "         print(e)\n",
    "    except ValueError as filename:\n",
    "        print('bad filename',filename)\n",
    "        for line in fh: print(line.strip())\n",
    "    except:\n",
    "        print(\"error\")        \n",
    "        \n",
    "main()"
   ]
  },
  {
   "cell_type": "markdown",
   "metadata": {
    "colab_type": "text",
    "id": "WFmQZsd4ez12"
   },
   "source": [
    "## Unit Test"
   ]
  },
  {
   "cell_type": "markdown",
   "metadata": {},
   "source": [
    "Unittesting does not prove that code is correct (which is only possible under very restricted circumstances). It merely reports if the **conditions the tester** thought of are handled correctly. Ensure refactoring(Reorganizing/cleaning up code without changing functionality) works as expected\n",
    "\n",
    "Unit testing, specificall tests a single \"unit\" of code in isolation. The code is isolated from other code we're not testing \n",
    "\n",
    "Good testing requires modular, decoupled code, which is a hallmark of good system design\n",
    "\n",
    "Applications designed with test-ability in mind usually end up being modular and loosely coupled out of necessity.\n",
    "\n",
    "you can create a folder called tests/ and split the tests into multiple files. It is convention to ensure each file starts with test_ so all test runners will assume that Python file contains tests to be executed. "
   ]
  },
  {
   "cell_type": "code",
   "execution_count": 307,
   "metadata": {},
   "outputs": [
    {
     "data": {
      "text/plain": [
       "8"
      ]
     },
     "execution_count": 307,
     "metadata": {},
     "output_type": "execute_result"
    }
   ],
   "source": [
    "from functools import reduce\n",
    "fib = lambda n: reduce(lambda x,_: [x[1],x[0]+x[1]],range(n),[1,1])[0]\n",
    "fib(5)"
   ]
  },
  {
   "cell_type": "markdown",
   "metadata": {},
   "source": [
    "The file creates a unit test with a single test case: testCase. Using Python's built-in unittest framework, any member function **whose name begins with test in a class deriving from unittest.TestCase will be run**, and its assertions checked, when unittest.main() is called. If we \"run the tests\" by running python test_primes.py, we'll see the output of the unittest framework printed on the console\n",
    "\n",
    "If you execute the script alone by running python test.py at the command line, it will call unittest.main(). This executes the test runner by discovering all classes in this file that inherit from unittest.TestCase."
   ]
  },
  {
   "cell_type": "code",
   "execution_count": 304,
   "metadata": {
    "colab": {},
    "colab_type": "code",
    "id": "jXTGD4yaez12"
   },
   "outputs": [
    {
     "name": "stderr",
     "output_type": "stream",
     "text": [
      "..\n",
      "----------------------------------------------------------------------\n",
      "Ran 2 tests in 0.001s\n",
      "\n",
      "OK\n"
     ]
    }
   ],
   "source": [
    "import unittest\n",
    "class testCase(unittest.TestCase):\n",
    "\n",
    "    # Each test should test a single, specific property of the code and be named accordingly.\n",
    "    def test_fib_11(self):\n",
    "        # unit test consists of one or more assertions \n",
    "        # (statements that assert that some property of the code being tested is true). \n",
    "        assert fib(11)==89\n",
    "        \n",
    "    def test_fib_5(self):\n",
    "        # Calling a test method in a loop is perfectly valid, \n",
    "        #as are multiple calls to assert methods in a single test\n",
    "        self.assertFalse(fib(5)==55,msg='Not doing it right')\n",
    "        self.assertFalse(fib(5)==45,msg='Not doing it right')\n",
    "\n",
    "    \n",
    "\n",
    "if __name__ == '__main__':\n",
    "    unittest.main(argv=['first-arg-is-ignored'], exit=False)\n",
    "\n",
    "    \n",
    "# Unit tests are automated tests that you can run on your code and\n",
    "# you can write these tests once and save them and run them over and over."
   ]
  },
  {
   "cell_type": "markdown",
   "metadata": {},
   "source": [
    "$ python -m unittest discover\n",
    "\n",
    "This will search the current directory for any files named test*.py and attempt to test them.\n",
    "\n",
    "Once you have multiple test files, as long as you follow the test*.py naming pattern, you can provide the name of the directory instead by using the -s flag and the name of the directory:\n",
    "\n",
    "$ python -m unittest discover -s tests\n",
    "\n",
    "unittest will change to the src/ directory, scan for all test*.py files inside the the tests directory, and execute them.\n",
    "\n"
   ]
  },
  {
   "cell_type": "markdown",
   "metadata": {},
   "source": [
    "It’s not always as easy as creating a static value for the input like a string or a number. Sometimes, your application will require an instance of a class or a context. What do you do then?\n",
    "\n",
    "The data that you create as an input is known as a **fixture**. It’s common practice to create fixtures and reuse them.\n",
    "\n",
    "If you’re running the same test and passing different values each time and expecting the same result, this is known as parameterization.\n",
    "\n"
   ]
  },
  {
   "cell_type": "markdown",
   "metadata": {
    "colab_type": "text",
    "id": "Eb5ntgFnez13"
   },
   "source": [
    "## Connect to database"
   ]
  },
  {
   "cell_type": "markdown",
   "metadata": {
    "colab_type": "text",
    "id": "0WJsYfSsez14"
   },
   "source": [
    "## Namespace in python\n",
    "\n",
    "Basically the same as Java...\n",
    "\n",
    "Python supports a feature called **function closures** which means that inner functions defined in non-global scope remember what their enclosing namespaces looked like at definition time. The function inner is being newly defined each time the function outer is called. \n",
    "\n",
    "* *global*: to assign a value to a name defined at the top level of the program (i.e. not inside any kind of scope such as functions or classes). Otherwise, you have to tell Python that the name is not local, but it is global. \n",
    "\n",
    "LEGB: Local, Ennclosing, Global, Builtin"
   ]
  },
  {
   "cell_type": "code",
   "execution_count": 230,
   "metadata": {},
   "outputs": [
    {
     "name": "stdout",
     "output_type": "stream",
     "text": [
      "x is 50\n",
      "Changed global x to 2\n",
      "Value of x is 2\n"
     ]
    }
   ],
   "source": [
    "x = 50\n",
    "\n",
    "\n",
    "def func():\n",
    "    global x\n",
    "\n",
    "    print('x is', x)\n",
    "    x = 2\n",
    "    print('Changed global x to', x)\n",
    "\n",
    "\n",
    "func()\n",
    "print('Value of x is', x)"
   ]
  },
  {
   "cell_type": "code",
   "execution_count": 261,
   "metadata": {
    "colab": {},
    "colab_type": "code",
    "id": "tJSV_qKzez14"
   },
   "outputs": [
    {
     "name": "stdout",
     "output_type": "stream",
     "text": [
      "3\n"
     ]
    }
   ],
   "source": [
    "def outer(x):\n",
    "    def inner():\n",
    "        print(x) # 1\n",
    "    return inner\n",
    "foo = outer(3)\n",
    "foo()"
   ]
  },
  {
   "cell_type": "markdown",
   "metadata": {
    "colab_type": "text",
    "id": "-ll6MWiTez14"
   },
   "source": [
    "Our variable x is local to the function outer which means it only exists while the function outer is running. We aren’t able to call inner till after the return of outer so according to our model of how Python works, x shouldn’t exist anymore by the time we call inner and perhaps a runtime error of some kind should occur.\n",
    "\n",
    "You might even think of it as similar to object oriented techniques in some ways: outer is a constructor for inner with x acting like a private member variable"
   ]
  },
  {
   "cell_type": "markdown",
   "metadata": {
    "colab_type": "text",
    "id": "-mvItjQ-ez15"
   },
   "source": []
  },
  {
   "cell_type": "markdown",
   "metadata": {
    "colab_type": "text",
    "id": "0s70plCuez15"
   },
   "source": [
    "### Decorator\n",
    "\n",
    "A decorator is just a callable that takes a function as an argument and returns a replacement function.\n",
    "\n",
    "Why use decorator: If you need to code the same operation on several functions--e.g. memoization one parameter simple function--then why write that code over and over (DRY principle). Just decorate with a memoization wrapping function .\n",
    "\n",
    "The reason why decorator works is because the decorator function **can access the variables fed into the function to be decorated** and function closure\n",
    "\n",
    "If we are defining a function we can \"decorate\" it with the @ symbol like:"
   ]
  },
  {
   "cell_type": "code",
   "execution_count": 0,
   "metadata": {
    "colab": {},
    "colab_type": "code",
    "id": "MtOdcikjez15"
   },
   "outputs": [],
   "source": [
    "def wrapper(func):\n",
    "    def inner():\n",
    "        print(\"before some_func\")\n",
    "        ret = some_func() # 1\n",
    "        return ret + 1\n",
    "    return inner\n",
    "    \n",
    "\n",
    "@wrapper\n",
    "def add(a, b):\n",
    "    return Coordinate(a.x + b.x, a.y + b.y)\n",
    "\n",
    "# same as\n",
    "\n",
    "add = wrapper(add)"
   ]
  },
  {
   "cell_type": "markdown",
   "metadata": {},
   "source": [
    "\\*args means either extract positional variables from an iterable if calling a function or when defining a function accept any extra positional variables. Basically just get what is pointed to, or use as a pointer\n",
    "\n",
    "\\*args is only used in the function definition to indicate that positional arguments should be stored in the variable args. "
   ]
  },
  {
   "cell_type": "code",
   "execution_count": 266,
   "metadata": {
    "colab": {},
    "colab_type": "code",
    "id": "GDTOs10Lez16",
    "outputId": "62665605-13cb-41b0-d34b-7f9c3b809316"
   },
   "outputs": [
    {
     "name": "stdout",
     "output_type": "stream",
     "text": [
      "(1, 2, 3)\n"
     ]
    }
   ],
   "source": [
    "def one(*args):\n",
    "    \n",
    "    print(args)\n",
    "\n",
    "l = [1,2,3]\n",
    "# * unpacks the iterable\n",
    "one(*l)"
   ]
  },
  {
   "cell_type": "markdown",
   "metadata": {
    "colab_type": "text",
    "id": "Awt5qnsyez17"
   },
   "source": [
    "When we define a function we can use \\*\\*kwargs to indicate that all uncaptured keyword arguments should be stored in a dictionary called kwargs."
   ]
  },
  {
   "cell_type": "code",
   "execution_count": 0,
   "metadata": {
    "colab": {},
    "colab_type": "code",
    "id": "kuXNqHCYez17"
   },
   "outputs": [],
   "source": [
    "def foo(**kwargs):\n",
    "     print(kwargs)"
   ]
  },
  {
   "cell_type": "code",
   "execution_count": 0,
   "metadata": {
    "colab": {},
    "colab_type": "code",
    "id": "S3NOM9lsez17",
    "outputId": "a2ea6040-56b8-484f-8e5b-4046106f52a6"
   },
   "outputs": [
    {
     "data": {
      "text/plain": [
       "['1341', '3431', '9831']"
      ]
     },
     "execution_count": 17,
     "metadata": {
      "tags": []
     },
     "output_type": "execute_result"
    }
   ],
   "source": [
    "l = [\"9831\",\"13431\",\"1341\"]\n",
    "c = list(map(lambda x: x[-4:],l))"
   ]
  },
  {
   "cell_type": "code",
   "execution_count": 163,
   "metadata": {
    "colab": {},
    "colab_type": "code",
    "id": "kkRB7CVnez1-"
   },
   "outputs": [],
   "source": [
    "def name_format(person):\n",
    "    return (\"Mr. \" if person[3] == \"M\" else \"Ms. \") + person[0] + \" \" + person[1]\n"
   ]
  },
  {
   "cell_type": "code",
   "execution_count": 164,
   "metadata": {
    "colab": {},
    "colab_type": "code",
    "id": "M5SnLugbez1-"
   },
   "outputs": [],
   "source": [
    "a = [\"Laura Moser 50 F\".split(),\n",
    "\"Ted Moser 50 M\".split(),\n",
    "    \"Abert Bustle 20 M\".split()]"
   ]
  },
  {
   "cell_type": "code",
   "execution_count": 165,
   "metadata": {},
   "outputs": [
    {
     "name": "stdout",
     "output_type": "stream",
     "text": [
      "['Ms. Laura Moser', 'Mr. Ted Moser', 'Mr. Abert Bustle']\n"
     ]
    }
   ],
   "source": [
    "print(list(map(name_format,a)))"
   ]
  },
  {
   "cell_type": "code",
   "execution_count": 160,
   "metadata": {
    "colab": {},
    "colab_type": "code",
    "id": "nFrYM3ZFez1_",
    "outputId": "9d7d319e-c30b-4346-d317-f540bb19dfa6"
   },
   "outputs": [
    {
     "name": "stdout",
     "output_type": "stream",
     "text": [
      "['Laura', 'Moser', '50', 'F']\n",
      "['Abert', 'Bustle', '20', 'M']\n",
      "['Ted', 'Moser', '50', 'M']\n"
     ]
    }
   ],
   "source": [
    "from operator import itemgetter\n",
    "# itemgetter gets the value at given positions\n",
    "print(*sorted(a,key=itemgetter(3,0)),sep=\"\\n\")"
   ]
  },
  {
   "cell_type": "markdown",
   "metadata": {
    "colab": {},
    "colab_type": "code",
    "id": "IXzRB81wez1_"
   },
   "source": [
    "## ***Practice***\n"
   ]
  },
  {
   "cell_type": "code",
   "execution_count": 176,
   "metadata": {
    "colab": {},
    "colab_type": "code",
    "id": "opvcTSAEez1_"
   },
   "outputs": [],
   "source": [
    "def twoSum(nums, target):\n",
    "    # use one value multiple times\n",
    "    a = dict()\n",
    "    b = list()\n",
    "    for ind,val in enumerate(nums):\n",
    "        a[val]=ind\n",
    "        if a.get(target-val) is not None:\n",
    "            b.append([a[target-val],ind])\n",
    "            \n",
    "    return b\n",
    "\n",
    "def twoSum2(nums,target):\n",
    "    nums = sorted(nums)\n",
    "    i,j = 0,len(nums)-1\n",
    "    res = []\n",
    "    while i<j:\n",
    "        if nums[i]+nums[j]==target:\n",
    "            res.append([nums[i],nums[j]])\n",
    "            i+=1\n",
    "            j-=1\n",
    "        elif nums[i]+nums[j]<target:\n",
    "            i+=1\n",
    "        elif nums[i]+nums[j]>target:\n",
    "            j-=1\n",
    "    return res"
   ]
  },
  {
   "cell_type": "code",
   "execution_count": 170,
   "metadata": {},
   "outputs": [
    {
     "data": {
      "text/plain": [
       "[[1, 2], [0, 3]]"
      ]
     },
     "execution_count": 170,
     "metadata": {},
     "output_type": "execute_result"
    }
   ],
   "source": [
    "twoSum([1,2,3,4],5)"
   ]
  },
  {
   "cell_type": "code",
   "execution_count": 177,
   "metadata": {},
   "outputs": [
    {
     "data": {
      "text/plain": [
       "[[1, 4], [2, 3]]"
      ]
     },
     "execution_count": 177,
     "metadata": {},
     "output_type": "execute_result"
    }
   ],
   "source": [
    "twoSum2([1,2,3,4],5)"
   ]
  },
  {
   "cell_type": "markdown",
   "metadata": {},
   "source": [
    "Given a list of integers, write a function to \n",
    "\n",
    "1. put all the odd numbers before even numbers, \n",
    "\n",
    "2. sort all the even numbers ascending, even numbers descending"
   ]
  },
  {
   "cell_type": "code",
   "execution_count": 321,
   "metadata": {},
   "outputs": [
    {
     "data": {
      "text/plain": [
       "[2, 4, 5, 3, 1]"
      ]
     },
     "execution_count": 321,
     "metadata": {},
     "output_type": "execute_result"
    }
   ],
   "source": [
    "def sort_odd_and_even(nums_str):\n",
    "    if isinstance(nums_str,str):\n",
    "        l = [int(i) for i in nums_str]\n",
    "    l = sorted(l,reverse=True)\n",
    "    for i in range(len(l)):\n",
    "        if l[i]%2==0:\n",
    "            l.insert(0,l.pop(i))\n",
    "    return(l)\n",
    "\n",
    "sort_odd_and_even(\"12345\")"
   ]
  },
  {
   "cell_type": "code",
   "execution_count": 112,
   "metadata": {},
   "outputs": [
    {
     "name": "stdout",
     "output_type": "stream",
     "text": [
      "4 3\n"
     ]
    }
   ],
   "source": [
    "a,b = 3,4\n",
    "a,b = b,a\n",
    "print(a,b)"
   ]
  },
  {
   "cell_type": "code",
   "execution_count": 3,
   "metadata": {},
   "outputs": [
    {
     "name": "stdout",
     "output_type": "stream",
     "text": [
      "[1, 2, 3, 4]\n",
      "[2, 3, 4]\n",
      "[3, 4]\n"
     ]
    }
   ],
   "source": [
    "a=[1,2,3,4]\n",
    "a.append(0)\n",
    "a.pop()\n",
    "print(a)\n",
    "a.pop(0)\n",
    "print(a)\n",
    "a.pop(0)\n",
    "print(a)"
   ]
  },
  {
   "cell_type": "code",
   "execution_count": 133,
   "metadata": {},
   "outputs": [],
   "source": [
    "a,b = sorted((3,4))"
   ]
  },
  {
   "cell_type": "code",
   "execution_count": 130,
   "metadata": {},
   "outputs": [],
   "source": [
    "a,b = sorted(((3,4),(4,6)),key  =  lambda x: x[0])"
   ]
  },
  {
   "cell_type": "code",
   "execution_count": 279,
   "metadata": {},
   "outputs": [
    {
     "data": {
      "text/plain": [
       "10"
      ]
     },
     "execution_count": 279,
     "metadata": {},
     "output_type": "execute_result"
    }
   ],
   "source": [
    "def find_2_largest(nums):\n",
    "    if len(nums)<2: return None\n",
    "    if nums[0]>nums[1]:\n",
    "        max_1 = nums[0]\n",
    "        max_2 = nums[1]\n",
    "    else: \n",
    "        max_1,max_2 = nums[1],nums[2]\n",
    "    for i in nums:\n",
    "        if i >= max_1:\n",
    "            max_2=max_1\n",
    "            max_1=i\n",
    "        elif i >= max_2:\n",
    "            max_2=i\n",
    "    return max_2\n",
    "find_2_largest([1,2,3,4,10,11])"
   ]
  },
  {
   "cell_type": "markdown",
   "metadata": {},
   "source": [
    "正确答案是[9,9,9,9]，而不是[0,3,6,9]产生的原因是Python的闭包的后期绑定导致的，这意味着在闭包中的变量是在内部函数被调用的时候被查找的，因为，最后函数被调用的时候，for循环已经完成, i 的值最后是3,因此每一个返回值的i都是3,所以最后的结果是[9,9,9,9]\n",
    "\n",
    "\n",
    "闭包：在函数内部再定义一个函数，并且这个函数用到了外边函数的变量，那么将这个函数以及用到的一些变量称之为闭包。"
   ]
  },
  {
   "cell_type": "code",
   "execution_count": 41,
   "metadata": {},
   "outputs": [
    {
     "name": "stdout",
     "output_type": "stream",
     "text": [
      "9\n",
      "9\n",
      "9\n",
      "9\n"
     ]
    }
   ],
   "source": [
    "def m(x):\n",
    "    def multi():\n",
    "        return [lambda x : i*x for i in range(4)]\n",
    "    #a list of functions\n",
    "    return multi()\n",
    "for i in m(3):\n",
    "    print(i(3))"
   ]
  },
  {
   "cell_type": "code",
   "execution_count": 280,
   "metadata": {},
   "outputs": [
    {
     "name": "stdout",
     "output_type": "stream",
     "text": [
      "[9, 9, 9, 9]\n"
     ]
    }
   ],
   "source": [
    "def multi():\n",
    "    return [lambda x : i*x for i in range(4)]\n",
    "print([m(3) for m in multi()])\n"
   ]
  },
  {
   "cell_type": "code",
   "execution_count": 214,
   "metadata": {},
   "outputs": [
    {
     "data": {
      "text/plain": [
       "[('D', 5), ('S', 2), ('F', 1)]"
      ]
     },
     "execution_count": 214,
     "metadata": {},
     "output_type": "execute_result"
    }
   ],
   "source": [
    "from collections import Counter\n",
    "tmp = Counter(\"SDFSDDDD\")\n",
    "tmp.most_common()"
   ]
  },
  {
   "cell_type": "markdown",
   "metadata": {},
   "source": [
    "1. `append` adds an element to a list, and `extend` concatenates the first list with another list (or another iterable, not necessarily a list.)"
   ]
  },
  {
   "cell_type": "markdown",
   "metadata": {},
   "source": [
    "reduce(function, iterable, initial value)\n",
    "\n",
    "reindex conform DataFrame to new index with optional filling logic, placing\n",
    "NA/NaN in locations having no value in the previous index.\n",
    "\n",
    "https://stackoverflow.com/questions/31593201/how-are-iloc-ix-and-loc-different:\n",
    "\n",
    "loc gets rows (or columns) with particular labels from the index.\n",
    "iloc gets rows (or columns) at particular positions in the index (so it only takes integers).\n",
    "\n",
    "    "
   ]
  },
  {
   "cell_type": "markdown",
   "metadata": {},
   "source": [
    "In this case, s.iloc[:3] returns us the first 3 rows (since it treats 3 as a position) and s.loc[:3] returns us the first 8 rows (since it treats 3 as a label):\n",
    "\n"
   ]
  },
  {
   "cell_type": "code",
   "execution_count": 335,
   "metadata": {},
   "outputs": [
    {
     "name": "stdout",
     "output_type": "stream",
     "text": [
      "49   NaN\n",
      "48   NaN\n",
      "47   NaN\n",
      "46   NaN\n",
      "45   NaN\n",
      "1    NaN\n",
      "2    NaN\n",
      "3    NaN\n",
      "dtype: float64\n",
      "\n",
      "\n",
      "49   NaN\n",
      "48   NaN\n",
      "47   NaN\n",
      "dtype: float64\n"
     ]
    }
   ],
   "source": [
    "import pandas as pd\n",
    "s = pd.Series(np.nan, index=[49,48,47,46,45, 1, 2, 3, 4, 5])\n",
    "print(s.loc[:3,])\n",
    "print('\\n')\n",
    "print(s.iloc[:3,])"
   ]
  },
  {
   "cell_type": "code",
   "execution_count": 346,
   "metadata": {},
   "outputs": [
    {
     "data": {
      "text/plain": [
       "1"
      ]
     },
     "execution_count": 346,
     "metadata": {},
     "output_type": "execute_result"
    }
   ],
   "source": [
    "a= [1,2]\n",
    "len(a[:1])"
   ]
  },
  {
   "cell_type": "code",
   "execution_count": 351,
   "metadata": {},
   "outputs": [
    {
     "data": {
      "text/plain": [
       "[-1, 1, 3, 4.5, 7, 10]"
      ]
     },
     "execution_count": 351,
     "metadata": {},
     "output_type": "execute_result"
    }
   ],
   "source": [
    "def mergeSort(l):\n",
    "    if len(l)==1:\n",
    "        return l\n",
    "    else:\n",
    "        mid = len(l)//2\n",
    "        # divide\n",
    "        x = mergeSort(l[:mid])\n",
    "        y = mergeSort(l[mid:])\n",
    "        \n",
    "        # conquer\n",
    "        z = [None]*(len(x)+len(y))\n",
    "        i=j=k=0\n",
    "        \n",
    "        while i<len(x) and j<len(y):\n",
    "            if x[i]<y[j]:\n",
    "                z[k]=x[i]\n",
    "                k+=1\n",
    "                i+=1\n",
    "            else:\n",
    "                z[k]=y[j]\n",
    "                k+=1\n",
    "                j+=1\n",
    "        if i<len(x):\n",
    "            z[k:]=x[i:]\n",
    "        if j<len(y):\n",
    "            z[k:]=y[j:]\n",
    "        \n",
    "        return z\n",
    "        \n",
    "        \n",
    "mergeSort([3,1,10,7,4.5,-1])"
   ]
  },
  {
   "cell_type": "markdown",
   "metadata": {},
   "source": [
    "***LEETCODE 2***"
   ]
  },
  {
   "cell_type": "markdown",
   "metadata": {},
   "source": [
    "int(True) 等于 1\n",
    "\n",
    "None or 7 等于 7\n",
    "\n",
    "用 carry 记录是否应该进位"
   ]
  },
  {
   "cell_type": "code",
   "execution_count": 2,
   "metadata": {},
   "outputs": [],
   "source": [
    "class ListNode(object):\n",
    "    def __init__(self,x):\n",
    "        self.val=x\n",
    "        self.next=None\n",
    "\n",
    "\n",
    "class Solution:\n",
    "    # add two numbers in place\n",
    "    def addTwoNumbers(self, l1: ListNode, l2: ListNode, carry=0) -> ListNode:\n",
    "        if not (l1 or l2): return ListNode(1) if carry else None\n",
    "        l1, l2 = l1 or ListNode(0), l2 or ListNode(0)\n",
    "        val = l1.val + l2.val + carry\n",
    "        l1.val, l1.next = val % 10, self.addTwoNumbers(l1.next, l2.next, val > 9)\n",
    "        return l1"
   ]
  },
  {
   "cell_type": "code",
   "execution_count": 29,
   "metadata": {},
   "outputs": [
    {
     "name": "stdout",
     "output_type": "stream",
     "text": [
      "4\n",
      "3\n",
      "5\n"
     ]
    }
   ],
   "source": [
    "def sum_two_reversed_linked_list(l1,l2,carry=0):\n",
    "    if not (l1 or l2):\n",
    "        return ListNode(1) if carry else None\n",
    "    l1, l2 = l1 or ListNode(0), l2 or ListNode(0)\n",
    "    val = l1.val + l2.val+carry\n",
    "    l1.val, l1.next = val%10, sum_two_reversed_linked_list(l1.next, l2.next, val>9)\n",
    "    return l1\n",
    "\n",
    "\n",
    "def print_node(head):\n",
    "    while head:\n",
    "        print(head.val)\n",
    "        head = head.next\n",
    "a= ListNode(1)\n",
    "a.next=ListNode(9)\n",
    "a.next.next=ListNode(4)\n",
    "b = ListNode(3)\n",
    "b.next=ListNode(4)\n",
    "result = sum_two_reversed_linked_list(a,b)\n",
    "print_node(result)"
   ]
  },
  {
   "cell_type": "code",
   "execution_count": 45,
   "metadata": {},
   "outputs": [
    {
     "data": {
      "text/plain": [
       "3"
      ]
     },
     "execution_count": 45,
     "metadata": {},
     "output_type": "execute_result"
    }
   ],
   "source": [
    "a.next.val"
   ]
  },
  {
   "cell_type": "code",
   "execution_count": 42,
   "metadata": {},
   "outputs": [],
   "source": [
    "a = ListNode(0)\n",
    "b = ListNode(3)\n",
    "a.next = b"
   ]
  },
  {
   "cell_type": "code",
   "execution_count": 56,
   "metadata": {},
   "outputs": [],
   "source": [
    "def sum_two_reversed_linked_list(a,b):\n",
    "    head = prev = ListNode(0)\n",
    "    carry = 0\n",
    "\n",
    "    while a or b or carry:\n",
    "        if a is not None: \n",
    "            carry = a.val+carry\n",
    "            a = a.next\n",
    "        if b is not None: \n",
    "            carry = b.val + carry\n",
    "            b = b.next\n",
    "        \n",
    "        carry, val = divmod(carry,10) \n",
    "        prev.next = prev = ListNode(val)\n",
    "    return head.next\n",
    "    \n",
    "a= ListNode(1)\n",
    "a.next=ListNode(9)\n",
    "a.next.next=ListNode(4)\n",
    "b = ListNode(3)\n",
    "b.next=ListNode(4)\n",
    "result = sum_two_reversed_linked_list(a,b) #435\n",
    "print_node(result)"
   ]
  },
  {
   "cell_type": "code",
   "execution_count": 57,
   "metadata": {
    "collapsed": true
   },
   "outputs": [
    {
     "name": "stdout",
     "output_type": "stream",
     "text": [
      "1 1 1 1\n",
      "2 1 1 2\n",
      "3 1 1 3\n",
      "4 1 1 4\n",
      "5 1 1 5\n",
      "6 1 1 6\n",
      "7 1 1 7\n",
      "8 1 1 8\n",
      "9 1 1 9\n",
      "10 1 1 10\n",
      "2 1 2 1\n",
      "2 2 2 2\n",
      "3 2 2 3\n",
      "4 2 2 4\n",
      "5 2 2 5\n",
      "6 2 2 6\n",
      "7 2 2 7\n",
      "8 2 2 8\n",
      "9 2 2 9\n",
      "10 2 2 10\n",
      "3 1 3 1\n",
      "3 2 3 2\n",
      "3 3 3 3\n",
      "4 3 3 4\n",
      "5 3 3 5\n",
      "6 3 3 6\n",
      "7 3 3 7\n",
      "8 3 3 8\n",
      "9 3 3 9\n",
      "10 3 3 10\n",
      "4 1 4 1\n",
      "4 2 4 2\n",
      "4 3 4 3\n",
      "4 4 4 4\n",
      "5 4 4 5\n",
      "6 4 4 6\n",
      "7 4 4 7\n",
      "8 4 4 8\n",
      "9 4 4 9\n",
      "10 4 4 10\n",
      "5 1 5 1\n",
      "5 2 5 2\n",
      "5 3 5 3\n",
      "5 4 5 4\n",
      "5 5 5 5\n",
      "6 5 5 6\n",
      "7 5 5 7\n",
      "8 5 5 8\n",
      "9 5 5 9\n",
      "10 5 5 10\n",
      "6 1 6 1\n",
      "6 2 6 2\n",
      "6 3 6 3\n",
      "6 4 6 4\n",
      "6 5 6 5\n",
      "6 6 6 6\n",
      "7 6 6 7\n",
      "8 6 6 8\n",
      "9 6 6 9\n",
      "10 6 6 10\n",
      "7 1 7 1\n",
      "7 2 7 2\n",
      "7 3 7 3\n",
      "7 4 7 4\n",
      "7 5 7 5\n",
      "7 6 7 6\n",
      "7 7 7 7\n",
      "8 7 7 8\n",
      "9 7 7 9\n",
      "10 7 7 10\n",
      "8 1 8 1\n",
      "8 2 8 2\n",
      "8 3 8 3\n",
      "8 4 8 4\n",
      "8 5 8 5\n",
      "8 6 8 6\n",
      "8 7 8 7\n",
      "8 8 8 8\n",
      "9 8 8 9\n",
      "10 8 8 10\n",
      "9 1 9 1\n",
      "9 2 9 2\n",
      "9 3 9 3\n",
      "9 4 9 4\n",
      "9 5 9 5\n",
      "9 6 9 6\n",
      "9 7 9 7\n",
      "9 8 9 8\n",
      "9 9 9 9\n",
      "10 9 9 10\n",
      "10 1 10 1\n",
      "10 2 10 2\n",
      "10 3 10 3\n",
      "10 4 10 4\n",
      "10 5 10 5\n",
      "10 6 10 6\n",
      "10 7 10 7\n",
      "10 8 10 8\n",
      "10 9 10 9\n",
      "10 10 10 10\n"
     ]
    }
   ],
   "source": [
    "#%%\n",
    "# find all pairs positive integer solutions to a^3 + b^3 = c^3 + d^3 from 1 to 1000\n",
    "\n",
    "def find_sol():\n",
    "    result = dict()\n",
    "    for a in range(1,11):\n",
    "        for b in range(1,11):\n",
    "            result[a**3+b**3]=(a,b)\n",
    "    \n",
    "    for c in range(1,11):\n",
    "        for d in range(1,11):\n",
    "            if result.get(c**3+d**3):\n",
    "                    print(*result[c**3+d**3],c,d)\n",
    "\n",
    "find_sol()"
   ]
  },
  {
   "cell_type": "code",
   "execution_count": null,
   "metadata": {},
   "outputs": [],
   "source": [
    "def threeSum(nums, target):\n",
    "    nums = sorted(nums)\n",
    "    \n",
    "    solution = set()\n",
    "    \n",
    "    if len(set(nums))==1 and 0 in nums and len(nums)>2: return ([0,0,0])\n",
    "    \n",
    "    i=0\n",
    "    while i < n-2\n",
    "        num = nums[i]\n",
    "        left = i+1\n",
    "        right = n-1\n",
    "        \n",
    "        while left < right:\n",
    "            if nums[left]+nums[right]+num == target:\n",
    "                solution.add((left, right,))"
   ]
  },
  {
   "cell_type": "code",
   "execution_count": 364,
   "metadata": {},
   "outputs": [
    {
     "data": {
      "text/plain": [
       "[(3, -2, -1), (1, -2, 1), (2, -3, 1)]"
      ]
     },
     "execution_count": 364,
     "metadata": {},
     "output_type": "execute_result"
    }
   ],
   "source": [
    "#%%\n",
    "\n",
    "def threeSum(nums,target):\n",
    "    \"\"\"\n",
    "    find three numbers that add up to target\n",
    "    :type nums: List[int]\n",
    "    :rtype: List[List[int]]\n",
    "    \"\"\"\n",
    "    # timsort: O(nlogn)\n",
    "    nums.sort()\n",
    "\n",
    "    # Stored val: Really fast\n",
    "    n = len(nums)\n",
    "\n",
    "    # Hash table\n",
    "    solutions = set()\n",
    "\n",
    "    # O(n): hash tables are really fast :)\n",
    "    unique_set = set(nums)\n",
    "    # covers a lot of edge cases with 2 memory lookups and 1 hash so it's worth the time\n",
    "    if len(unique_set) == 1 and 0 in unique_set and len(nums) > 2:\n",
    "        return [[0, 0, 0]]\n",
    "\n",
    "    # O(n) but a little faster than enumerate.\n",
    "    i = 0\n",
    "    while i < n - 2:\n",
    "        num = nums[i]\n",
    "\n",
    "        left = i + 1\n",
    "        right = n - 1\n",
    "\n",
    "        # O(1/2k) where k is n-i? Not 100% sure about this one\n",
    "        while left < right:\n",
    "            # I think its worth the memory alloc for the vars to not have to hit the list index twice. Not sure\n",
    "            # how much faster it really is. Might save two lookups per cycle. \n",
    "            left_num = nums[left]\n",
    "            right_num = nums[right]\n",
    "            s = num + left_num + right_num  # check if current sum is 0\n",
    "            if s == 0:\n",
    "                # add to the solution set only if this triplet is unique\n",
    "                # Hash lookup\n",
    "                solutions.add((right_num, num, left_num))\n",
    "                right -= 1\n",
    "                left += 1\n",
    "            elif s > 0:\n",
    "                right -= 1\n",
    "            else:\n",
    "                left += 1\n",
    "        i += 1\n",
    "    return list(solutions)\n",
    "\n",
    "threeSum([1,2,3,-1,-2,-3,1,1])"
   ]
  },
  {
   "cell_type": "code",
   "execution_count": 63,
   "metadata": {},
   "outputs": [
    {
     "name": "stdout",
     "output_type": "stream",
     "text": [
      "hello:jason\n",
      "hello jason\n"
     ]
    }
   ],
   "source": [
    "#%%\n",
    "def atoi(arr):\n",
    "    t = 0\n",
    "    tmp = arr[::-1]\n",
    "    ind = 1\n",
    "    for i in tmp:\n",
    "        t=ind*(ord(i)-ord('0'))+t\n",
    "        ind*=10\n",
    "    return t\n",
    "#%%\n",
    "import fileinput\n",
    "\n",
    "# for line in fileinput.input():\n",
    "#     pass  \n",
    "#%%\n",
    "a = input(\"hello:\")\n",
    "print(\" \".join((\"hello\",a)))    \n",
    "#%%\n"
   ]
  },
  {
   "cell_type": "markdown",
   "metadata": {},
   "source": [
    "**Best time to buy and sell stocks**\n",
    "\n"
   ]
  },
  {
   "cell_type": "code",
   "execution_count": null,
   "metadata": {},
   "outputs": [],
   "source": [
    "prices = [1, 3, 10,5,2, 7]\n",
    "\n",
    "def best_time_stocks(prices):\n",
    "    res,m = 0, float('inf')\n",
    "    for p in prices:\n",
    "        m = min(m,p)\n",
    "        res = max(res,p-m)\n",
    "    return res"
   ]
  },
  {
   "cell_type": "code",
   "execution_count": 376,
   "metadata": {},
   "outputs": [
    {
     "name": "stdout",
     "output_type": "stream",
     "text": [
      "2\n",
      "4\n",
      "3\n",
      "3\n",
      "4\n",
      "2\n"
     ]
    }
   ],
   "source": [
    "#%%\n",
    "def check_duplicate(nums):\n",
    "\n",
    "    a = set(nums)\n",
    "    if len(a) > len(nums):\n",
    "        return True\n",
    "\n",
    "#%%\n",
    "# DFS on a matrix-represented graph\n",
    "\n",
    "#%% reverse a linked list in place\n",
    "class Node:\n",
    "    def __init__(self,data):\n",
    "        self.data = data\n",
    "        self.next = None\n",
    "\n",
    "class LinkedList:\n",
    "    \n",
    "    def __init__(self):\n",
    "        self.head = None\n",
    "    \n",
    "    def reverse(self):\n",
    "        current = self.head\n",
    "        prev = None\n",
    "        while current is not None:\n",
    "            next = current.next\n",
    "            current.next = prev\n",
    "            prev = current\n",
    "            current = next\n",
    "        self.head = prev\n",
    "\n",
    "        \n",
    "    def push(self,new_data):\n",
    "        new_node = Node(new_data)\n",
    "        new_node.next=self.head\n",
    "        self.head=new_node\n",
    "        \n",
    "    def printList(self):\n",
    "        tmp = self.head\n",
    "        while tmp is not None:\n",
    "            print(tmp.data)\n",
    "            tmp = tmp.next\n",
    "\n",
    "a= LinkedList()\n",
    "a.push(3)\n",
    "a.push(4)\n",
    "a.push(2)\n",
    "a.printList()\n",
    "a.reverse()\n",
    "a.printList()"
   ]
  },
  {
   "cell_type": "markdown",
   "metadata": {},
   "source": [
    "BST in Python"
   ]
  },
  {
   "cell_type": "code",
   "execution_count": 70,
   "metadata": {},
   "outputs": [
    {
     "name": "stdout",
     "output_type": "stream",
     "text": [
      "1\n",
      "3\n"
     ]
    }
   ],
   "source": [
    "class TreeNode:\n",
    "    def __init__(self,data):\n",
    "        self.left = None\n",
    "        self.right = None\n",
    "        self.data = data\n",
    "\n",
    "    def search(self,key):\n",
    "        tmp = self.data\n",
    "        if tmp is None:\n",
    "            print('not found')\n",
    "            return None\n",
    "        if tmp == key:\n",
    "            print('found')\n",
    "            return tmp\n",
    "        else:\n",
    "            if tmp > key:\n",
    "                return self.left.search(key)\n",
    "            else:\n",
    "                return self.right.search(key)\n",
    "    \n",
    "    def insert(self,data):\n",
    "        if self.data is None:\n",
    "            self.data = data\n",
    "        elif self.data>data:\n",
    "            if self.left is not None:\n",
    "                self.left.insert(self.data)\n",
    "            else:\n",
    "                self.left = TreeNode(data)\n",
    "        elif self.data<data:\n",
    "            if self.right is not None:\n",
    "                self.right.insert(self.data)\n",
    "            else:\n",
    "                self.right = TreeNode(data)\n",
    "\n",
    "    def in_order_print(self):\n",
    "        if self.data is None: return\n",
    "        else:\n",
    "            if self.left is not None:\n",
    "                self.left.in_order_print()\n",
    "            print(self.data)\n",
    "            if self.right is not None:\n",
    "                self.right.in_order_print()\n",
    "    \n",
    "a = TreeNode(3)\n",
    "a.insert(1)\n",
    "a.in_order_print()"
   ]
  },
  {
   "cell_type": "code",
   "execution_count": null,
   "metadata": {},
   "outputs": [],
   "source": [
    " \n",
    "#%% find the middle node of the linked list using fast or slow pointers\n",
    "# borrowing the definition             \n",
    "def find_middle(linkedlist):\n",
    "    i = j = linkedlist.head\n",
    "    while j.next is not None:\n",
    "        i = i.next\n",
    "        j = j.next.next\n",
    "    return i.data"
   ]
  },
  {
   "cell_type": "code",
   "execution_count": 22,
   "metadata": {},
   "outputs": [
    {
     "data": {
      "text/plain": [
       "11"
      ]
     },
     "execution_count": 22,
     "metadata": {},
     "output_type": "execute_result"
    }
   ],
   "source": [
    "#%% implement square root of x\n",
    "def floorsqrt(x):\n",
    "    # consider corner case first\n",
    "    if x==1 or x==0: return x\n",
    "    \n",
    "    start = 1\n",
    "    end = x\n",
    "    \n",
    "    while start <= end:\n",
    "        mid = (start+end)//2 #// floor division, % modulo, ** exponentiation\n",
    "        tmp = mid*mid\n",
    "        if tmp == x: \n",
    "            return mid\n",
    "        elif tmp < x: \n",
    "            start = mid + 1\n",
    "            ans = mid\n",
    "        elif tmp > x: \n",
    "            end = mid - 1\n",
    "    return ans\n",
    "\n",
    "#%% copy matrix with dimension row*col\n",
    "rows, cols = 4,5\n",
    "copy = [[0 for _ in range(cols)] for _ in range(rows)]\n",
    "floorsqrt(121)"
   ]
  },
  {
   "cell_type": "code",
   "execution_count": 23,
   "metadata": {},
   "outputs": [
    {
     "data": {
      "text/plain": [
       "'sabcd'"
      ]
     },
     "execution_count": 23,
     "metadata": {},
     "output_type": "execute_result"
    }
   ],
   "source": [
    "#%% bitwise operation give bitmask for strings\n",
    "mask = 0\n",
    "word = 'apple'\n",
    "for c in set(word):\n",
    "    mask |= (1 << (ord(c) - ord('a')))\n",
    "\n",
    "\n",
    "# |= is equivalent to mask= mask | given. | is bitwise or\n",
    "# to determine if two strings have common characters, perform & on the two bitmasks, if the result\n",
    "#  is none-zero then the two strings have common characters \n",
    "        \n",
    "#%% longest substring w/o repeating characters\n",
    "\n",
    "\n",
    "def long_substr(strs):\n",
    "    # record the latest appearance of a certain character\n",
    "    chars = dict()\n",
    "    \n",
    "    start,end,max_substr_here,max_substr_so_far = 0,0,0,0    \n",
    "\n",
    "    \n",
    "    for i,x in enumerate(strs):\n",
    "        if x not in chars:\n",
    "            chars[x]=i \n",
    "            max_substr_here+=1\n",
    "        else:\n",
    "            start = max(chars[x],start)\n",
    "            max_substr_here=i-start\n",
    "            chars[x]=i\n",
    "            \n",
    "        if max_substr_here>max_substr_so_far:\n",
    "            max_substr_so_far=max_substr_here\n",
    "            end = i\n",
    "\n",
    "    return strs[(end-max_substr_so_far+1):end+1]\n",
    "            \n",
    "\n",
    "long_substr(\"cccabsabcddedddd\")\n",
    "#%% tree traversal: in order, post order, pre order. \n",
    "\n",
    "#%% Validate that a binary tree is a BST."
   ]
  },
  {
   "cell_type": "code",
   "execution_count": 383,
   "metadata": {},
   "outputs": [
    {
     "ename": "NameError",
     "evalue": "name 'query' is not defined",
     "output_type": "error",
     "traceback": [
      "\u001b[0;31m---------------------------------------------------------------------------\u001b[0m",
      "\u001b[0;31mNameError\u001b[0m                                 Traceback (most recent call last)",
      "\u001b[0;32m<ipython-input-383-d9ec822d33d4>\u001b[0m in \u001b[0;36m<module>\u001b[0;34m()\u001b[0m\n\u001b[1;32m      1\u001b[0m \u001b[0;31m##################################################\u001b[0m\u001b[0;34m\u001b[0m\u001b[0;34m\u001b[0m\u001b[0m\n\u001b[1;32m      2\u001b[0m \u001b[0;32mimport\u001b[0m \u001b[0mpandas\u001b[0m \u001b[0;32mas\u001b[0m \u001b[0mpd\u001b[0m\u001b[0;34m\u001b[0m\u001b[0m\n\u001b[0;32m----> 3\u001b[0;31m \u001b[0mdf\u001b[0m \u001b[0;34m=\u001b[0m \u001b[0mpd\u001b[0m\u001b[0;34m.\u001b[0m\u001b[0mread_sql\u001b[0m\u001b[0;34m(\u001b[0m\u001b[0mquery\u001b[0m\u001b[0;34m.\u001b[0m\u001b[0mstatement\u001b[0m\u001b[0;34m,\u001b[0m \u001b[0mquery\u001b[0m\u001b[0;34m.\u001b[0m\u001b[0msession\u001b[0m\u001b[0;34m.\u001b[0m\u001b[0mbind\u001b[0m\u001b[0;34m)\u001b[0m\u001b[0;34m\u001b[0m\u001b[0m\n\u001b[0m\u001b[1;32m      4\u001b[0m \u001b[0;31m# http://pandas.pydata.org/pandas-docs/stable/reference/api/pandas.read_sql.html\u001b[0m\u001b[0;34m\u001b[0m\u001b[0;34m\u001b[0m\u001b[0m\n",
      "\u001b[0;31mNameError\u001b[0m: name 'query' is not defined"
     ]
    }
   ],
   "source": [
    "##################################################\n",
    "import pandas as pd\n",
    "df = pd.read_sql(query.statement, query.session.bind)\n",
    "# http://pandas.pydata.org/pandas-docs/stable/reference/api/pandas.read_sql.html"
   ]
  },
  {
   "cell_type": "code",
   "execution_count": 74,
   "metadata": {},
   "outputs": [
    {
     "name": "stdout",
     "output_type": "stream",
     "text": [
      "1\n",
      "2\n"
     ]
    }
   ],
   "source": [
    "print(5%2)\n",
    "print(5//2)"
   ]
  },
  {
   "cell_type": "markdown",
   "metadata": {},
   "source": [
    "**Find median in two sorted arrays**"
   ]
  },
  {
   "cell_type": "markdown",
   "metadata": {},
   "source": [
    "Start partitioning the two arrays into two groups of halves (not two parts, but both partitioned should have same number of elements). Reach a condition such that, every element in the first half is less than or equal to every element in the second half.\n",
    "\n",
    " the median is the (n + m + 1) / 2 smallest element among the two arrays\n",
    "\n",
    "If, all the elements in the first half are less than (or equal) to all elements in the second half, in case of odd numbers in total, just calculate the maximum between the last two elements in the first half, and this will lead us to the (n + m + 1) / 2 smallest element among the two arrays\n",
    "\n",
    "To make two halves, make the partition such that the index that partitioning array A[] + the index that partitioning array B[] are equal to the total number of elements plus one divided by 2, i.e. (n + m + 1) / 2 (+1 is, if the total number of elements is odd).\n",
    "\n",
    "First, define two variables : min_index and max_index, and initialize min_index to 0, and max_index to the length of the smaller array. In these below examples A[] is the smaller array.\n",
    "To partition A[], use the formula (min_index + max_index) / 2 and insert it to a variable i. To partition B[], use the formula (n + m + 1) / 2 – i and insert it to a variable j.\n",
    "the variable i means the number of elements to be inserted from A[] into the first half, and j means the number of elements to be inserted from B[] into the first half, the rest of the elements will be inserted into the second half.\n",
    "\n",
    "Running time log(min(m,n))"
   ]
  },
  {
   "cell_type": "markdown",
   "metadata": {},
   "source": [
    "Do a binary search on the smaller array for the value that splits the two arrays into half with 'half' defined as '*every element in the first half is less than or equal to every element in the second half.*'\n",
    "\n"
   ]
  },
  {
   "cell_type": "code",
   "execution_count": 36,
   "metadata": {},
   "outputs": [
    {
     "data": {
      "text/plain": [
       "2"
      ]
     },
     "execution_count": 36,
     "metadata": {},
     "output_type": "execute_result"
    }
   ],
   "source": [
    "len((1,2))"
   ]
  },
  {
   "cell_type": "markdown",
   "metadata": {},
   "source": [
    "||i-1|i||\n",
    "\n",
    "||j-1|j||"
   ]
  },
  {
   "cell_type": "code",
   "execution_count": 37,
   "metadata": {},
   "outputs": [],
   "source": [
    "def find_median_sorted_array(num1,num2):\n",
    "    # make sure that a is smaller than b in terms of length\n",
    "    a, b = *sorted((nums1, nums2), key=len), \n",
    "    n,m=len(a) ,len(b)\n",
    "     \n",
    "    min_index,max_index = 0,n \n",
    "       \n",
    "    while (min_index <= max_index) : \n",
    "      \n",
    "        i = (min_index + max_index) // 2\n",
    "        j =((n + m + 1) // 2) - i\n",
    "       \n",
    "        # if i = n, it means that elements from a[] in the second half is an empty set.\n",
    "        # if j = 0, it means that elements from b[] in the first half is an empty set\n",
    "        # searching on right \n",
    "        if (b[j - 1] > a[i] and i < n and j > 0): \n",
    "            min_index = i + 1\n",
    "                   \n",
    "        # if i = 0, it means that elements from a[] in the first half is an empty  \n",
    "        # ...\n",
    "        # searching on left \n",
    "        elif (b[j] < a[i- 1] and i > 0 and j < m ): \n",
    "            max_index = i - 1\n",
    "           \n",
    "        # we have found the \n",
    "        # desired halves. \n",
    "        else : \n",
    "          \n",
    "            # if we don't have any elements in the first half from a[] \n",
    "            # so we returning the last element in b[] from the first half. \n",
    "            if (i == 0) : \n",
    "                median = b[j - 1] \n",
    "                   \n",
    "            # if we don't have any elements in the first half from b[]\n",
    "            \n",
    "            elif (j == 0) : \n",
    "                median = a[i - 1]          \n",
    "            else : \n",
    "                median = maximum(a[i - 1], b[j - 1])  \n",
    "                \n",
    "            break\n",
    "          \n",
    "      \n",
    "       \n",
    "    # if number of elements is odd there is one middle element\n",
    "   \n",
    "\n",
    "    if ((n + m) % 2 == 1) : \n",
    "        return median \n",
    "    # otherwise... \n",
    "    # elements from a[] in the second half is an empty set.  \n",
    "    if (i == n) : \n",
    "        return ((median + b[j]) / 2.0) \n",
    "   \n",
    "    # Elements from b[] in the second half is an empty set. \n",
    "    if (j == m) : \n",
    "        return ((median + a[i]) / 2.0) \n",
    "       \n",
    "    return ((median + minimum(a[i], b[j])) / 2.0) "
   ]
  },
  {
   "cell_type": "code",
   "execution_count": 46,
   "metadata": {},
   "outputs": [],
   "source": [
    "?zip"
   ]
  },
  {
   "cell_type": "markdown",
   "metadata": {},
   "source": [
    "If no parameters are passed, zip() returns an empty iterator\n",
    "If a single iterable is passed, zip() returns an iterator of 1-tuples. Meaning, the number of elements in each tuple is 1.\n",
    "If multiple iterables are passed, ith tuple contains ith item in each iterables. Suppose, two iterables are passed; one iterable containing 3 and other containing 5 elements. Then, the returned iterator has 3 tuples. It's because iterator stops when shortest iterable is exhaused."
   ]
  },
  {
   "cell_type": "code",
   "execution_count": 75,
   "metadata": {},
   "outputs": [
    {
     "name": "stdout",
     "output_type": "stream",
     "text": [
      "[('f', 'f', 'f'), ('l', 'l', 'l'), ('o', 'o', 'l')]\n"
     ]
    }
   ],
   "source": [
    "strs = ['flower','flow','fll']\n",
    "print([c for c in zip(*strs)])\n",
    "def longestCommonPrefix(strs) -> str:\n",
    "    r = [len(set(c)) == 1 for c in zip(*strs)] + [0]\n",
    "    return strs[0][:r.index(0)] if strs else ''"
   ]
  },
  {
   "cell_type": "code",
   "execution_count": 30,
   "metadata": {},
   "outputs": [],
   "source": [
    "def validParentheses(strs):\n",
    "    stack, d = [], {'{': '}', '[': ']', '(': ')'}\n",
    "    for p in s:\n",
    "        if p in '{[(':\n",
    "            stack += [p]\n",
    "        # check if stack is empty first\n",
    "        # short circuit\n",
    "        elif not (stack and d[stack.pop()] == p):\n",
    "            return False\n",
    "    return not stack"
   ]
  },
  {
   "cell_type": "code",
   "execution_count": 76,
   "metadata": {},
   "outputs": [],
   "source": [
    "class ListNode:\n",
    "    def __init__(self, x):\n",
    "        self.val = x\n",
    "        self.next = None\n",
    "def mergeTwoLists(l1, l2):\n",
    "    if l1 and l2:\n",
    "        if l1.val > l2.val: l1, l2 = l2, l1\n",
    "        l1.next = self.mergeTwoLists(l1.next, l2)\n",
    "    return l1"
   ]
  },
  {
   "cell_type": "code",
   "execution_count": 74,
   "metadata": {},
   "outputs": [
    {
     "data": {
      "text/plain": [
       "20"
      ]
     },
     "execution_count": 74,
     "metadata": {},
     "output_type": "execute_result"
    }
   ],
   "source": [
    "x=10\n",
    "x<<=1\n",
    "x"
   ]
  },
  {
   "cell_type": "code",
   "execution_count": 61,
   "metadata": {},
   "outputs": [],
   "source": [
    "def removeDuplicates(nums) -> int:\n",
    "    for i in range(len(nums)-1, 0, -1):\n",
    "        if nums[i] == nums[i-1]: nums.pop(i)\n",
    "    return len(nums)"
   ]
  },
  {
   "cell_type": "code",
   "execution_count": 77,
   "metadata": {},
   "outputs": [
    {
     "data": {
      "text/plain": [
       "[0, 1, 1, 2, 2, 3]"
      ]
     },
     "execution_count": 77,
     "metadata": {},
     "output_type": "execute_result"
    }
   ],
   "source": [
    "[i+j for i in range(3) for j in range(2)]"
   ]
  },
  {
   "cell_type": "code",
   "execution_count": 79,
   "metadata": {},
   "outputs": [
    {
     "name": "stdout",
     "output_type": "stream",
     "text": [
      "0\n",
      "1\n",
      "1\n",
      "2\n",
      "2\n",
      "3\n"
     ]
    }
   ],
   "source": [
    "for i in range(3):\n",
    "    for j in range(2):\n",
    "        print(i+j)"
   ]
  },
  {
   "cell_type": "markdown",
   "metadata": {},
   "source": [
    "数组完成排序后，我们可以放置两个指针 i 和 j，其中 i 是慢指针，而 j 是快指针。只要 nums[i] = nums[j]，我们就增加 j 以跳过重复项。当我们遇到 nums[j] != nums[i]时，跳过重复项的运行已经结束，因此我们必须把它（nums[j]）的值复制到 nums[i + 1]。然后递增 i，接着我们将再次重复相同的过程，直到 j 到达数组的末尾为止"
   ]
  },
  {
   "cell_type": "code",
   "execution_count": 60,
   "metadata": {},
   "outputs": [],
   "source": [
    "def removeDuplicates( nums) -> int:\n",
    "    i = 0\n",
    "    for j in range(1, len(nums)):\n",
    "        if nums[j] != nums[i]:\n",
    "            nums[i + 1] = nums[j]\n",
    "            i += 1\n",
    "    return i + 1 if nums else 0"
   ]
  },
  {
   "cell_type": "markdown",
   "metadata": {},
   "source": [
    "让被除数不断减去除数，直到不够减。每次减完后除数翻倍，并记录当前为初始除数的几倍（用 t 表示倍数 time），若发现不够减且 t 不为 1 则让除数变为原来的一半， t 也减半\n",
    "\n",
    "a << b 相当于 a * 2^b，a >> b 相当于 a // 2^b\n",
    "\n",
    "异或操作 ^ 可以判断俩数字是否异号\n"
   ]
  },
  {
   "cell_type": "code",
   "execution_count": 31,
   "metadata": {},
   "outputs": [],
   "source": [
    "def divide(dividend: int, divisor: int) -> int:\n",
    "    a, b, r, t = abs(dividend), abs(divisor), 0, 1\n",
    "    while a >= b or t > 1:\n",
    "        if a >= b: \n",
    "            r += t \n",
    "            a -= b\n",
    "            t += t\n",
    "            b += b\n",
    "        else: \n",
    "            t=t/2\n",
    "            b=b/2\n",
    "    return min((-r, r)[dividend ^ divisor >= 0], (1 << 31) - 1)"
   ]
  },
  {
   "cell_type": "code",
   "execution_count": 32,
   "metadata": {},
   "outputs": [
    {
     "ename": "KeyboardInterrupt",
     "evalue": "",
     "output_type": "error",
     "traceback": [
      "\u001b[0;31m---------------------------------------------------------------------------\u001b[0m",
      "\u001b[0;31mKeyboardInterrupt\u001b[0m                         Traceback (most recent call last)",
      "\u001b[0;32m<ipython-input-32-f5800b3bbc3a>\u001b[0m in \u001b[0;36m<module>\u001b[0;34m()\u001b[0m\n\u001b[0;32m----> 1\u001b[0;31m \u001b[0mdivide\u001b[0m\u001b[0;34m(\u001b[0m\u001b[0;36m10\u001b[0m\u001b[0;34m,\u001b[0m\u001b[0;36m2\u001b[0m\u001b[0;34m)\u001b[0m\u001b[0;34m\u001b[0m\u001b[0m\n\u001b[0m",
      "\u001b[0;32m<ipython-input-31-498c8975b7fb>\u001b[0m in \u001b[0;36mdivide\u001b[0;34m(dividend, divisor)\u001b[0m\n\u001b[1;32m      8\u001b[0m             \u001b[0mb\u001b[0m \u001b[0;34m+=\u001b[0m \u001b[0mb\u001b[0m\u001b[0;34m\u001b[0m\u001b[0m\n\u001b[1;32m      9\u001b[0m         \u001b[0;32melse\u001b[0m\u001b[0;34m:\u001b[0m\u001b[0;34m\u001b[0m\u001b[0m\n\u001b[0;32m---> 10\u001b[0;31m             \u001b[0mt\u001b[0m\u001b[0;34m*=\u001b[0m\u001b[0;36m2\u001b[0m\u001b[0;34m;\u001b[0m \u001b[0mb\u001b[0m\u001b[0;34m*=\u001b[0m\u001b[0;36m2\u001b[0m\u001b[0;34m\u001b[0m\u001b[0m\n\u001b[0m\u001b[1;32m     11\u001b[0m     \u001b[0;32mreturn\u001b[0m \u001b[0mmin\u001b[0m\u001b[0;34m(\u001b[0m\u001b[0;34m(\u001b[0m\u001b[0;34m-\u001b[0m\u001b[0mr\u001b[0m\u001b[0;34m,\u001b[0m \u001b[0mr\u001b[0m\u001b[0;34m)\u001b[0m\u001b[0;34m[\u001b[0m\u001b[0mdividend\u001b[0m \u001b[0;34m^\u001b[0m \u001b[0mdivisor\u001b[0m \u001b[0;34m>=\u001b[0m \u001b[0;36m0\u001b[0m\u001b[0;34m]\u001b[0m\u001b[0;34m,\u001b[0m \u001b[0;34m(\u001b[0m\u001b[0;36m1\u001b[0m \u001b[0;34m<<\u001b[0m \u001b[0;36m31\u001b[0m\u001b[0;34m)\u001b[0m \u001b[0;34m-\u001b[0m \u001b[0;36m1\u001b[0m\u001b[0;34m)\u001b[0m\u001b[0;34m\u001b[0m\u001b[0m\n",
      "\u001b[0;31mKeyboardInterrupt\u001b[0m: "
     ]
    }
   ],
   "source": [
    "divide(10,2)"
   ]
  },
  {
   "cell_type": "code",
   "execution_count": 77,
   "metadata": {},
   "outputs": [],
   "source": [
    "def lengthOfLastWord( s: str) -> int:\n",
    "        return len(s.strip(' ').split(' ')[-1])"
   ]
  },
  {
   "cell_type": "markdown",
   "metadata": {},
   "source": [
    "It's easier to merge the array from end to beginning"
   ]
  },
  {
   "cell_type": "code",
   "execution_count": 34,
   "metadata": {},
   "outputs": [],
   "source": [
    "def merge_sorted_array(self, nums1, m, nums2, n: int) -> None:\n",
    "    \"\"\"\n",
    "    Do not return anything, modify nums1 in-place instead.\n",
    "    \"\"\"\n",
    "    while n > 0:\n",
    "        if m and nums1[m-1] > nums2[n-1]:\n",
    "            nums1[m+n-1], m, n = nums1[m-1], m-1, n\n",
    "        else:\n",
    "            nums1[m+n-1], m, n = nums2[n - 1], m, n-1"
   ]
  },
  {
   "cell_type": "code",
   "execution_count": 82,
   "metadata": {},
   "outputs": [],
   "source": [
    "def max_depth(root):\n",
    "    if not root:\n",
    "        return 0\n",
    "    else:\n",
    "        return max(max_depth(root.left),max_depth(root.right))+1"
   ]
  },
  {
   "cell_type": "code",
   "execution_count": 85,
   "metadata": {},
   "outputs": [],
   "source": [
    "def maxDepth(root) -> int:\n",
    "        return max(map(maxDepth,(root.left, root.right))) + 1 if root else 0"
   ]
  },
  {
   "cell_type": "markdown",
   "metadata": {},
   "source": [
    "利用map函数递归左右节点获取最大值，map函数会将参数一所指向的函数应用于参数二里的所有对象并返回所有结果构成的迭代器"
   ]
  },
  {
   "cell_type": "markdown",
   "metadata": {},
   "source": [
    "Best time to buy and sell stocks if only one transaction\n",
    "\n",
    "Essentially find the max and min of the time series s.t. max appear later than min"
   ]
  },
  {
   "cell_type": "code",
   "execution_count": 88,
   "metadata": {},
   "outputs": [],
   "source": [
    "def maxProfit(prices) -> int:\n",
    "    # record the min value that have appeared so far\n",
    "    profit, min_price = 0, float('inf')\n",
    "    for p in prices:\n",
    "        profit, min_price = max(profit, p - min_price), min(min_price, p)\n",
    "    return r"
   ]
  },
  {
   "cell_type": "markdown",
   "metadata": {},
   "source": [
    "Best time to buy and sell stocks if multiple transactions"
   ]
  },
  {
   "cell_type": "code",
   "execution_count": null,
   "metadata": {},
   "outputs": [],
   "source": [
    "def max_profit(prices):\n",
    "    profit=0\n",
    "    for i,x in enumerate(prices):\n",
    "        diff = prices[i]-prices[i-1]\n",
    "        if diff>0:\n",
    "            profit =+ diff\n",
    "\n",
    "def max_profit(prices):\n",
    "    return sum(b-a for a,b in zip(prices,prices[1:]) if b>1)"
   ]
  },
  {
   "cell_type": "markdown",
   "metadata": {},
   "source": [
    "***LEETCODE 124***\n",
    "\n",
    "Starting from a node, there're three different kinds of paths: on the node and through the node\n",
    "\n",
    "As part of a path, there're two different kinds of paths: on the node\n"
   ]
  },
  {
   "cell_type": "code",
   "execution_count": 36,
   "metadata": {},
   "outputs": [
    {
     "name": "stdout",
     "output_type": "stream",
     "text": [
      "-inf\n"
     ]
    }
   ],
   "source": [
    "result = float('-inf')\n",
    "def max_path_sum(root):\n",
    "    if not root:\n",
    "        return 0\n",
    "    l,r = max_path_sum(root.left), max_path_sum(root.right)\n",
    "    \n",
    "    max_one_end = max(max(max(l,r))+root.val, root.val)\n",
    "    max_path = max(max_one_end,l+r+root.val)\n",
    "    result = max(result,max_path)\n",
    "    return result\n",
    "\n",
    "print(result)"
   ]
  },
  {
   "cell_type": "markdown",
   "metadata": {},
   "source": [
    "TODO: DFS, BFS\n",
    "\n",
    "There are three types of depth-first traversal: pre-order, in-order, and post-order."
   ]
  },
  {
   "cell_type": "code",
   "execution_count": 39,
   "metadata": {},
   "outputs": [
    {
     "name": "stdout",
     "output_type": "stream",
     "text": [
      "3\n",
      "4\n",
      "6\n",
      "5\n"
     ]
    }
   ],
   "source": [
    "class Node:\n",
    "    \n",
    "    def __init__(self,data):\n",
    "        self.data = data\n",
    "        self.left = None\n",
    "        self.right = None\n",
    "        \n",
    "def pre_order(node):\n",
    "    if node is None:\n",
    "        return\n",
    "\n",
    "    print(node.data)\n",
    "    pre_order(node.left)\n",
    "    pre_order(node.right)\n",
    "    \n",
    "    \n",
    "a = Node(3)\n",
    "a.left = Node(4)\n",
    "a.right = Node(5)\n",
    "a.left.right = Node(6)\n",
    "pre_order(a)"
   ]
  },
  {
   "cell_type": "markdown",
   "metadata": {},
   "source": [
    "## Leetcode"
   ]
  },
  {
   "cell_type": "markdown",
   "metadata": {},
   "source": [
    "### Max Area\n",
    "Given n non-negative integers $a_1$, $a_2$, ..., $a_n$, where each represents a point at coordinate (i, ai). n vertical lines are drawn such that the two endpoints of line i is at (i, $a_i$) and (i, 0). Find two lines, which together with x-axis forms a container, such that the container contains the most water.\n",
    "\n",
    "Note: You may not slant the container and n is at least 2.\n"
   ]
  },
  {
   "cell_type": "code",
   "execution_count": 96,
   "metadata": {},
   "outputs": [],
   "source": [
    "'''\n",
    "\n",
    "        Solution:\n",
    "\n",
    "        The volume would not increase if you decrease length without increasing the height \n",
    "'''\n",
    "\n",
    "def maxArea(self, height):\n",
    "        \"\"\"\n",
    "        :type height: List[int]\n",
    "        :rtype: int\n",
    "        \"\"\"\n",
    "        left, right, maxArea = 0, len(height) - 1, 0 \n",
    "\n",
    "        while left < right:\n",
    "            maxArea = max(maxArea, min(height[left], height[right])*(right-left))\n",
    "            if height[left] < height[right]:\n",
    "                left += 1\n",
    "            else:\n",
    "                right -= 1\n",
    "\n",
    "        return maxArea \n",
    "\n",
    "# Space : O(1)\n",
    "# Time: O(N)"
   ]
  },
  {
   "cell_type": "markdown",
   "metadata": {},
   "source": [
    "### Three Sum Closest\n",
    "Given an array nums of n integers and an integer target, find three integers in nums such that the sum is closest to target. Return the sum of the three integers. You may assume that each input would have exactly one solution.\n",
    "\n",
    "Example:\n",
    "\n",
    "Given array nums = [-1, 2, 1, -4], and target = 1.\n",
    "\n",
    "The sum that is closest to the target is 2. (-1 + 2 + 1 = 2).\n",
    "\n",
    "Solution:\n",
    "\n",
    "Sort the array. Binary search on the rest of the array by fixating one of the three sum"
   ]
  },
  {
   "cell_type": "code",
   "execution_count": null,
   "metadata": {},
   "outputs": [],
   "source": [
    "class Solution(object):\n",
    "    def threeSumClosest(self, nums, target):\n",
    "        \"\"\"\n",
    "        :type nums: List[int]\n",
    "        :type target: int\n",
    "        :rtype: int\n",
    "        \"\"\"\n",
    "        \n",
    "        nums.sort()\n",
    "        result, min_diff = 0, float('inf')\n",
    "        \n",
    "        for index in range(len(nums)-1):\n",
    "                left = index + 1\n",
    "                right = len(nums) - 1\n",
    "                # O(N)\n",
    "                while left < right:\n",
    "                        currSum = nums[index] + nums[left] + nums[right]\n",
    "                        diff = abs(target - currSum)\n",
    "\n",
    "                        if diff == 0:\n",
    "                                return target\n",
    "                        if diff < min_diff:\n",
    "                                min_diff = diff\n",
    "                                result = currSum\n",
    "\n",
    "                        if currSum < target:\n",
    "                                left += 1\n",
    "                        else:\n",
    "                                right -= 1\n",
    "        return result\n",
    "\n",
    "\n",
    "# Space: O(1)\n",
    "# Time: O(N^2)"
   ]
  },
  {
   "cell_type": "markdown",
   "metadata": {},
   "source": [
    "### Merge two lists"
   ]
  },
  {
   "cell_type": "code",
   "execution_count": null,
   "metadata": {},
   "outputs": [],
   "source": [
    "def merge2Lists(l1, l2):\n",
    "        head = point = ListNode(0)\n",
    "        while l1 and l2:\n",
    "                if l1.val <= l2.val:\n",
    "                        point.next = ListNode(l1.val)\n",
    "                        l1 = l1.next\n",
    "                else:\n",
    "                        point.next = ListNode(l2.val)\n",
    "                        l2 = l2.next\n",
    "                point = point.next\n",
    "\n",
    "        if l1:\n",
    "                point.next = l1\n",
    "        else:\n",
    "                point.next = l2\n",
    "        return head.next"
   ]
  },
  {
   "cell_type": "markdown",
   "metadata": {},
   "source": [
    "### Divide"
   ]
  },
  {
   "cell_type": "code",
   "execution_count": 56,
   "metadata": {},
   "outputs": [],
   "source": [
    "def divide(dividend, divisor):\n",
    "        # minus dividend by divisor multiple times until smaller\n",
    "        positive = (dividend ^ divisor)>=0\n",
    "        dividend,divisor=abs(dividend),abs(divisor)\n",
    "        temp, i = divisor, 1\n",
    "        res=0\n",
    "\n",
    "        while dividend >= divisor and temp>1:\n",
    "            if dividend >= temp:\n",
    "                dividend -= temp\n",
    "                res += i\n",
    "                i <<= 1\n",
    "                temp <<= 1\n",
    "            else:\n",
    "                i >>= 1\n",
    "                temp >>= 1\n",
    "        if not positive:\n",
    "            res = -res\n",
    "        return min(max(-2147483648, res), 2147483647)"
   ]
  },
  {
   "cell_type": "code",
   "execution_count": 58,
   "metadata": {},
   "outputs": [
    {
     "data": {
      "text/plain": [
       "0"
      ]
     },
     "execution_count": 58,
     "metadata": {},
     "output_type": "execute_result"
    }
   ],
   "source": [
    "divide(10,20)"
   ]
  },
  {
   "cell_type": "markdown",
   "metadata": {},
   "source": [
    "### Sort Pivoted Array\n",
    "\n",
    "Suppose an array sorted in ascending order is rotated at some pivot unknown to you beforehand.\n",
    "\n",
    "(i.e., [0,1,2,4,5,6,7] might become [4,5,6,7,0,1,2]).\n",
    "\n",
    "You are given a target value to search. If found in the array return its index, otherwise return -1.\n",
    "\n",
    "You may assume no duplicate exists in the array.\n",
    "\n",
    "Your algorithm's runtime complexity must be in the order of O(log n).\n"
   ]
  },
  {
   "cell_type": "code",
   "execution_count": null,
   "metadata": {},
   "outputs": [],
   "source": [
    "class Solution(object):\n",
    "    def search(self, nums, target):\n",
    "        \"\"\"\n",
    "        :type nums: List[int]\n",
    "        :type target: int\n",
    "        :rtype: int\n",
    "        \"\"\"\n",
    "        if not nums:\n",
    "                return -1\n",
    "\n",
    "        left, right = 0, len(nums) - 1\n",
    "\n",
    "        while left <= right:\n",
    "                mid = (left + right) / 2\n",
    "                if nums[mid] == target:\n",
    "                        return mid\n",
    "\n",
    "                if nums[left] <= nums[mid]:\n",
    "                        if target >= nums[left] and target <= nums[mid]:\n",
    "                                right = mid - 1\n",
    "                        else:\n",
    "                                left = mid + 1\n",
    "                else:\n",
    "                        if target >= nums[mid] and target <= nums[right]:\n",
    "                                left = mid + 1\n",
    "                        else:\n",
    "                                right = mid - 1\n",
    "\n",
    "        return -1\n",
    "\n",
    "\n",
    "class Solution(object):\n",
    "    def search(self, nums, target):\n",
    "        \"\"\"\n",
    "        :type nums: List[int]\n",
    "        :type target: int\n",
    "        :rtype: int\n",
    "        \"\"\"\n",
    "\n",
    "        def searchRecursive(nums, left, right, target):\n",
    "                if left > right:\n",
    "                        return -1\n",
    "\n",
    "                mid = (left + right) / 2\n",
    "                if nums[mid] == target:\n",
    "                        return mid\n",
    "\n",
    "                if nums[left] <= nums[mid]:\n",
    "                        if nums[left] <= target < nums[mid]:\n",
    "                                return searchRecursive(nums, left, mid-1, target)\n",
    "                        else:\n",
    "                                return searchRecursive(nums, mid+1, right, target)\n",
    "                else:\n",
    "                        if nums[mid] < target <= nums[right]:\n",
    "                                return searchRecursive(nums, mid+1, right, target)\n",
    "                        else:\n",
    "                                return searchRecursive(nums, left, mid-1, target)\n",
    "\n",
    "        return searchRecursive(nums, 0, len(nums)-1, target)"
   ]
  },
  {
   "cell_type": "markdown",
   "metadata": {},
   "source": [
    "### Permute"
   ]
  },
  {
   "cell_type": "code",
   "execution_count": 38,
   "metadata": {},
   "outputs": [],
   "source": [
    "def permute(nums):\n",
    "        \"\"\"\n",
    "        :type nums: List[int]\n",
    "        :rtype: List[List[int]]\n",
    "        \"\"\"\n",
    "        # base case\n",
    "        if nums == []:\n",
    "            return\n",
    "\n",
    "        # recursive\n",
    "        ans = []\n",
    "        for i, num in enumerate(nums):\n",
    "            tmp = []\n",
    "            tmp.append(num)\n",
    "            # fixate the first number and permute the rest\n",
    "            tmp = tmp + self.permute(nums[:i]+nums[i+1:])\n",
    "            ans.append(tmp)\n",
    "        return ans"
   ]
  },
  {
   "cell_type": "markdown",
   "metadata": {},
   "source": [
    "### Max sum array"
   ]
  },
  {
   "cell_type": "code",
   "execution_count": 60,
   "metadata": {},
   "outputs": [],
   "source": [
    "def maxSubArray(nums):\n",
    "        for i in range(1, len(nums)):\n",
    "                nums[i] = max(nums[i],nums[i]+nums[i-1])\n",
    "        return max(nums)"
   ]
  },
  {
   "cell_type": "code",
   "execution_count": 61,
   "metadata": {},
   "outputs": [
    {
     "data": {
      "text/plain": [
       "416"
      ]
     },
     "execution_count": 61,
     "metadata": {},
     "output_type": "execute_result"
    }
   ],
   "source": [
    "maxSubArray([1,2,3,410,-400])"
   ]
  },
  {
   "cell_type": "markdown",
   "metadata": {},
   "source": [
    "### Climb stairs"
   ]
  },
  {
   "cell_type": "code",
   "execution_count": null,
   "metadata": {},
   "outputs": [],
   "source": [
    "'''\n",
    "        You are climbing a stair case. It takes n steps to reach to the top.\n",
    "\n",
    "        Each time you can either climb 1 or 2 steps. In how many distinct ways can you climb to the top?\n",
    "\n",
    "        Note: Given n will be a positive integer.\n",
    "\n",
    "        Example 1:\n",
    "\n",
    "        Input: 2\n",
    "        Output: 2\n",
    "        Explanation: There are two ways to climb to the top.\n",
    "        1. 1 step + 1 step\n",
    "        2. 2 steps\n",
    "'''\n",
    "\n",
    "def climbStairs(n):\n",
    "        \"\"\"\n",
    "        :type n: int\n",
    "        :rtype: int\n",
    "        \"\"\"\n",
    "        if n == 0:\n",
    "                return 0\n",
    "\n",
    "        dp = [0]*n\n",
    "        dp[0], dp[1] = 1, 2\n",
    "\n",
    "        for index in range(2, n):\n",
    "                dp[index] = dp[index-1] + dp[index-2]\n",
    "        return dp[n-1]\n",
    "\n",
    "# Time: O(N)\n",
    "# Space: O(N)"
   ]
  },
  {
   "cell_type": "markdown",
   "metadata": {},
   "source": [
    "### Longest substring"
   ]
  },
  {
   "cell_type": "code",
   "execution_count": 75,
   "metadata": {},
   "outputs": [],
   "source": [
    "class Solution(object):\n",
    "    def lengthOfLongestSubstring(self, s):\n",
    "        if not s:\n",
    "            return 0\n",
    "\n",
    "        start, max_length, str_dict = 0, 0, {}\n",
    "\n",
    "        for i, num in enumerate(s):\n",
    "            # Need to have the following condition:\n",
    "            # start <= str_dict[num] to avoid edge case such as :\n",
    "            # \"tmmzuxt\"\n",
    "            if num in str_dict and start <= str_dict[num]:\n",
    "                #update pointer\n",
    "                start = str_dict[num] + 1\n",
    "            else:\n",
    "                max_length = max(max_length, i - start + 1)\n",
    "\n",
    "            str_dict[num] = i\n",
    "\n",
    "        return max_length\n",
    "    def lengthSubstr(self,s):\n",
    "        if not s:\n",
    "            return 0\n",
    "        start, max_len, str_dict = 0,0,{}\n",
    "        \n",
    "        for i, char in enumerate(s):\n",
    "            if char in str_dict:\n",
    "                start = max(start, str_dict[char]+1)\n",
    "            max_len = max(max_len,i-start+1)\n",
    "            \n",
    "            str_dict[char]=i\n",
    "        return max_len"
   ]
  },
  {
   "cell_type": "code",
   "execution_count": 80,
   "metadata": {},
   "outputs": [
    {
     "name": "stdout",
     "output_type": "stream",
     "text": [
      "6\n"
     ]
    }
   ],
   "source": [
    "a=Solution()\n",
    "#a.lengthOfLongestSubstring('TMMZUXT')\n",
    "print(a.lengthSubstr('TMMZUXTMMZKL12'))"
   ]
  },
  {
   "cell_type": "markdown",
   "metadata": {},
   "source": [
    "### Tree traversal"
   ]
  },
  {
   "cell_type": "code",
   "execution_count": 85,
   "metadata": {},
   "outputs": [],
   "source": [
    "class TreeNode:\n",
    "        def __init__(self,x):\n",
    "                self.val = x\n",
    "                self.left = None\n",
    "                self.right = None\n",
    "\n",
    "# recursion version:\n",
    "\n",
    "def in_order_traversal(root):\n",
    "        if not root:\n",
    "            return\n",
    "        else:\n",
    "            if root.left:\n",
    "                in_order_traversal(root.left)\n",
    "            print(root.val)\n",
    "            if root.right:\n",
    "                in_order_traversal(root.right)\n",
    "\n",
    "# iteration version: use stack to store the nodes to be explored"
   ]
  },
  {
   "cell_type": "code",
   "execution_count": 82,
   "metadata": {},
   "outputs": [],
   "source": [
    "def pre_order_traversal(root):\n",
    "    if root is None:\n",
    "        return []\n",
    "    queue, result = [root],[]\n",
    "    while queue:\n",
    "        node = queue.pop()\n",
    "        print(node.val)\n",
    "        if node.left is not None:\n",
    "            queue.append(node.left)\n",
    "        if node.right is not None:\n",
    "            queue.append(node.right)\n"
   ]
  },
  {
   "cell_type": "code",
   "execution_count": 102,
   "metadata": {},
   "outputs": [],
   "source": [
    "def in_order_traversal(root):\n",
    "\n",
    "        stack, result = [],[]\n",
    "\n",
    "        while True:\n",
    "                while root:\n",
    "                        stack.append(root)\n",
    "                        root = root.left\n",
    "                if not stack:\n",
    "                        return result\n",
    "                node = stack.pop()\n",
    "                result.append(node.val)\n",
    "                root = node.right\n",
    "\n",
    "        return result"
   ]
  },
  {
   "cell_type": "code",
   "execution_count": 95,
   "metadata": {},
   "outputs": [],
   "source": [
    "def in_order_traversal(root):\n",
    "        if root is None:\n",
    "                return []\n",
    "\n",
    "        # use root as the starting point\n",
    "        stack, result = [root],[]\n",
    "\n",
    "        while stack:\n",
    "                # visit root.left whenever it exists\n",
    "                if root.left:\n",
    "                        stack.append(root.left)\n",
    "                        root = root.left\n",
    "                else:                        \n",
    "                        node = stack.pop()\n",
    "                        result.append(node.val)\n",
    "\n",
    "                        if node.right:\n",
    "                                stack.append(node.right)\n",
    "                                root = node.right\n",
    "        return result"
   ]
  },
  {
   "cell_type": "code",
   "execution_count": 103,
   "metadata": {},
   "outputs": [
    {
     "data": {
      "text/plain": [
       "[1, 2, 2.5, 3, 7, 10]"
      ]
     },
     "execution_count": 103,
     "metadata": {},
     "output_type": "execute_result"
    }
   ],
   "source": [
    "a = TreeNode(3)\n",
    "a.left = TreeNode(2)\n",
    "a.left.right = TreeNode(2.5)\n",
    "a.left.left = TreeNode(1)\n",
    "a.right = TreeNode(10)\n",
    "a.right.left = TreeNode(7)\n",
    "in_order_traversal(a)"
   ]
  },
  {
   "cell_type": "markdown",
   "metadata": {},
   "source": [
    "### Longest consecutive sequence"
   ]
  },
  {
   "cell_type": "code",
   "execution_count": null,
   "metadata": {},
   "outputs": [],
   "source": [
    "'''\n",
    "        Given an unsorted array of integers, find the length of the longest consecutive elements sequence.\n",
    "\n",
    "        Your algorithm should run in O(n) complexity.\n",
    "\n",
    "        Example:\n",
    "\n",
    "        Input: [100, 4, 200, 1, 3, 2]\n",
    "        Output: 4\n",
    "        Explanation: The longest consecutive elements sequence is [1, 2, 3, 4]. Therefore its length is 4.\n",
    "'''\n",
    "\n",
    "class Solution(object):\n",
    "    def longestConsecutive(self, nums):\n",
    "        \"\"\"\n",
    "        :type nums: List[int]\n",
    "        :rtype: int\n",
    "        \"\"\"\n",
    "        result = 0\n",
    "        # take set\n",
    "        nums = set(nums)\n",
    "\n",
    "        for num in nums:\n",
    "                # find the minimum in the consecutive elements sequence\n",
    "                if num-1 not in nums:\n",
    "                        curr = num\n",
    "                        length = 1\n",
    "\n",
    "                        while curr+1 in nums:\n",
    "                                curr += 1\n",
    "                                length += 1\n",
    "                        result = max(result, length)\n",
    "        return result"
   ]
  },
  {
   "cell_type": "markdown",
   "metadata": {},
   "source": [
    "### Wordbreak"
   ]
  },
  {
   "cell_type": "markdown",
   "metadata": {},
   "source": [
    "Given a non-empty string s and a dictionary wordDict containing a list of non-empty words, determine if s can be segmented into a space-separated sequence of one or more dictionary words.\n",
    "\n",
    "Note:\n",
    "\n",
    "The same word in the dictionary may be reused multiple times in the segmentation.\n",
    "You may assume the dictionary does not contain duplicate words.\n",
    "Example 1:\n",
    "\n",
    "Input: s = \"leetcode\", wordDict = [\"leet\", \"code\"]\n",
    "Output: true\n",
    "Explanation: Return true because \"leetcode\" can be segmented as \"leet code\".\n"
   ]
  },
  {
   "cell_type": "code",
   "execution_count": 110,
   "metadata": {},
   "outputs": [],
   "source": [
    "class Solution(object):\n",
    "    def wordBreak(self, s, wordDict):\n",
    "        \"\"\"\n",
    "        :type s: str\n",
    "        :type wordDict: List[str]\n",
    "        :rtype: bool\n",
    "        \"\"\"\n",
    "        dp = [False for _ in range(len(s)+1)]\n",
    "        dp[0] = True\n",
    "        for i in range(len(s)):\n",
    "                # whether a smaller part of the string can be broken into two smaller pieces\n",
    "                for j in range(i, -1, -1):\n",
    "                        if dp[j] and s[j:i+1] in wordDict:\n",
    "                                dp[i+1] = True\n",
    "                                break\n",
    "        return dp[len(s)]     \n",
    "\n",
    "\n",
    "# Time: O(N^2)\n",
    "# Space: O(1)"
   ]
  },
  {
   "cell_type": "code",
   "execution_count": 53,
   "metadata": {},
   "outputs": [],
   "source": [
    "def getMaximumOutfit(outfits, money):\n",
    "    start, end, temp,result= 0, 0,0,0\n",
    "    for ind,x in enumerate(outfits):\n",
    "        temp+=x\n",
    "        end=ind+1\n",
    "        if temp > money:\n",
    "            while temp > money and start <= end:\n",
    "                temp -= outfits[start]\n",
    "                start+=1\n",
    "        result = max(result,end-start)\n",
    "    return result"
   ]
  },
  {
   "cell_type": "code",
   "execution_count": 54,
   "metadata": {},
   "outputs": [
    {
     "data": {
      "text/plain": [
       "4"
      ]
     },
     "execution_count": 54,
     "metadata": {},
     "output_type": "execute_result"
    }
   ],
   "source": [
    "getMaximumOutfit([2,3,5,1,1,2,1],5)"
   ]
  },
  {
   "cell_type": "markdown",
   "metadata": {},
   "source": [
    "### Has cycle"
   ]
  },
  {
   "cell_type": "code",
   "execution_count": 113,
   "metadata": {},
   "outputs": [],
   "source": [
    "def hasCycle(head):\n",
    "        slow = fast = head\n",
    "\n",
    "        while slow.next and fast.next:\n",
    "                fast = fast.next.next\n",
    "                slow = slow.next\n",
    "                if fast ==slow:\n",
    "                        return True\n",
    "\n",
    "        return False"
   ]
  }
 ],
 "metadata": {
  "colab": {
   "collapsed_sections": [
    "xEOKKbySezxy",
    "tmjh11HAezxz",
    "taFoU7brezyK",
    "eLKbgeE-ezyW",
    "D27nyQwOezyb",
    "nZ27HZp7ezyn",
    "FWyECK-1ezyq",
    "Aa9WR8lxezzF",
    "S7e9vTA-ezza",
    "Ghfee_V9ezzd",
    "LL-wMWwTezzz",
    "X40oj1qxezz1",
    "GcFrhpw8ez0C",
    "3qkivAYcez0E",
    "6DbYWjk7ez0H",
    "9jXwtB0bez0P",
    "IxvRUbScez0S",
    "Mxyanlp3ez0W",
    "m5IH3bjmez0Z",
    "uk7zKYY3ez0m",
    "SmUOJqghez0q",
    "Pbg3bEcOez0q",
    "kqCww-zPez0x",
    "cdbVk4dFez04",
    "lLnLASxyez08",
    "i27_Bcuiez1B",
    "hH-fhlGGez1B",
    "8Ww0JqCXez1D",
    "xTO-7UAuez1G",
    "DOH7zfZlez1I",
    "H5iV9Z-xez1J",
    "15f_lX4gez1J",
    "bEMU-oVaez1b",
    "5iMHc_B0ez1m",
    "f-FCv7roez1n",
    "LNV7juLSez1o",
    "ZR3OVzskez1s",
    "6YF5mefiez1u",
    "txea3dFvez1z",
    "dCJb3cNvez10",
    "WFmQZsd4ez12",
    "Eb5ntgFnez13",
    "ShlVoSP9ez14",
    "0WJsYfSsez14",
    "0s70plCuez15"
   ],
   "name": "python_note.ipynb",
   "provenance": [],
   "toc_visible": true,
   "version": "0.3.2"
  },
  "kernelspec": {
   "display_name": "Python 3",
   "language": "python",
   "name": "python3"
  },
  "language_info": {
   "codemirror_mode": {
    "name": "ipython",
    "version": 3
   },
   "file_extension": ".py",
   "mimetype": "text/x-python",
   "name": "python",
   "nbconvert_exporter": "python",
   "pygments_lexer": "ipython3",
   "version": "3.5.6"
  },
  "toc": {
   "base_numbering": 1,
   "nav_menu": {},
   "number_sections": true,
   "sideBar": true,
   "skip_h1_title": false,
   "title_cell": "Table of Contents",
   "title_sidebar": "Contents",
   "toc_cell": false,
   "toc_position": {
    "height": "calc(100% - 180px)",
    "left": "10px",
    "top": "150px",
    "width": "225.594px"
   },
   "toc_section_display": true,
   "toc_window_display": true
  }
 },
 "nbformat": 4,
 "nbformat_minor": 1
}
